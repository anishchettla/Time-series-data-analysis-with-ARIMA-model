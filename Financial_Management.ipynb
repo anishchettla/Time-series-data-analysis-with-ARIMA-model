{
  "cells": [
    {
      "cell_type": "markdown",
      "metadata": {
        "id": "view-in-github",
        "colab_type": "text"
      },
      "source": [
        "<a href=\"https://colab.research.google.com/github/anishchettla/Time-series-data-analysis-with-ARIMA-model/blob/main/Financial_Management.ipynb\" target=\"_parent\"><img src=\"https://colab.research.google.com/assets/colab-badge.svg\" alt=\"Open In Colab\"/></a>"
      ]
    },
    {
      "cell_type": "markdown",
      "source": [
        "\n",
        "\n",
        "#**Calculate the Hurdle rate /WACC for a listed firm**\n",
        "\n",
        "#**INDUSTRY: GEMS & JEWELLERY**\n",
        "\n",
        "\n",
        "\n"
      ],
      "metadata": {
        "id": "kmteFzNuBSMb"
      }
    },
    {
      "cell_type": "markdown",
      "source": [
        "# **Calculations of regression beta of compaines in Gems and Jewellery Industry**\n",
        "\n",
        "\n",
        "- **Darshan Orna Limited = dol**\n",
        "\n",
        "- **Radhika JewelTech Limited = rjl**\n",
        "\n",
        "- **Thangmayil Jewellery Limited = tjl**\n",
        "\n",
        "- **Goldiam International Limited = gil** \n",
        "\n",
        "\n",
        "\n",
        "\n",
        "\n"
      ],
      "metadata": {
        "id": "KX8AGzIFBTnv"
      }
    },
    {
      "cell_type": "code",
      "execution_count": null,
      "metadata": {
        "colab": {
          "base_uri": "https://localhost:8080/",
          "height": 792
        },
        "id": "TnxZdVvv8ry9",
        "outputId": "d5417e15-c59b-4026-ebe3-fd6607f2b6c2"
      },
      "outputs": [
        {
          "output_type": "stream",
          "name": "stdout",
          "text": [
            "Collecting yfinance\n",
            "  Downloading yfinance-0.1.70-py2.py3-none-any.whl (26 kB)\n",
            "Requirement already satisfied: pandas>=0.24.0 in /usr/local/lib/python3.7/dist-packages (from yfinance) (1.3.5)\n",
            "Requirement already satisfied: multitasking>=0.0.7 in /usr/local/lib/python3.7/dist-packages (from yfinance) (0.0.10)\n",
            "Collecting requests>=2.26\n",
            "  Downloading requests-2.27.1-py2.py3-none-any.whl (63 kB)\n",
            "\u001b[K     |████████████████████████████████| 63 kB 1.3 MB/s \n",
            "\u001b[?25hRequirement already satisfied: numpy>=1.15 in /usr/local/lib/python3.7/dist-packages (from yfinance) (1.21.6)\n",
            "Collecting lxml>=4.5.1\n",
            "  Downloading lxml-4.8.0-cp37-cp37m-manylinux_2_17_x86_64.manylinux2014_x86_64.manylinux_2_24_x86_64.whl (6.4 MB)\n",
            "\u001b[K     |████████████████████████████████| 6.4 MB 19.6 MB/s \n",
            "\u001b[?25hRequirement already satisfied: python-dateutil>=2.7.3 in /usr/local/lib/python3.7/dist-packages (from pandas>=0.24.0->yfinance) (2.8.2)\n",
            "Requirement already satisfied: pytz>=2017.3 in /usr/local/lib/python3.7/dist-packages (from pandas>=0.24.0->yfinance) (2022.1)\n",
            "Requirement already satisfied: six>=1.5 in /usr/local/lib/python3.7/dist-packages (from python-dateutil>=2.7.3->pandas>=0.24.0->yfinance) (1.15.0)\n",
            "Requirement already satisfied: charset-normalizer~=2.0.0 in /usr/local/lib/python3.7/dist-packages (from requests>=2.26->yfinance) (2.0.12)\n",
            "Requirement already satisfied: certifi>=2017.4.17 in /usr/local/lib/python3.7/dist-packages (from requests>=2.26->yfinance) (2021.10.8)\n",
            "Requirement already satisfied: urllib3<1.27,>=1.21.1 in /usr/local/lib/python3.7/dist-packages (from requests>=2.26->yfinance) (1.24.3)\n",
            "Requirement already satisfied: idna<4,>=2.5 in /usr/local/lib/python3.7/dist-packages (from requests>=2.26->yfinance) (2.10)\n",
            "Installing collected packages: requests, lxml, yfinance\n",
            "  Attempting uninstall: requests\n",
            "    Found existing installation: requests 2.23.0\n",
            "    Uninstalling requests-2.23.0:\n",
            "      Successfully uninstalled requests-2.23.0\n",
            "  Attempting uninstall: lxml\n",
            "    Found existing installation: lxml 4.2.6\n",
            "    Uninstalling lxml-4.2.6:\n",
            "      Successfully uninstalled lxml-4.2.6\n",
            "\u001b[31mERROR: pip's dependency resolver does not currently take into account all the packages that are installed. This behaviour is the source of the following dependency conflicts.\n",
            "google-colab 1.0.0 requires requests~=2.23.0, but you have requests 2.27.1 which is incompatible.\n",
            "datascience 0.10.6 requires folium==0.2.1, but you have folium 0.8.3 which is incompatible.\u001b[0m\n",
            "Successfully installed lxml-4.8.0 requests-2.27.1 yfinance-0.1.70\n"
          ]
        },
        {
          "output_type": "stream",
          "name": "stderr",
          "text": [
            "/usr/local/lib/python3.7/dist-packages/statsmodels/tools/_testing.py:19: FutureWarning: pandas.util.testing is deprecated. Use the functions in the public API at pandas.testing instead.\n",
            "  import pandas.util.testing as tm\n"
          ]
        },
        {
          "output_type": "error",
          "ename": "NameError",
          "evalue": "ignored",
          "traceback": [
            "\u001b[0;31m---------------------------------------------------------------------------\u001b[0m",
            "\u001b[0;31mNameError\u001b[0m                                 Traceback (most recent call last)",
            "\u001b[0;32m<ipython-input-1-612de2aafdac>\u001b[0m in \u001b[0;36m<module>\u001b[0;34m()\u001b[0m\n\u001b[1;32m      8\u001b[0m \u001b[0;32mimport\u001b[0m \u001b[0mseaborn\u001b[0m \u001b[0;32mas\u001b[0m \u001b[0msns\u001b[0m\u001b[0;34m\u001b[0m\u001b[0;34m\u001b[0m\u001b[0m\n\u001b[1;32m      9\u001b[0m \u001b[0;32mimport\u001b[0m \u001b[0mscipy\u001b[0m\u001b[0;34m.\u001b[0m\u001b[0mstats\u001b[0m \u001b[0;32mas\u001b[0m \u001b[0mstats\u001b[0m\u001b[0;34m\u001b[0m\u001b[0;34m\u001b[0m\u001b[0m\n\u001b[0;32m---> 10\u001b[0;31m \u001b[0mwarnings\u001b[0m\u001b[0;34m.\u001b[0m\u001b[0mfilterwarnings\u001b[0m\u001b[0;34m(\u001b[0m\u001b[0;34m\"ignore\"\u001b[0m\u001b[0;34m)\u001b[0m\u001b[0;34m\u001b[0m\u001b[0;34m\u001b[0m\u001b[0m\n\u001b[0m",
            "\u001b[0;31mNameError\u001b[0m: name 'warnings' is not defined"
          ]
        }
      ],
      "source": [
        "#Install required libraries\n",
        "!pip install yfinance\n",
        "import matplotlib.pyplot as plt\n",
        "import statsmodels.api as sm\n",
        "import yfinance as yf\n",
        "import pandas as pd\n",
        "import numpy as np\n",
        "import seaborn as sns\n",
        "import scipy.stats as stats\n",
        "warnings.filterwarnings(\"ignore\")"
      ]
    },
    {
      "cell_type": "markdown",
      "source": [
        "*`Historical Data of Darshan Orna Limited.`*"
      ],
      "metadata": {
        "id": "dpE8kTBU3uBb"
      }
    },
    {
      "cell_type": "code",
      "source": [
        "#Download stock prices for the security monthly data last 5 years\n",
        "dol_df = yf.download('DARSHANORNA.BO', \n",
        "                      start='2017-04-01', \n",
        "                      end='2021-03-31', \n",
        "                      progress=False,interval ='1mo'\n",
        ")\n",
        "dol_df.head()"
      ],
      "metadata": {
        "colab": {
          "base_uri": "https://localhost:8080/",
          "height": 238
        },
        "id": "108rXfBd3ed_",
        "outputId": "bc2fa5ee-02a1-49f6-ff4c-c176640bf575"
      },
      "execution_count": null,
      "outputs": [
        {
          "output_type": "execute_result",
          "data": {
            "text/plain": [
              "                 Open       High        Low      Close  Adj Close     Volume\n",
              "Date                                                                        \n",
              "2017-04-01  16.976191  24.428572  16.976191  24.428572  24.382305    50400.0\n",
              "2017-05-01  24.428572  29.952379  23.976191  28.571428  28.517315  2520000.0\n",
              "2017-06-01  28.571428  28.571428  28.571428  28.571428  28.517315    16800.0\n",
              "2017-07-01  28.571428  39.523808  27.428572  39.500000  39.425190   260400.0\n",
              "2017-08-01  39.523808  45.238094  39.523808  42.380951  42.300686   126000.0"
            ],
            "text/html": [
              "\n",
              "  <div id=\"df-7ce5682f-0550-41bc-b765-8fb724d8bb5b\">\n",
              "    <div class=\"colab-df-container\">\n",
              "      <div>\n",
              "<style scoped>\n",
              "    .dataframe tbody tr th:only-of-type {\n",
              "        vertical-align: middle;\n",
              "    }\n",
              "\n",
              "    .dataframe tbody tr th {\n",
              "        vertical-align: top;\n",
              "    }\n",
              "\n",
              "    .dataframe thead th {\n",
              "        text-align: right;\n",
              "    }\n",
              "</style>\n",
              "<table border=\"1\" class=\"dataframe\">\n",
              "  <thead>\n",
              "    <tr style=\"text-align: right;\">\n",
              "      <th></th>\n",
              "      <th>Open</th>\n",
              "      <th>High</th>\n",
              "      <th>Low</th>\n",
              "      <th>Close</th>\n",
              "      <th>Adj Close</th>\n",
              "      <th>Volume</th>\n",
              "    </tr>\n",
              "    <tr>\n",
              "      <th>Date</th>\n",
              "      <th></th>\n",
              "      <th></th>\n",
              "      <th></th>\n",
              "      <th></th>\n",
              "      <th></th>\n",
              "      <th></th>\n",
              "    </tr>\n",
              "  </thead>\n",
              "  <tbody>\n",
              "    <tr>\n",
              "      <th>2017-04-01</th>\n",
              "      <td>16.976191</td>\n",
              "      <td>24.428572</td>\n",
              "      <td>16.976191</td>\n",
              "      <td>24.428572</td>\n",
              "      <td>24.382305</td>\n",
              "      <td>50400.0</td>\n",
              "    </tr>\n",
              "    <tr>\n",
              "      <th>2017-05-01</th>\n",
              "      <td>24.428572</td>\n",
              "      <td>29.952379</td>\n",
              "      <td>23.976191</td>\n",
              "      <td>28.571428</td>\n",
              "      <td>28.517315</td>\n",
              "      <td>2520000.0</td>\n",
              "    </tr>\n",
              "    <tr>\n",
              "      <th>2017-06-01</th>\n",
              "      <td>28.571428</td>\n",
              "      <td>28.571428</td>\n",
              "      <td>28.571428</td>\n",
              "      <td>28.571428</td>\n",
              "      <td>28.517315</td>\n",
              "      <td>16800.0</td>\n",
              "    </tr>\n",
              "    <tr>\n",
              "      <th>2017-07-01</th>\n",
              "      <td>28.571428</td>\n",
              "      <td>39.523808</td>\n",
              "      <td>27.428572</td>\n",
              "      <td>39.500000</td>\n",
              "      <td>39.425190</td>\n",
              "      <td>260400.0</td>\n",
              "    </tr>\n",
              "    <tr>\n",
              "      <th>2017-08-01</th>\n",
              "      <td>39.523808</td>\n",
              "      <td>45.238094</td>\n",
              "      <td>39.523808</td>\n",
              "      <td>42.380951</td>\n",
              "      <td>42.300686</td>\n",
              "      <td>126000.0</td>\n",
              "    </tr>\n",
              "  </tbody>\n",
              "</table>\n",
              "</div>\n",
              "      <button class=\"colab-df-convert\" onclick=\"convertToInteractive('df-7ce5682f-0550-41bc-b765-8fb724d8bb5b')\"\n",
              "              title=\"Convert this dataframe to an interactive table.\"\n",
              "              style=\"display:none;\">\n",
              "        \n",
              "  <svg xmlns=\"http://www.w3.org/2000/svg\" height=\"24px\"viewBox=\"0 0 24 24\"\n",
              "       width=\"24px\">\n",
              "    <path d=\"M0 0h24v24H0V0z\" fill=\"none\"/>\n",
              "    <path d=\"M18.56 5.44l.94 2.06.94-2.06 2.06-.94-2.06-.94-.94-2.06-.94 2.06-2.06.94zm-11 1L8.5 8.5l.94-2.06 2.06-.94-2.06-.94L8.5 2.5l-.94 2.06-2.06.94zm10 10l.94 2.06.94-2.06 2.06-.94-2.06-.94-.94-2.06-.94 2.06-2.06.94z\"/><path d=\"M17.41 7.96l-1.37-1.37c-.4-.4-.92-.59-1.43-.59-.52 0-1.04.2-1.43.59L10.3 9.45l-7.72 7.72c-.78.78-.78 2.05 0 2.83L4 21.41c.39.39.9.59 1.41.59.51 0 1.02-.2 1.41-.59l7.78-7.78 2.81-2.81c.8-.78.8-2.07 0-2.86zM5.41 20L4 18.59l7.72-7.72 1.47 1.35L5.41 20z\"/>\n",
              "  </svg>\n",
              "      </button>\n",
              "      \n",
              "  <style>\n",
              "    .colab-df-container {\n",
              "      display:flex;\n",
              "      flex-wrap:wrap;\n",
              "      gap: 12px;\n",
              "    }\n",
              "\n",
              "    .colab-df-convert {\n",
              "      background-color: #E8F0FE;\n",
              "      border: none;\n",
              "      border-radius: 50%;\n",
              "      cursor: pointer;\n",
              "      display: none;\n",
              "      fill: #1967D2;\n",
              "      height: 32px;\n",
              "      padding: 0 0 0 0;\n",
              "      width: 32px;\n",
              "    }\n",
              "\n",
              "    .colab-df-convert:hover {\n",
              "      background-color: #E2EBFA;\n",
              "      box-shadow: 0px 1px 2px rgba(60, 64, 67, 0.3), 0px 1px 3px 1px rgba(60, 64, 67, 0.15);\n",
              "      fill: #174EA6;\n",
              "    }\n",
              "\n",
              "    [theme=dark] .colab-df-convert {\n",
              "      background-color: #3B4455;\n",
              "      fill: #D2E3FC;\n",
              "    }\n",
              "\n",
              "    [theme=dark] .colab-df-convert:hover {\n",
              "      background-color: #434B5C;\n",
              "      box-shadow: 0px 1px 3px 1px rgba(0, 0, 0, 0.15);\n",
              "      filter: drop-shadow(0px 1px 2px rgba(0, 0, 0, 0.3));\n",
              "      fill: #FFFFFF;\n",
              "    }\n",
              "  </style>\n",
              "\n",
              "      <script>\n",
              "        const buttonEl =\n",
              "          document.querySelector('#df-7ce5682f-0550-41bc-b765-8fb724d8bb5b button.colab-df-convert');\n",
              "        buttonEl.style.display =\n",
              "          google.colab.kernel.accessAllowed ? 'block' : 'none';\n",
              "\n",
              "        async function convertToInteractive(key) {\n",
              "          const element = document.querySelector('#df-7ce5682f-0550-41bc-b765-8fb724d8bb5b');\n",
              "          const dataTable =\n",
              "            await google.colab.kernel.invokeFunction('convertToInteractive',\n",
              "                                                     [key], {});\n",
              "          if (!dataTable) return;\n",
              "\n",
              "          const docLinkHtml = 'Like what you see? Visit the ' +\n",
              "            '<a target=\"_blank\" href=https://colab.research.google.com/notebooks/data_table.ipynb>data table notebook</a>'\n",
              "            + ' to learn more about interactive tables.';\n",
              "          element.innerHTML = '';\n",
              "          dataTable['output_type'] = 'display_data';\n",
              "          await google.colab.output.renderOutput(dataTable, element);\n",
              "          const docLink = document.createElement('div');\n",
              "          docLink.innerHTML = docLinkHtml;\n",
              "          element.appendChild(docLink);\n",
              "        }\n",
              "      </script>\n",
              "    </div>\n",
              "  </div>\n",
              "  "
            ]
          },
          "metadata": {},
          "execution_count": 2
        }
      ]
    },
    {
      "cell_type": "markdown",
      "source": [
        "*`Historical Data of Radhika JewelTech Limited.`*"
      ],
      "metadata": {
        "id": "7jNHcSS732MW"
      }
    },
    {
      "cell_type": "code",
      "source": [
        "#Download stock prices for the security monthly data last 5 years\n",
        "rjl_df = yf.download('RADHIKAJWE.BO', \n",
        "                      start='2017-04-01', \n",
        "                      end='2021-03-31', \n",
        "                      progress=False,interval ='1mo'\n",
        ")\n",
        "rjl_df.head()"
      ],
      "metadata": {
        "colab": {
          "base_uri": "https://localhost:8080/",
          "height": 238
        },
        "id": "VGgHkgsQCu0C",
        "outputId": "553f8da1-c8a1-4d75-8ac2-fa3536b798a1"
      },
      "execution_count": null,
      "outputs": [
        {
          "output_type": "execute_result",
          "data": {
            "text/plain": [
              "                 Open       High   Low      Close  Adj Close     Volume\n",
              "Date                                                                   \n",
              "2017-04-01  12.500000  24.500000  12.5  18.000000  17.163448  1177600.0\n",
              "2017-05-01  18.000000  18.750000  13.0  14.000000  13.349349  1331200.0\n",
              "2017-06-01  13.800000  21.120001  13.0  20.639999  19.680754   873600.0\n",
              "2017-07-01  21.299999  25.750000  17.6  22.200001  21.168255   779200.0\n",
              "2017-08-01  22.750000  22.750000  16.6  17.600000  16.782040   160000.0"
            ],
            "text/html": [
              "\n",
              "  <div id=\"df-cf47dca5-a9b0-4e0b-b1ec-045550efafcd\">\n",
              "    <div class=\"colab-df-container\">\n",
              "      <div>\n",
              "<style scoped>\n",
              "    .dataframe tbody tr th:only-of-type {\n",
              "        vertical-align: middle;\n",
              "    }\n",
              "\n",
              "    .dataframe tbody tr th {\n",
              "        vertical-align: top;\n",
              "    }\n",
              "\n",
              "    .dataframe thead th {\n",
              "        text-align: right;\n",
              "    }\n",
              "</style>\n",
              "<table border=\"1\" class=\"dataframe\">\n",
              "  <thead>\n",
              "    <tr style=\"text-align: right;\">\n",
              "      <th></th>\n",
              "      <th>Open</th>\n",
              "      <th>High</th>\n",
              "      <th>Low</th>\n",
              "      <th>Close</th>\n",
              "      <th>Adj Close</th>\n",
              "      <th>Volume</th>\n",
              "    </tr>\n",
              "    <tr>\n",
              "      <th>Date</th>\n",
              "      <th></th>\n",
              "      <th></th>\n",
              "      <th></th>\n",
              "      <th></th>\n",
              "      <th></th>\n",
              "      <th></th>\n",
              "    </tr>\n",
              "  </thead>\n",
              "  <tbody>\n",
              "    <tr>\n",
              "      <th>2017-04-01</th>\n",
              "      <td>12.500000</td>\n",
              "      <td>24.500000</td>\n",
              "      <td>12.5</td>\n",
              "      <td>18.000000</td>\n",
              "      <td>17.163448</td>\n",
              "      <td>1177600.0</td>\n",
              "    </tr>\n",
              "    <tr>\n",
              "      <th>2017-05-01</th>\n",
              "      <td>18.000000</td>\n",
              "      <td>18.750000</td>\n",
              "      <td>13.0</td>\n",
              "      <td>14.000000</td>\n",
              "      <td>13.349349</td>\n",
              "      <td>1331200.0</td>\n",
              "    </tr>\n",
              "    <tr>\n",
              "      <th>2017-06-01</th>\n",
              "      <td>13.800000</td>\n",
              "      <td>21.120001</td>\n",
              "      <td>13.0</td>\n",
              "      <td>20.639999</td>\n",
              "      <td>19.680754</td>\n",
              "      <td>873600.0</td>\n",
              "    </tr>\n",
              "    <tr>\n",
              "      <th>2017-07-01</th>\n",
              "      <td>21.299999</td>\n",
              "      <td>25.750000</td>\n",
              "      <td>17.6</td>\n",
              "      <td>22.200001</td>\n",
              "      <td>21.168255</td>\n",
              "      <td>779200.0</td>\n",
              "    </tr>\n",
              "    <tr>\n",
              "      <th>2017-08-01</th>\n",
              "      <td>22.750000</td>\n",
              "      <td>22.750000</td>\n",
              "      <td>16.6</td>\n",
              "      <td>17.600000</td>\n",
              "      <td>16.782040</td>\n",
              "      <td>160000.0</td>\n",
              "    </tr>\n",
              "  </tbody>\n",
              "</table>\n",
              "</div>\n",
              "      <button class=\"colab-df-convert\" onclick=\"convertToInteractive('df-cf47dca5-a9b0-4e0b-b1ec-045550efafcd')\"\n",
              "              title=\"Convert this dataframe to an interactive table.\"\n",
              "              style=\"display:none;\">\n",
              "        \n",
              "  <svg xmlns=\"http://www.w3.org/2000/svg\" height=\"24px\"viewBox=\"0 0 24 24\"\n",
              "       width=\"24px\">\n",
              "    <path d=\"M0 0h24v24H0V0z\" fill=\"none\"/>\n",
              "    <path d=\"M18.56 5.44l.94 2.06.94-2.06 2.06-.94-2.06-.94-.94-2.06-.94 2.06-2.06.94zm-11 1L8.5 8.5l.94-2.06 2.06-.94-2.06-.94L8.5 2.5l-.94 2.06-2.06.94zm10 10l.94 2.06.94-2.06 2.06-.94-2.06-.94-.94-2.06-.94 2.06-2.06.94z\"/><path d=\"M17.41 7.96l-1.37-1.37c-.4-.4-.92-.59-1.43-.59-.52 0-1.04.2-1.43.59L10.3 9.45l-7.72 7.72c-.78.78-.78 2.05 0 2.83L4 21.41c.39.39.9.59 1.41.59.51 0 1.02-.2 1.41-.59l7.78-7.78 2.81-2.81c.8-.78.8-2.07 0-2.86zM5.41 20L4 18.59l7.72-7.72 1.47 1.35L5.41 20z\"/>\n",
              "  </svg>\n",
              "      </button>\n",
              "      \n",
              "  <style>\n",
              "    .colab-df-container {\n",
              "      display:flex;\n",
              "      flex-wrap:wrap;\n",
              "      gap: 12px;\n",
              "    }\n",
              "\n",
              "    .colab-df-convert {\n",
              "      background-color: #E8F0FE;\n",
              "      border: none;\n",
              "      border-radius: 50%;\n",
              "      cursor: pointer;\n",
              "      display: none;\n",
              "      fill: #1967D2;\n",
              "      height: 32px;\n",
              "      padding: 0 0 0 0;\n",
              "      width: 32px;\n",
              "    }\n",
              "\n",
              "    .colab-df-convert:hover {\n",
              "      background-color: #E2EBFA;\n",
              "      box-shadow: 0px 1px 2px rgba(60, 64, 67, 0.3), 0px 1px 3px 1px rgba(60, 64, 67, 0.15);\n",
              "      fill: #174EA6;\n",
              "    }\n",
              "\n",
              "    [theme=dark] .colab-df-convert {\n",
              "      background-color: #3B4455;\n",
              "      fill: #D2E3FC;\n",
              "    }\n",
              "\n",
              "    [theme=dark] .colab-df-convert:hover {\n",
              "      background-color: #434B5C;\n",
              "      box-shadow: 0px 1px 3px 1px rgba(0, 0, 0, 0.15);\n",
              "      filter: drop-shadow(0px 1px 2px rgba(0, 0, 0, 0.3));\n",
              "      fill: #FFFFFF;\n",
              "    }\n",
              "  </style>\n",
              "\n",
              "      <script>\n",
              "        const buttonEl =\n",
              "          document.querySelector('#df-cf47dca5-a9b0-4e0b-b1ec-045550efafcd button.colab-df-convert');\n",
              "        buttonEl.style.display =\n",
              "          google.colab.kernel.accessAllowed ? 'block' : 'none';\n",
              "\n",
              "        async function convertToInteractive(key) {\n",
              "          const element = document.querySelector('#df-cf47dca5-a9b0-4e0b-b1ec-045550efafcd');\n",
              "          const dataTable =\n",
              "            await google.colab.kernel.invokeFunction('convertToInteractive',\n",
              "                                                     [key], {});\n",
              "          if (!dataTable) return;\n",
              "\n",
              "          const docLinkHtml = 'Like what you see? Visit the ' +\n",
              "            '<a target=\"_blank\" href=https://colab.research.google.com/notebooks/data_table.ipynb>data table notebook</a>'\n",
              "            + ' to learn more about interactive tables.';\n",
              "          element.innerHTML = '';\n",
              "          dataTable['output_type'] = 'display_data';\n",
              "          await google.colab.output.renderOutput(dataTable, element);\n",
              "          const docLink = document.createElement('div');\n",
              "          docLink.innerHTML = docLinkHtml;\n",
              "          element.appendChild(docLink);\n",
              "        }\n",
              "      </script>\n",
              "    </div>\n",
              "  </div>\n",
              "  "
            ]
          },
          "metadata": {},
          "execution_count": 3
        }
      ]
    },
    {
      "cell_type": "markdown",
      "source": [
        "*`Historical Data of Thangamayil Jewellery Limited`*"
      ],
      "metadata": {
        "id": "TlHXvHXy8muh"
      }
    },
    {
      "cell_type": "code",
      "source": [
        "#Download stock prices for the security monthly data last 5 years\n",
        "tjl_df = yf.download('THANGAMAYL.NS', \n",
        "                      start='2017-04-01', \n",
        "                      end='2021-03-31', \n",
        "                      progress=False,interval ='1mo'\n",
        ")\n",
        "tjl_df.head()"
      ],
      "metadata": {
        "colab": {
          "base_uri": "https://localhost:8080/",
          "height": 238
        },
        "id": "C34xrhrZvfqV",
        "outputId": "78c4b607-3b29-435a-bc34-78381a7f6c5b"
      },
      "execution_count": null,
      "outputs": [
        {
          "output_type": "execute_result",
          "data": {
            "text/plain": [
              "                  Open        High         Low       Close   Adj Close  \\\n",
              "Date                                                                     \n",
              "2017-04-01  228.149994  270.000000  228.100006  265.399994  240.692902   \n",
              "2017-05-01  265.399994  272.049988  215.050003  242.899994  220.287506   \n",
              "2017-06-01  248.300003  268.799988  229.199997  243.199997  220.559540   \n",
              "2017-07-01  250.000000  348.100006  230.000000  322.649994  292.613190   \n",
              "2017-07-18         NaN         NaN         NaN         NaN         NaN   \n",
              "\n",
              "               Volume  \n",
              "Date                   \n",
              "2017-04-01   195929.0  \n",
              "2017-05-01   181212.0  \n",
              "2017-06-01   114946.0  \n",
              "2017-07-01  2209741.0  \n",
              "2017-07-18        NaN  "
            ],
            "text/html": [
              "\n",
              "  <div id=\"df-ba01c9a5-86ba-4a98-8919-cd30229154ed\">\n",
              "    <div class=\"colab-df-container\">\n",
              "      <div>\n",
              "<style scoped>\n",
              "    .dataframe tbody tr th:only-of-type {\n",
              "        vertical-align: middle;\n",
              "    }\n",
              "\n",
              "    .dataframe tbody tr th {\n",
              "        vertical-align: top;\n",
              "    }\n",
              "\n",
              "    .dataframe thead th {\n",
              "        text-align: right;\n",
              "    }\n",
              "</style>\n",
              "<table border=\"1\" class=\"dataframe\">\n",
              "  <thead>\n",
              "    <tr style=\"text-align: right;\">\n",
              "      <th></th>\n",
              "      <th>Open</th>\n",
              "      <th>High</th>\n",
              "      <th>Low</th>\n",
              "      <th>Close</th>\n",
              "      <th>Adj Close</th>\n",
              "      <th>Volume</th>\n",
              "    </tr>\n",
              "    <tr>\n",
              "      <th>Date</th>\n",
              "      <th></th>\n",
              "      <th></th>\n",
              "      <th></th>\n",
              "      <th></th>\n",
              "      <th></th>\n",
              "      <th></th>\n",
              "    </tr>\n",
              "  </thead>\n",
              "  <tbody>\n",
              "    <tr>\n",
              "      <th>2017-04-01</th>\n",
              "      <td>228.149994</td>\n",
              "      <td>270.000000</td>\n",
              "      <td>228.100006</td>\n",
              "      <td>265.399994</td>\n",
              "      <td>240.692902</td>\n",
              "      <td>195929.0</td>\n",
              "    </tr>\n",
              "    <tr>\n",
              "      <th>2017-05-01</th>\n",
              "      <td>265.399994</td>\n",
              "      <td>272.049988</td>\n",
              "      <td>215.050003</td>\n",
              "      <td>242.899994</td>\n",
              "      <td>220.287506</td>\n",
              "      <td>181212.0</td>\n",
              "    </tr>\n",
              "    <tr>\n",
              "      <th>2017-06-01</th>\n",
              "      <td>248.300003</td>\n",
              "      <td>268.799988</td>\n",
              "      <td>229.199997</td>\n",
              "      <td>243.199997</td>\n",
              "      <td>220.559540</td>\n",
              "      <td>114946.0</td>\n",
              "    </tr>\n",
              "    <tr>\n",
              "      <th>2017-07-01</th>\n",
              "      <td>250.000000</td>\n",
              "      <td>348.100006</td>\n",
              "      <td>230.000000</td>\n",
              "      <td>322.649994</td>\n",
              "      <td>292.613190</td>\n",
              "      <td>2209741.0</td>\n",
              "    </tr>\n",
              "    <tr>\n",
              "      <th>2017-07-18</th>\n",
              "      <td>NaN</td>\n",
              "      <td>NaN</td>\n",
              "      <td>NaN</td>\n",
              "      <td>NaN</td>\n",
              "      <td>NaN</td>\n",
              "      <td>NaN</td>\n",
              "    </tr>\n",
              "  </tbody>\n",
              "</table>\n",
              "</div>\n",
              "      <button class=\"colab-df-convert\" onclick=\"convertToInteractive('df-ba01c9a5-86ba-4a98-8919-cd30229154ed')\"\n",
              "              title=\"Convert this dataframe to an interactive table.\"\n",
              "              style=\"display:none;\">\n",
              "        \n",
              "  <svg xmlns=\"http://www.w3.org/2000/svg\" height=\"24px\"viewBox=\"0 0 24 24\"\n",
              "       width=\"24px\">\n",
              "    <path d=\"M0 0h24v24H0V0z\" fill=\"none\"/>\n",
              "    <path d=\"M18.56 5.44l.94 2.06.94-2.06 2.06-.94-2.06-.94-.94-2.06-.94 2.06-2.06.94zm-11 1L8.5 8.5l.94-2.06 2.06-.94-2.06-.94L8.5 2.5l-.94 2.06-2.06.94zm10 10l.94 2.06.94-2.06 2.06-.94-2.06-.94-.94-2.06-.94 2.06-2.06.94z\"/><path d=\"M17.41 7.96l-1.37-1.37c-.4-.4-.92-.59-1.43-.59-.52 0-1.04.2-1.43.59L10.3 9.45l-7.72 7.72c-.78.78-.78 2.05 0 2.83L4 21.41c.39.39.9.59 1.41.59.51 0 1.02-.2 1.41-.59l7.78-7.78 2.81-2.81c.8-.78.8-2.07 0-2.86zM5.41 20L4 18.59l7.72-7.72 1.47 1.35L5.41 20z\"/>\n",
              "  </svg>\n",
              "      </button>\n",
              "      \n",
              "  <style>\n",
              "    .colab-df-container {\n",
              "      display:flex;\n",
              "      flex-wrap:wrap;\n",
              "      gap: 12px;\n",
              "    }\n",
              "\n",
              "    .colab-df-convert {\n",
              "      background-color: #E8F0FE;\n",
              "      border: none;\n",
              "      border-radius: 50%;\n",
              "      cursor: pointer;\n",
              "      display: none;\n",
              "      fill: #1967D2;\n",
              "      height: 32px;\n",
              "      padding: 0 0 0 0;\n",
              "      width: 32px;\n",
              "    }\n",
              "\n",
              "    .colab-df-convert:hover {\n",
              "      background-color: #E2EBFA;\n",
              "      box-shadow: 0px 1px 2px rgba(60, 64, 67, 0.3), 0px 1px 3px 1px rgba(60, 64, 67, 0.15);\n",
              "      fill: #174EA6;\n",
              "    }\n",
              "\n",
              "    [theme=dark] .colab-df-convert {\n",
              "      background-color: #3B4455;\n",
              "      fill: #D2E3FC;\n",
              "    }\n",
              "\n",
              "    [theme=dark] .colab-df-convert:hover {\n",
              "      background-color: #434B5C;\n",
              "      box-shadow: 0px 1px 3px 1px rgba(0, 0, 0, 0.15);\n",
              "      filter: drop-shadow(0px 1px 2px rgba(0, 0, 0, 0.3));\n",
              "      fill: #FFFFFF;\n",
              "    }\n",
              "  </style>\n",
              "\n",
              "      <script>\n",
              "        const buttonEl =\n",
              "          document.querySelector('#df-ba01c9a5-86ba-4a98-8919-cd30229154ed button.colab-df-convert');\n",
              "        buttonEl.style.display =\n",
              "          google.colab.kernel.accessAllowed ? 'block' : 'none';\n",
              "\n",
              "        async function convertToInteractive(key) {\n",
              "          const element = document.querySelector('#df-ba01c9a5-86ba-4a98-8919-cd30229154ed');\n",
              "          const dataTable =\n",
              "            await google.colab.kernel.invokeFunction('convertToInteractive',\n",
              "                                                     [key], {});\n",
              "          if (!dataTable) return;\n",
              "\n",
              "          const docLinkHtml = 'Like what you see? Visit the ' +\n",
              "            '<a target=\"_blank\" href=https://colab.research.google.com/notebooks/data_table.ipynb>data table notebook</a>'\n",
              "            + ' to learn more about interactive tables.';\n",
              "          element.innerHTML = '';\n",
              "          dataTable['output_type'] = 'display_data';\n",
              "          await google.colab.output.renderOutput(dataTable, element);\n",
              "          const docLink = document.createElement('div');\n",
              "          docLink.innerHTML = docLinkHtml;\n",
              "          element.appendChild(docLink);\n",
              "        }\n",
              "      </script>\n",
              "    </div>\n",
              "  </div>\n",
              "  "
            ]
          },
          "metadata": {},
          "execution_count": 4
        }
      ]
    },
    {
      "cell_type": "markdown",
      "source": [
        "*`Historical Data of Goldiam International Limited`*"
      ],
      "metadata": {
        "id": "R3tSFwFP81lF"
      }
    },
    {
      "cell_type": "code",
      "source": [
        "#Download stock prices for the security monthly data last 5 years\n",
        "gil_df = yf.download('GOLDIAM.NS', \n",
        "                      start='2017-04-01', \n",
        "                      end='2021-03-31', \n",
        "                      progress=False,interval ='1mo'\n",
        ")\n",
        "gil_df.head()"
      ],
      "metadata": {
        "colab": {
          "base_uri": "https://localhost:8080/",
          "height": 238
        },
        "id": "4tjiYEBPyTdo",
        "outputId": "09af097d-d2b3-47f6-bb1f-1b2453a8b029"
      },
      "execution_count": null,
      "outputs": [
        {
          "output_type": "execute_result",
          "data": {
            "text/plain": [
              "                 Open       High    Low      Close  Adj Close     Volume\n",
              "Date                                                                    \n",
              "2017-04-01  17.020000  19.959999  17.02  18.750000  14.918503  4198430.0\n",
              "2017-05-01  18.750000  19.299999  16.40  16.750000  13.327196  3550550.0\n",
              "2017-06-01  16.980000  17.799999  16.08  16.110001  12.817975  1124275.0\n",
              "2017-07-01  16.450001  18.059999  16.01  16.870001  13.422673  2183740.0\n",
              "2017-08-01  17.030001  17.760000  14.16  16.549999  13.168062  1805375.0"
            ],
            "text/html": [
              "\n",
              "  <div id=\"df-9e3e1778-e0fc-4e70-9a23-9ee30aefc269\">\n",
              "    <div class=\"colab-df-container\">\n",
              "      <div>\n",
              "<style scoped>\n",
              "    .dataframe tbody tr th:only-of-type {\n",
              "        vertical-align: middle;\n",
              "    }\n",
              "\n",
              "    .dataframe tbody tr th {\n",
              "        vertical-align: top;\n",
              "    }\n",
              "\n",
              "    .dataframe thead th {\n",
              "        text-align: right;\n",
              "    }\n",
              "</style>\n",
              "<table border=\"1\" class=\"dataframe\">\n",
              "  <thead>\n",
              "    <tr style=\"text-align: right;\">\n",
              "      <th></th>\n",
              "      <th>Open</th>\n",
              "      <th>High</th>\n",
              "      <th>Low</th>\n",
              "      <th>Close</th>\n",
              "      <th>Adj Close</th>\n",
              "      <th>Volume</th>\n",
              "    </tr>\n",
              "    <tr>\n",
              "      <th>Date</th>\n",
              "      <th></th>\n",
              "      <th></th>\n",
              "      <th></th>\n",
              "      <th></th>\n",
              "      <th></th>\n",
              "      <th></th>\n",
              "    </tr>\n",
              "  </thead>\n",
              "  <tbody>\n",
              "    <tr>\n",
              "      <th>2017-04-01</th>\n",
              "      <td>17.020000</td>\n",
              "      <td>19.959999</td>\n",
              "      <td>17.02</td>\n",
              "      <td>18.750000</td>\n",
              "      <td>14.918503</td>\n",
              "      <td>4198430.0</td>\n",
              "    </tr>\n",
              "    <tr>\n",
              "      <th>2017-05-01</th>\n",
              "      <td>18.750000</td>\n",
              "      <td>19.299999</td>\n",
              "      <td>16.40</td>\n",
              "      <td>16.750000</td>\n",
              "      <td>13.327196</td>\n",
              "      <td>3550550.0</td>\n",
              "    </tr>\n",
              "    <tr>\n",
              "      <th>2017-06-01</th>\n",
              "      <td>16.980000</td>\n",
              "      <td>17.799999</td>\n",
              "      <td>16.08</td>\n",
              "      <td>16.110001</td>\n",
              "      <td>12.817975</td>\n",
              "      <td>1124275.0</td>\n",
              "    </tr>\n",
              "    <tr>\n",
              "      <th>2017-07-01</th>\n",
              "      <td>16.450001</td>\n",
              "      <td>18.059999</td>\n",
              "      <td>16.01</td>\n",
              "      <td>16.870001</td>\n",
              "      <td>13.422673</td>\n",
              "      <td>2183740.0</td>\n",
              "    </tr>\n",
              "    <tr>\n",
              "      <th>2017-08-01</th>\n",
              "      <td>17.030001</td>\n",
              "      <td>17.760000</td>\n",
              "      <td>14.16</td>\n",
              "      <td>16.549999</td>\n",
              "      <td>13.168062</td>\n",
              "      <td>1805375.0</td>\n",
              "    </tr>\n",
              "  </tbody>\n",
              "</table>\n",
              "</div>\n",
              "      <button class=\"colab-df-convert\" onclick=\"convertToInteractive('df-9e3e1778-e0fc-4e70-9a23-9ee30aefc269')\"\n",
              "              title=\"Convert this dataframe to an interactive table.\"\n",
              "              style=\"display:none;\">\n",
              "        \n",
              "  <svg xmlns=\"http://www.w3.org/2000/svg\" height=\"24px\"viewBox=\"0 0 24 24\"\n",
              "       width=\"24px\">\n",
              "    <path d=\"M0 0h24v24H0V0z\" fill=\"none\"/>\n",
              "    <path d=\"M18.56 5.44l.94 2.06.94-2.06 2.06-.94-2.06-.94-.94-2.06-.94 2.06-2.06.94zm-11 1L8.5 8.5l.94-2.06 2.06-.94-2.06-.94L8.5 2.5l-.94 2.06-2.06.94zm10 10l.94 2.06.94-2.06 2.06-.94-2.06-.94-.94-2.06-.94 2.06-2.06.94z\"/><path d=\"M17.41 7.96l-1.37-1.37c-.4-.4-.92-.59-1.43-.59-.52 0-1.04.2-1.43.59L10.3 9.45l-7.72 7.72c-.78.78-.78 2.05 0 2.83L4 21.41c.39.39.9.59 1.41.59.51 0 1.02-.2 1.41-.59l7.78-7.78 2.81-2.81c.8-.78.8-2.07 0-2.86zM5.41 20L4 18.59l7.72-7.72 1.47 1.35L5.41 20z\"/>\n",
              "  </svg>\n",
              "      </button>\n",
              "      \n",
              "  <style>\n",
              "    .colab-df-container {\n",
              "      display:flex;\n",
              "      flex-wrap:wrap;\n",
              "      gap: 12px;\n",
              "    }\n",
              "\n",
              "    .colab-df-convert {\n",
              "      background-color: #E8F0FE;\n",
              "      border: none;\n",
              "      border-radius: 50%;\n",
              "      cursor: pointer;\n",
              "      display: none;\n",
              "      fill: #1967D2;\n",
              "      height: 32px;\n",
              "      padding: 0 0 0 0;\n",
              "      width: 32px;\n",
              "    }\n",
              "\n",
              "    .colab-df-convert:hover {\n",
              "      background-color: #E2EBFA;\n",
              "      box-shadow: 0px 1px 2px rgba(60, 64, 67, 0.3), 0px 1px 3px 1px rgba(60, 64, 67, 0.15);\n",
              "      fill: #174EA6;\n",
              "    }\n",
              "\n",
              "    [theme=dark] .colab-df-convert {\n",
              "      background-color: #3B4455;\n",
              "      fill: #D2E3FC;\n",
              "    }\n",
              "\n",
              "    [theme=dark] .colab-df-convert:hover {\n",
              "      background-color: #434B5C;\n",
              "      box-shadow: 0px 1px 3px 1px rgba(0, 0, 0, 0.15);\n",
              "      filter: drop-shadow(0px 1px 2px rgba(0, 0, 0, 0.3));\n",
              "      fill: #FFFFFF;\n",
              "    }\n",
              "  </style>\n",
              "\n",
              "      <script>\n",
              "        const buttonEl =\n",
              "          document.querySelector('#df-9e3e1778-e0fc-4e70-9a23-9ee30aefc269 button.colab-df-convert');\n",
              "        buttonEl.style.display =\n",
              "          google.colab.kernel.accessAllowed ? 'block' : 'none';\n",
              "\n",
              "        async function convertToInteractive(key) {\n",
              "          const element = document.querySelector('#df-9e3e1778-e0fc-4e70-9a23-9ee30aefc269');\n",
              "          const dataTable =\n",
              "            await google.colab.kernel.invokeFunction('convertToInteractive',\n",
              "                                                     [key], {});\n",
              "          if (!dataTable) return;\n",
              "\n",
              "          const docLinkHtml = 'Like what you see? Visit the ' +\n",
              "            '<a target=\"_blank\" href=https://colab.research.google.com/notebooks/data_table.ipynb>data table notebook</a>'\n",
              "            + ' to learn more about interactive tables.';\n",
              "          element.innerHTML = '';\n",
              "          dataTable['output_type'] = 'display_data';\n",
              "          await google.colab.output.renderOutput(dataTable, element);\n",
              "          const docLink = document.createElement('div');\n",
              "          docLink.innerHTML = docLinkHtml;\n",
              "          element.appendChild(docLink);\n",
              "        }\n",
              "      </script>\n",
              "    </div>\n",
              "  </div>\n",
              "  "
            ]
          },
          "metadata": {},
          "execution_count": 5
        }
      ]
    },
    {
      "cell_type": "markdown",
      "source": [
        "*`Historical Data of NIFTY`*"
      ],
      "metadata": {
        "id": "z3wKDMvt4Mhh"
      }
    },
    {
      "cell_type": "code",
      "source": [
        "#Download Market index closing prices\n",
        "nifty_df = yf.download('^BSESN',start='2017-04-01', \n",
        "                      end='2021-03-31', \n",
        "                      progress=False,interval ='1mo',\n",
        ")\n",
        "nifty_df.head()\n"
      ],
      "metadata": {
        "colab": {
          "base_uri": "https://localhost:8080/",
          "height": 238
        },
        "id": "XCOtaHXx470i",
        "outputId": "b65722d2-c011-4635-e9d2-af9d16973a99"
      },
      "execution_count": null,
      "outputs": [
        {
          "output_type": "execute_result",
          "data": {
            "text/plain": [
              "                    Open          High           Low         Close  \\\n",
              "Date                                                                 \n",
              "2017-04-01  29737.730469  30184.220703  29241.480469  29918.400391   \n",
              "2017-05-01  30021.490234  31255.279297  29804.119141  31145.800781   \n",
              "2017-06-01  31117.089844  31522.869141  30680.660156  30921.609375   \n",
              "2017-07-01  31156.039062  32672.660156  31017.109375  32514.939453   \n",
              "2017-08-01  32579.800781  32686.480469  31128.019531  31730.490234   \n",
              "\n",
              "               Adj Close  Volume  \n",
              "Date                              \n",
              "2017-04-01  29918.400391  194700  \n",
              "2017-05-01  31145.800781  282400  \n",
              "2017-06-01  30921.609375  329400  \n",
              "2017-07-01  32514.939453  258300  \n",
              "2017-08-01  31730.490234  241300  "
            ],
            "text/html": [
              "\n",
              "  <div id=\"df-b64fcbce-509c-4a3b-a19c-fd1b699feb2d\">\n",
              "    <div class=\"colab-df-container\">\n",
              "      <div>\n",
              "<style scoped>\n",
              "    .dataframe tbody tr th:only-of-type {\n",
              "        vertical-align: middle;\n",
              "    }\n",
              "\n",
              "    .dataframe tbody tr th {\n",
              "        vertical-align: top;\n",
              "    }\n",
              "\n",
              "    .dataframe thead th {\n",
              "        text-align: right;\n",
              "    }\n",
              "</style>\n",
              "<table border=\"1\" class=\"dataframe\">\n",
              "  <thead>\n",
              "    <tr style=\"text-align: right;\">\n",
              "      <th></th>\n",
              "      <th>Open</th>\n",
              "      <th>High</th>\n",
              "      <th>Low</th>\n",
              "      <th>Close</th>\n",
              "      <th>Adj Close</th>\n",
              "      <th>Volume</th>\n",
              "    </tr>\n",
              "    <tr>\n",
              "      <th>Date</th>\n",
              "      <th></th>\n",
              "      <th></th>\n",
              "      <th></th>\n",
              "      <th></th>\n",
              "      <th></th>\n",
              "      <th></th>\n",
              "    </tr>\n",
              "  </thead>\n",
              "  <tbody>\n",
              "    <tr>\n",
              "      <th>2017-04-01</th>\n",
              "      <td>29737.730469</td>\n",
              "      <td>30184.220703</td>\n",
              "      <td>29241.480469</td>\n",
              "      <td>29918.400391</td>\n",
              "      <td>29918.400391</td>\n",
              "      <td>194700</td>\n",
              "    </tr>\n",
              "    <tr>\n",
              "      <th>2017-05-01</th>\n",
              "      <td>30021.490234</td>\n",
              "      <td>31255.279297</td>\n",
              "      <td>29804.119141</td>\n",
              "      <td>31145.800781</td>\n",
              "      <td>31145.800781</td>\n",
              "      <td>282400</td>\n",
              "    </tr>\n",
              "    <tr>\n",
              "      <th>2017-06-01</th>\n",
              "      <td>31117.089844</td>\n",
              "      <td>31522.869141</td>\n",
              "      <td>30680.660156</td>\n",
              "      <td>30921.609375</td>\n",
              "      <td>30921.609375</td>\n",
              "      <td>329400</td>\n",
              "    </tr>\n",
              "    <tr>\n",
              "      <th>2017-07-01</th>\n",
              "      <td>31156.039062</td>\n",
              "      <td>32672.660156</td>\n",
              "      <td>31017.109375</td>\n",
              "      <td>32514.939453</td>\n",
              "      <td>32514.939453</td>\n",
              "      <td>258300</td>\n",
              "    </tr>\n",
              "    <tr>\n",
              "      <th>2017-08-01</th>\n",
              "      <td>32579.800781</td>\n",
              "      <td>32686.480469</td>\n",
              "      <td>31128.019531</td>\n",
              "      <td>31730.490234</td>\n",
              "      <td>31730.490234</td>\n",
              "      <td>241300</td>\n",
              "    </tr>\n",
              "  </tbody>\n",
              "</table>\n",
              "</div>\n",
              "      <button class=\"colab-df-convert\" onclick=\"convertToInteractive('df-b64fcbce-509c-4a3b-a19c-fd1b699feb2d')\"\n",
              "              title=\"Convert this dataframe to an interactive table.\"\n",
              "              style=\"display:none;\">\n",
              "        \n",
              "  <svg xmlns=\"http://www.w3.org/2000/svg\" height=\"24px\"viewBox=\"0 0 24 24\"\n",
              "       width=\"24px\">\n",
              "    <path d=\"M0 0h24v24H0V0z\" fill=\"none\"/>\n",
              "    <path d=\"M18.56 5.44l.94 2.06.94-2.06 2.06-.94-2.06-.94-.94-2.06-.94 2.06-2.06.94zm-11 1L8.5 8.5l.94-2.06 2.06-.94-2.06-.94L8.5 2.5l-.94 2.06-2.06.94zm10 10l.94 2.06.94-2.06 2.06-.94-2.06-.94-.94-2.06-.94 2.06-2.06.94z\"/><path d=\"M17.41 7.96l-1.37-1.37c-.4-.4-.92-.59-1.43-.59-.52 0-1.04.2-1.43.59L10.3 9.45l-7.72 7.72c-.78.78-.78 2.05 0 2.83L4 21.41c.39.39.9.59 1.41.59.51 0 1.02-.2 1.41-.59l7.78-7.78 2.81-2.81c.8-.78.8-2.07 0-2.86zM5.41 20L4 18.59l7.72-7.72 1.47 1.35L5.41 20z\"/>\n",
              "  </svg>\n",
              "      </button>\n",
              "      \n",
              "  <style>\n",
              "    .colab-df-container {\n",
              "      display:flex;\n",
              "      flex-wrap:wrap;\n",
              "      gap: 12px;\n",
              "    }\n",
              "\n",
              "    .colab-df-convert {\n",
              "      background-color: #E8F0FE;\n",
              "      border: none;\n",
              "      border-radius: 50%;\n",
              "      cursor: pointer;\n",
              "      display: none;\n",
              "      fill: #1967D2;\n",
              "      height: 32px;\n",
              "      padding: 0 0 0 0;\n",
              "      width: 32px;\n",
              "    }\n",
              "\n",
              "    .colab-df-convert:hover {\n",
              "      background-color: #E2EBFA;\n",
              "      box-shadow: 0px 1px 2px rgba(60, 64, 67, 0.3), 0px 1px 3px 1px rgba(60, 64, 67, 0.15);\n",
              "      fill: #174EA6;\n",
              "    }\n",
              "\n",
              "    [theme=dark] .colab-df-convert {\n",
              "      background-color: #3B4455;\n",
              "      fill: #D2E3FC;\n",
              "    }\n",
              "\n",
              "    [theme=dark] .colab-df-convert:hover {\n",
              "      background-color: #434B5C;\n",
              "      box-shadow: 0px 1px 3px 1px rgba(0, 0, 0, 0.15);\n",
              "      filter: drop-shadow(0px 1px 2px rgba(0, 0, 0, 0.3));\n",
              "      fill: #FFFFFF;\n",
              "    }\n",
              "  </style>\n",
              "\n",
              "      <script>\n",
              "        const buttonEl =\n",
              "          document.querySelector('#df-b64fcbce-509c-4a3b-a19c-fd1b699feb2d button.colab-df-convert');\n",
              "        buttonEl.style.display =\n",
              "          google.colab.kernel.accessAllowed ? 'block' : 'none';\n",
              "\n",
              "        async function convertToInteractive(key) {\n",
              "          const element = document.querySelector('#df-b64fcbce-509c-4a3b-a19c-fd1b699feb2d');\n",
              "          const dataTable =\n",
              "            await google.colab.kernel.invokeFunction('convertToInteractive',\n",
              "                                                     [key], {});\n",
              "          if (!dataTable) return;\n",
              "\n",
              "          const docLinkHtml = 'Like what you see? Visit the ' +\n",
              "            '<a target=\"_blank\" href=https://colab.research.google.com/notebooks/data_table.ipynb>data table notebook</a>'\n",
              "            + ' to learn more about interactive tables.';\n",
              "          element.innerHTML = '';\n",
              "          dataTable['output_type'] = 'display_data';\n",
              "          await google.colab.output.renderOutput(dataTable, element);\n",
              "          const docLink = document.createElement('div');\n",
              "          docLink.innerHTML = docLinkHtml;\n",
              "          element.appendChild(docLink);\n",
              "        }\n",
              "      </script>\n",
              "    </div>\n",
              "  </div>\n",
              "  "
            ]
          },
          "metadata": {},
          "execution_count": 6
        }
      ]
    },
    {
      "cell_type": "markdown",
      "source": [
        "*`NIFTY Returns`*"
      ],
      "metadata": {
        "id": "OSQQ_JEA4Gmg"
      }
    },
    {
      "cell_type": "code",
      "source": [
        "#Calculate Log returns\n",
        "nifty_df['Return_NIFTY'] = np.log(nifty_df['Adj Close']/nifty_df['Adj Close'].shift(1))\n",
        "print(nifty_df['Return_NIFTY']) "
      ],
      "metadata": {
        "colab": {
          "base_uri": "https://localhost:8080/"
        },
        "id": "ba8tiJVEkLCx",
        "outputId": "50dcd966-bfc7-4cf4-f3f2-bca9114bc50a"
      },
      "execution_count": null,
      "outputs": [
        {
          "output_type": "stream",
          "name": "stdout",
          "text": [
            "Date\n",
            "2017-04-01         NaN\n",
            "2017-05-01    0.040206\n",
            "2017-06-01   -0.007224\n",
            "2017-07-01    0.050244\n",
            "2017-08-01   -0.024422\n",
            "2017-09-01   -0.014180\n",
            "2017-10-01    0.059847\n",
            "2017-11-01   -0.001922\n",
            "2017-12-01    0.027007\n",
            "2018-01-01    0.054516\n",
            "2018-02-01   -0.050788\n",
            "2018-03-01   -0.036201\n",
            "2018-04-01    0.064361\n",
            "2018-05-01    0.004597\n",
            "2018-06-01    0.002858\n",
            "2018-07-01    0.059804\n",
            "2018-08-01    0.027240\n",
            "2018-09-01   -0.064611\n",
            "2018-10-01   -0.050530\n",
            "2018-11-01    0.049623\n",
            "2018-12-01   -0.003487\n",
            "2019-01-01    0.005209\n",
            "2019-02-01   -0.010794\n",
            "2019-03-01    0.075309\n",
            "2019-04-01    0.009231\n",
            "2019-05-01    0.017338\n",
            "2019-06-01   -0.008079\n",
            "2019-07-01   -0.049792\n",
            "2019-08-01   -0.003965\n",
            "2019-09-01    0.035123\n",
            "2019-10-01    0.037106\n",
            "2019-11-01    0.016430\n",
            "2019-12-01    0.011211\n",
            "2020-01-01   -0.012937\n",
            "2020-02-01   -0.061426\n",
            "2020-03-01   -0.262058\n",
            "2020-04-01    0.134699\n",
            "2020-05-01   -0.039119\n",
            "2020-06-01    0.074038\n",
            "2020-07-01    0.074248\n",
            "2020-08-01    0.026798\n",
            "2020-09-01   -0.014613\n",
            "2020-10-01    0.039812\n",
            "2020-11-01    0.108402\n",
            "2020-12-01    0.078420\n",
            "2021-01-01   -0.031172\n",
            "2021-02-01    0.059024\n",
            "2021-03-01    0.008299\n",
            "Name: Return_NIFTY, dtype: float64\n"
          ]
        }
      ]
    },
    {
      "cell_type": "code",
      "source": [
        "nifty_df1 = nifty_df.dropna(axis=0)\n",
        "nifty_df1.head()"
      ],
      "metadata": {
        "colab": {
          "base_uri": "https://localhost:8080/",
          "height": 238
        },
        "id": "3EnS0ryFl-Qc",
        "outputId": "c69a2d6a-5f8f-4c48-959e-a091d900970c"
      },
      "execution_count": null,
      "outputs": [
        {
          "output_type": "execute_result",
          "data": {
            "text/plain": [
              "                    Open          High           Low         Close  \\\n",
              "Date                                                                 \n",
              "2017-05-01  30021.490234  31255.279297  29804.119141  31145.800781   \n",
              "2017-06-01  31117.089844  31522.869141  30680.660156  30921.609375   \n",
              "2017-07-01  31156.039062  32672.660156  31017.109375  32514.939453   \n",
              "2017-08-01  32579.800781  32686.480469  31128.019531  31730.490234   \n",
              "2017-09-01  31769.339844  32524.109375  31081.830078  31283.720703   \n",
              "\n",
              "               Adj Close  Volume  Return_NIFTY  \n",
              "Date                                            \n",
              "2017-05-01  31145.800781  282400      0.040206  \n",
              "2017-06-01  30921.609375  329400     -0.007224  \n",
              "2017-07-01  32514.939453  258300      0.050244  \n",
              "2017-08-01  31730.490234  241300     -0.024422  \n",
              "2017-09-01  31283.720703  233900     -0.014180  "
            ],
            "text/html": [
              "\n",
              "  <div id=\"df-caa250c5-92e2-47f3-be43-26ec70eb8a4f\">\n",
              "    <div class=\"colab-df-container\">\n",
              "      <div>\n",
              "<style scoped>\n",
              "    .dataframe tbody tr th:only-of-type {\n",
              "        vertical-align: middle;\n",
              "    }\n",
              "\n",
              "    .dataframe tbody tr th {\n",
              "        vertical-align: top;\n",
              "    }\n",
              "\n",
              "    .dataframe thead th {\n",
              "        text-align: right;\n",
              "    }\n",
              "</style>\n",
              "<table border=\"1\" class=\"dataframe\">\n",
              "  <thead>\n",
              "    <tr style=\"text-align: right;\">\n",
              "      <th></th>\n",
              "      <th>Open</th>\n",
              "      <th>High</th>\n",
              "      <th>Low</th>\n",
              "      <th>Close</th>\n",
              "      <th>Adj Close</th>\n",
              "      <th>Volume</th>\n",
              "      <th>Return_NIFTY</th>\n",
              "    </tr>\n",
              "    <tr>\n",
              "      <th>Date</th>\n",
              "      <th></th>\n",
              "      <th></th>\n",
              "      <th></th>\n",
              "      <th></th>\n",
              "      <th></th>\n",
              "      <th></th>\n",
              "      <th></th>\n",
              "    </tr>\n",
              "  </thead>\n",
              "  <tbody>\n",
              "    <tr>\n",
              "      <th>2017-05-01</th>\n",
              "      <td>30021.490234</td>\n",
              "      <td>31255.279297</td>\n",
              "      <td>29804.119141</td>\n",
              "      <td>31145.800781</td>\n",
              "      <td>31145.800781</td>\n",
              "      <td>282400</td>\n",
              "      <td>0.040206</td>\n",
              "    </tr>\n",
              "    <tr>\n",
              "      <th>2017-06-01</th>\n",
              "      <td>31117.089844</td>\n",
              "      <td>31522.869141</td>\n",
              "      <td>30680.660156</td>\n",
              "      <td>30921.609375</td>\n",
              "      <td>30921.609375</td>\n",
              "      <td>329400</td>\n",
              "      <td>-0.007224</td>\n",
              "    </tr>\n",
              "    <tr>\n",
              "      <th>2017-07-01</th>\n",
              "      <td>31156.039062</td>\n",
              "      <td>32672.660156</td>\n",
              "      <td>31017.109375</td>\n",
              "      <td>32514.939453</td>\n",
              "      <td>32514.939453</td>\n",
              "      <td>258300</td>\n",
              "      <td>0.050244</td>\n",
              "    </tr>\n",
              "    <tr>\n",
              "      <th>2017-08-01</th>\n",
              "      <td>32579.800781</td>\n",
              "      <td>32686.480469</td>\n",
              "      <td>31128.019531</td>\n",
              "      <td>31730.490234</td>\n",
              "      <td>31730.490234</td>\n",
              "      <td>241300</td>\n",
              "      <td>-0.024422</td>\n",
              "    </tr>\n",
              "    <tr>\n",
              "      <th>2017-09-01</th>\n",
              "      <td>31769.339844</td>\n",
              "      <td>32524.109375</td>\n",
              "      <td>31081.830078</td>\n",
              "      <td>31283.720703</td>\n",
              "      <td>31283.720703</td>\n",
              "      <td>233900</td>\n",
              "      <td>-0.014180</td>\n",
              "    </tr>\n",
              "  </tbody>\n",
              "</table>\n",
              "</div>\n",
              "      <button class=\"colab-df-convert\" onclick=\"convertToInteractive('df-caa250c5-92e2-47f3-be43-26ec70eb8a4f')\"\n",
              "              title=\"Convert this dataframe to an interactive table.\"\n",
              "              style=\"display:none;\">\n",
              "        \n",
              "  <svg xmlns=\"http://www.w3.org/2000/svg\" height=\"24px\"viewBox=\"0 0 24 24\"\n",
              "       width=\"24px\">\n",
              "    <path d=\"M0 0h24v24H0V0z\" fill=\"none\"/>\n",
              "    <path d=\"M18.56 5.44l.94 2.06.94-2.06 2.06-.94-2.06-.94-.94-2.06-.94 2.06-2.06.94zm-11 1L8.5 8.5l.94-2.06 2.06-.94-2.06-.94L8.5 2.5l-.94 2.06-2.06.94zm10 10l.94 2.06.94-2.06 2.06-.94-2.06-.94-.94-2.06-.94 2.06-2.06.94z\"/><path d=\"M17.41 7.96l-1.37-1.37c-.4-.4-.92-.59-1.43-.59-.52 0-1.04.2-1.43.59L10.3 9.45l-7.72 7.72c-.78.78-.78 2.05 0 2.83L4 21.41c.39.39.9.59 1.41.59.51 0 1.02-.2 1.41-.59l7.78-7.78 2.81-2.81c.8-.78.8-2.07 0-2.86zM5.41 20L4 18.59l7.72-7.72 1.47 1.35L5.41 20z\"/>\n",
              "  </svg>\n",
              "      </button>\n",
              "      \n",
              "  <style>\n",
              "    .colab-df-container {\n",
              "      display:flex;\n",
              "      flex-wrap:wrap;\n",
              "      gap: 12px;\n",
              "    }\n",
              "\n",
              "    .colab-df-convert {\n",
              "      background-color: #E8F0FE;\n",
              "      border: none;\n",
              "      border-radius: 50%;\n",
              "      cursor: pointer;\n",
              "      display: none;\n",
              "      fill: #1967D2;\n",
              "      height: 32px;\n",
              "      padding: 0 0 0 0;\n",
              "      width: 32px;\n",
              "    }\n",
              "\n",
              "    .colab-df-convert:hover {\n",
              "      background-color: #E2EBFA;\n",
              "      box-shadow: 0px 1px 2px rgba(60, 64, 67, 0.3), 0px 1px 3px 1px rgba(60, 64, 67, 0.15);\n",
              "      fill: #174EA6;\n",
              "    }\n",
              "\n",
              "    [theme=dark] .colab-df-convert {\n",
              "      background-color: #3B4455;\n",
              "      fill: #D2E3FC;\n",
              "    }\n",
              "\n",
              "    [theme=dark] .colab-df-convert:hover {\n",
              "      background-color: #434B5C;\n",
              "      box-shadow: 0px 1px 3px 1px rgba(0, 0, 0, 0.15);\n",
              "      filter: drop-shadow(0px 1px 2px rgba(0, 0, 0, 0.3));\n",
              "      fill: #FFFFFF;\n",
              "    }\n",
              "  </style>\n",
              "\n",
              "      <script>\n",
              "        const buttonEl =\n",
              "          document.querySelector('#df-caa250c5-92e2-47f3-be43-26ec70eb8a4f button.colab-df-convert');\n",
              "        buttonEl.style.display =\n",
              "          google.colab.kernel.accessAllowed ? 'block' : 'none';\n",
              "\n",
              "        async function convertToInteractive(key) {\n",
              "          const element = document.querySelector('#df-caa250c5-92e2-47f3-be43-26ec70eb8a4f');\n",
              "          const dataTable =\n",
              "            await google.colab.kernel.invokeFunction('convertToInteractive',\n",
              "                                                     [key], {});\n",
              "          if (!dataTable) return;\n",
              "\n",
              "          const docLinkHtml = 'Like what you see? Visit the ' +\n",
              "            '<a target=\"_blank\" href=https://colab.research.google.com/notebooks/data_table.ipynb>data table notebook</a>'\n",
              "            + ' to learn more about interactive tables.';\n",
              "          element.innerHTML = '';\n",
              "          dataTable['output_type'] = 'display_data';\n",
              "          await google.colab.output.renderOutput(dataTable, element);\n",
              "          const docLink = document.createElement('div');\n",
              "          docLink.innerHTML = docLinkHtml;\n",
              "          element.appendChild(docLink);\n",
              "        }\n",
              "      </script>\n",
              "    </div>\n",
              "  </div>\n",
              "  "
            ]
          },
          "metadata": {},
          "execution_count": 8
        }
      ]
    },
    {
      "cell_type": "code",
      "source": [
        "nifty_df1_returns = nifty_df1['Return_NIFTY']\n",
        "nifty_df1_returns.head()"
      ],
      "metadata": {
        "colab": {
          "base_uri": "https://localhost:8080/"
        },
        "id": "iFG2S2lHryb1",
        "outputId": "346f6dfa-fd91-43d5-b426-367d60e81e60"
      },
      "execution_count": null,
      "outputs": [
        {
          "output_type": "execute_result",
          "data": {
            "text/plain": [
              "Date\n",
              "2017-05-01    0.040206\n",
              "2017-06-01   -0.007224\n",
              "2017-07-01    0.050244\n",
              "2017-08-01   -0.024422\n",
              "2017-09-01   -0.014180\n",
              "Name: Return_NIFTY, dtype: float64"
            ]
          },
          "metadata": {},
          "execution_count": 9
        }
      ]
    },
    {
      "cell_type": "markdown",
      "source": [
        "*`Mean Market Return calculation for CAPM model`*"
      ],
      "metadata": {
        "id": "TRvda9k1tmuG"
      }
    },
    {
      "cell_type": "code",
      "source": [
        "returns_nifty = nifty_df1_returns\n",
        "returns_nifty.describe()"
      ],
      "metadata": {
        "colab": {
          "base_uri": "https://localhost:8080/"
        },
        "id": "0KlBC7_bgqeC",
        "outputId": "3ce76537-3c84-48d5-ec4b-d806f7830169"
      },
      "execution_count": null,
      "outputs": [
        {
          "output_type": "execute_result",
          "data": {
            "text/plain": [
              "count    47.000000\n",
              "mean      0.010717\n",
              "std       0.060515\n",
              "min      -0.262058\n",
              "25%      -0.013558\n",
              "50%       0.009231\n",
              "75%       0.049934\n",
              "max       0.134699\n",
              "Name: Return_NIFTY, dtype: float64"
            ]
          },
          "metadata": {},
          "execution_count": 10
        }
      ]
    },
    {
      "cell_type": "markdown",
      "source": [
        "*Mean Market Return(Rm_Mean) is 1.0717%*"
      ],
      "metadata": {
        "id": "675eAhoNuo7_"
      }
    },
    {
      "cell_type": "markdown",
      "source": [
        "*`Darshan Orna Limited Returns`*"
      ],
      "metadata": {
        "id": "ls0pctHF4VL_"
      }
    },
    {
      "cell_type": "code",
      "source": [
        "#Caclulate log returns\n",
        "dol_df['Return_DOL'] = np.log(dol_df['Adj Close']/dol_df['Adj Close'].shift(1))\n",
        "print(dol_df['Return_DOL']) "
      ],
      "metadata": {
        "colab": {
          "base_uri": "https://localhost:8080/"
        },
        "id": "W-pgVjTam0jL",
        "outputId": "89e8562b-f02b-435c-e654-cddfaab1fda4"
      },
      "execution_count": null,
      "outputs": [
        {
          "output_type": "stream",
          "name": "stdout",
          "text": [
            "Date\n",
            "2017-04-01         NaN\n",
            "2017-05-01    0.156654\n",
            "2017-06-01    0.000000\n",
            "2017-07-01    0.323894\n",
            "2017-08-01    0.070398\n",
            "2017-09-01    0.155754\n",
            "2017-10-01   -0.028281\n",
            "2017-11-01    0.296545\n",
            "2017-12-01    0.162519\n",
            "2018-01-01    0.213093\n",
            "2018-02-01   -0.084260\n",
            "2018-03-01   -0.802177\n",
            "2018-04-01    0.083994\n",
            "2018-05-01   -0.031476\n",
            "2018-06-01   -0.097639\n",
            "2018-07-01    0.258412\n",
            "2018-08-01    0.213193\n",
            "2018-08-20         NaN\n",
            "2018-09-01         NaN\n",
            "2018-09-19         NaN\n",
            "2018-10-01         NaN\n",
            "2018-11-01   -0.035091\n",
            "2018-12-01    0.417888\n",
            "2019-01-01    0.271682\n",
            "2019-02-01   -1.005014\n",
            "2019-03-01   -0.275920\n",
            "2019-04-01   -0.156842\n",
            "2019-05-01    0.125718\n",
            "2019-06-01    0.260699\n",
            "2019-07-01   -0.048598\n",
            "2019-08-01    0.161240\n",
            "2019-09-01    0.195032\n",
            "2019-10-01   -0.079415\n",
            "2019-11-01   -0.002043\n",
            "2019-12-01    0.040086\n",
            "2020-01-01    0.021381\n",
            "2020-02-01   -0.384532\n",
            "2020-03-01    0.044206\n",
            "2020-04-01   -0.064178\n",
            "2020-05-01   -0.119225\n",
            "2020-06-01   -0.212647\n",
            "2020-07-01   -0.445409\n",
            "2020-08-01   -0.349091\n",
            "2020-09-01   -0.174353\n",
            "2020-10-01    0.938270\n",
            "2020-11-01   -0.023038\n",
            "2020-12-01   -0.494019\n",
            "2021-01-01   -0.087011\n",
            "2021-02-01    0.056695\n",
            "2021-03-01    0.019845\n",
            "Name: Return_DOL, dtype: float64\n"
          ]
        }
      ]
    },
    {
      "cell_type": "code",
      "source": [
        "dol_df1 = dol_df.dropna(axis=0)\n",
        "dol_df1.head()"
      ],
      "metadata": {
        "colab": {
          "base_uri": "https://localhost:8080/",
          "height": 238
        },
        "id": "Z3xXQiNmm__a",
        "outputId": "505609b0-c893-400e-99f3-1ce019450cb5"
      },
      "execution_count": null,
      "outputs": [
        {
          "output_type": "execute_result",
          "data": {
            "text/plain": [
              "                 Open       High        Low      Close  Adj Close     Volume  \\\n",
              "Date                                                                           \n",
              "2017-05-01  24.428572  29.952379  23.976191  28.571428  28.517315  2520000.0   \n",
              "2017-06-01  28.571428  28.571428  28.571428  28.571428  28.517315    16800.0   \n",
              "2017-07-01  28.571428  39.523808  27.428572  39.500000  39.425190   260400.0   \n",
              "2017-08-01  39.523808  45.238094  39.523808  42.380951  42.300686   126000.0   \n",
              "2017-09-01  40.714287  49.523808  40.285713  49.523808  49.430012   134400.0   \n",
              "\n",
              "            Return_DOL  \n",
              "Date                    \n",
              "2017-05-01    0.156654  \n",
              "2017-06-01    0.000000  \n",
              "2017-07-01    0.323894  \n",
              "2017-08-01    0.070398  \n",
              "2017-09-01    0.155754  "
            ],
            "text/html": [
              "\n",
              "  <div id=\"df-d21eb7e7-bb9b-4ff8-bec8-6e8bbdd6eb2d\">\n",
              "    <div class=\"colab-df-container\">\n",
              "      <div>\n",
              "<style scoped>\n",
              "    .dataframe tbody tr th:only-of-type {\n",
              "        vertical-align: middle;\n",
              "    }\n",
              "\n",
              "    .dataframe tbody tr th {\n",
              "        vertical-align: top;\n",
              "    }\n",
              "\n",
              "    .dataframe thead th {\n",
              "        text-align: right;\n",
              "    }\n",
              "</style>\n",
              "<table border=\"1\" class=\"dataframe\">\n",
              "  <thead>\n",
              "    <tr style=\"text-align: right;\">\n",
              "      <th></th>\n",
              "      <th>Open</th>\n",
              "      <th>High</th>\n",
              "      <th>Low</th>\n",
              "      <th>Close</th>\n",
              "      <th>Adj Close</th>\n",
              "      <th>Volume</th>\n",
              "      <th>Return_DOL</th>\n",
              "    </tr>\n",
              "    <tr>\n",
              "      <th>Date</th>\n",
              "      <th></th>\n",
              "      <th></th>\n",
              "      <th></th>\n",
              "      <th></th>\n",
              "      <th></th>\n",
              "      <th></th>\n",
              "      <th></th>\n",
              "    </tr>\n",
              "  </thead>\n",
              "  <tbody>\n",
              "    <tr>\n",
              "      <th>2017-05-01</th>\n",
              "      <td>24.428572</td>\n",
              "      <td>29.952379</td>\n",
              "      <td>23.976191</td>\n",
              "      <td>28.571428</td>\n",
              "      <td>28.517315</td>\n",
              "      <td>2520000.0</td>\n",
              "      <td>0.156654</td>\n",
              "    </tr>\n",
              "    <tr>\n",
              "      <th>2017-06-01</th>\n",
              "      <td>28.571428</td>\n",
              "      <td>28.571428</td>\n",
              "      <td>28.571428</td>\n",
              "      <td>28.571428</td>\n",
              "      <td>28.517315</td>\n",
              "      <td>16800.0</td>\n",
              "      <td>0.000000</td>\n",
              "    </tr>\n",
              "    <tr>\n",
              "      <th>2017-07-01</th>\n",
              "      <td>28.571428</td>\n",
              "      <td>39.523808</td>\n",
              "      <td>27.428572</td>\n",
              "      <td>39.500000</td>\n",
              "      <td>39.425190</td>\n",
              "      <td>260400.0</td>\n",
              "      <td>0.323894</td>\n",
              "    </tr>\n",
              "    <tr>\n",
              "      <th>2017-08-01</th>\n",
              "      <td>39.523808</td>\n",
              "      <td>45.238094</td>\n",
              "      <td>39.523808</td>\n",
              "      <td>42.380951</td>\n",
              "      <td>42.300686</td>\n",
              "      <td>126000.0</td>\n",
              "      <td>0.070398</td>\n",
              "    </tr>\n",
              "    <tr>\n",
              "      <th>2017-09-01</th>\n",
              "      <td>40.714287</td>\n",
              "      <td>49.523808</td>\n",
              "      <td>40.285713</td>\n",
              "      <td>49.523808</td>\n",
              "      <td>49.430012</td>\n",
              "      <td>134400.0</td>\n",
              "      <td>0.155754</td>\n",
              "    </tr>\n",
              "  </tbody>\n",
              "</table>\n",
              "</div>\n",
              "      <button class=\"colab-df-convert\" onclick=\"convertToInteractive('df-d21eb7e7-bb9b-4ff8-bec8-6e8bbdd6eb2d')\"\n",
              "              title=\"Convert this dataframe to an interactive table.\"\n",
              "              style=\"display:none;\">\n",
              "        \n",
              "  <svg xmlns=\"http://www.w3.org/2000/svg\" height=\"24px\"viewBox=\"0 0 24 24\"\n",
              "       width=\"24px\">\n",
              "    <path d=\"M0 0h24v24H0V0z\" fill=\"none\"/>\n",
              "    <path d=\"M18.56 5.44l.94 2.06.94-2.06 2.06-.94-2.06-.94-.94-2.06-.94 2.06-2.06.94zm-11 1L8.5 8.5l.94-2.06 2.06-.94-2.06-.94L8.5 2.5l-.94 2.06-2.06.94zm10 10l.94 2.06.94-2.06 2.06-.94-2.06-.94-.94-2.06-.94 2.06-2.06.94z\"/><path d=\"M17.41 7.96l-1.37-1.37c-.4-.4-.92-.59-1.43-.59-.52 0-1.04.2-1.43.59L10.3 9.45l-7.72 7.72c-.78.78-.78 2.05 0 2.83L4 21.41c.39.39.9.59 1.41.59.51 0 1.02-.2 1.41-.59l7.78-7.78 2.81-2.81c.8-.78.8-2.07 0-2.86zM5.41 20L4 18.59l7.72-7.72 1.47 1.35L5.41 20z\"/>\n",
              "  </svg>\n",
              "      </button>\n",
              "      \n",
              "  <style>\n",
              "    .colab-df-container {\n",
              "      display:flex;\n",
              "      flex-wrap:wrap;\n",
              "      gap: 12px;\n",
              "    }\n",
              "\n",
              "    .colab-df-convert {\n",
              "      background-color: #E8F0FE;\n",
              "      border: none;\n",
              "      border-radius: 50%;\n",
              "      cursor: pointer;\n",
              "      display: none;\n",
              "      fill: #1967D2;\n",
              "      height: 32px;\n",
              "      padding: 0 0 0 0;\n",
              "      width: 32px;\n",
              "    }\n",
              "\n",
              "    .colab-df-convert:hover {\n",
              "      background-color: #E2EBFA;\n",
              "      box-shadow: 0px 1px 2px rgba(60, 64, 67, 0.3), 0px 1px 3px 1px rgba(60, 64, 67, 0.15);\n",
              "      fill: #174EA6;\n",
              "    }\n",
              "\n",
              "    [theme=dark] .colab-df-convert {\n",
              "      background-color: #3B4455;\n",
              "      fill: #D2E3FC;\n",
              "    }\n",
              "\n",
              "    [theme=dark] .colab-df-convert:hover {\n",
              "      background-color: #434B5C;\n",
              "      box-shadow: 0px 1px 3px 1px rgba(0, 0, 0, 0.15);\n",
              "      filter: drop-shadow(0px 1px 2px rgba(0, 0, 0, 0.3));\n",
              "      fill: #FFFFFF;\n",
              "    }\n",
              "  </style>\n",
              "\n",
              "      <script>\n",
              "        const buttonEl =\n",
              "          document.querySelector('#df-d21eb7e7-bb9b-4ff8-bec8-6e8bbdd6eb2d button.colab-df-convert');\n",
              "        buttonEl.style.display =\n",
              "          google.colab.kernel.accessAllowed ? 'block' : 'none';\n",
              "\n",
              "        async function convertToInteractive(key) {\n",
              "          const element = document.querySelector('#df-d21eb7e7-bb9b-4ff8-bec8-6e8bbdd6eb2d');\n",
              "          const dataTable =\n",
              "            await google.colab.kernel.invokeFunction('convertToInteractive',\n",
              "                                                     [key], {});\n",
              "          if (!dataTable) return;\n",
              "\n",
              "          const docLinkHtml = 'Like what you see? Visit the ' +\n",
              "            '<a target=\"_blank\" href=https://colab.research.google.com/notebooks/data_table.ipynb>data table notebook</a>'\n",
              "            + ' to learn more about interactive tables.';\n",
              "          element.innerHTML = '';\n",
              "          dataTable['output_type'] = 'display_data';\n",
              "          await google.colab.output.renderOutput(dataTable, element);\n",
              "          const docLink = document.createElement('div');\n",
              "          docLink.innerHTML = docLinkHtml;\n",
              "          element.appendChild(docLink);\n",
              "        }\n",
              "      </script>\n",
              "    </div>\n",
              "  </div>\n",
              "  "
            ]
          },
          "metadata": {},
          "execution_count": 12
        }
      ]
    },
    {
      "cell_type": "code",
      "source": [
        "dol_df1_returns = dol_df1['Return_DOL']\n",
        "dol_df1_returns.head()"
      ],
      "metadata": {
        "colab": {
          "base_uri": "https://localhost:8080/"
        },
        "id": "T0h1-cQjnPTj",
        "outputId": "1d7bf0b1-263c-4956-b200-5802a1a82647"
      },
      "execution_count": null,
      "outputs": [
        {
          "output_type": "execute_result",
          "data": {
            "text/plain": [
              "Date\n",
              "2017-05-01    0.156654\n",
              "2017-06-01    0.000000\n",
              "2017-07-01    0.323894\n",
              "2017-08-01    0.070398\n",
              "2017-09-01    0.155754\n",
              "Name: Return_DOL, dtype: float64"
            ]
          },
          "metadata": {},
          "execution_count": 13
        }
      ]
    },
    {
      "cell_type": "code",
      "source": [
        "returns_dol = pd.merge(nifty_df1_returns,dol_df1_returns,how='inner',on='Date')\n",
        "returns_dol.head()\n",
        "returns_dol.describe()"
      ],
      "metadata": {
        "colab": {
          "base_uri": "https://localhost:8080/",
          "height": 300
        },
        "id": "_kIUjtUer5zC",
        "outputId": "7ca6df73-2f73-434d-ffae-1a63b5f7b80e"
      },
      "execution_count": null,
      "outputs": [
        {
          "output_type": "execute_result",
          "data": {
            "text/plain": [
              "       Return_NIFTY  Return_DOL\n",
              "count     45.000000   45.000000\n",
              "mean       0.013752   -0.011401\n",
              "std        0.060041    0.313082\n",
              "min       -0.262058   -1.005014\n",
              "25%       -0.010794   -0.097639\n",
              "50%        0.011211    0.000000\n",
              "75%        0.050244    0.161240\n",
              "max        0.134699    0.938270"
            ],
            "text/html": [
              "\n",
              "  <div id=\"df-407f2594-6f5e-4a1d-a6ff-919b3b4aab01\">\n",
              "    <div class=\"colab-df-container\">\n",
              "      <div>\n",
              "<style scoped>\n",
              "    .dataframe tbody tr th:only-of-type {\n",
              "        vertical-align: middle;\n",
              "    }\n",
              "\n",
              "    .dataframe tbody tr th {\n",
              "        vertical-align: top;\n",
              "    }\n",
              "\n",
              "    .dataframe thead th {\n",
              "        text-align: right;\n",
              "    }\n",
              "</style>\n",
              "<table border=\"1\" class=\"dataframe\">\n",
              "  <thead>\n",
              "    <tr style=\"text-align: right;\">\n",
              "      <th></th>\n",
              "      <th>Return_NIFTY</th>\n",
              "      <th>Return_DOL</th>\n",
              "    </tr>\n",
              "  </thead>\n",
              "  <tbody>\n",
              "    <tr>\n",
              "      <th>count</th>\n",
              "      <td>45.000000</td>\n",
              "      <td>45.000000</td>\n",
              "    </tr>\n",
              "    <tr>\n",
              "      <th>mean</th>\n",
              "      <td>0.013752</td>\n",
              "      <td>-0.011401</td>\n",
              "    </tr>\n",
              "    <tr>\n",
              "      <th>std</th>\n",
              "      <td>0.060041</td>\n",
              "      <td>0.313082</td>\n",
              "    </tr>\n",
              "    <tr>\n",
              "      <th>min</th>\n",
              "      <td>-0.262058</td>\n",
              "      <td>-1.005014</td>\n",
              "    </tr>\n",
              "    <tr>\n",
              "      <th>25%</th>\n",
              "      <td>-0.010794</td>\n",
              "      <td>-0.097639</td>\n",
              "    </tr>\n",
              "    <tr>\n",
              "      <th>50%</th>\n",
              "      <td>0.011211</td>\n",
              "      <td>0.000000</td>\n",
              "    </tr>\n",
              "    <tr>\n",
              "      <th>75%</th>\n",
              "      <td>0.050244</td>\n",
              "      <td>0.161240</td>\n",
              "    </tr>\n",
              "    <tr>\n",
              "      <th>max</th>\n",
              "      <td>0.134699</td>\n",
              "      <td>0.938270</td>\n",
              "    </tr>\n",
              "  </tbody>\n",
              "</table>\n",
              "</div>\n",
              "      <button class=\"colab-df-convert\" onclick=\"convertToInteractive('df-407f2594-6f5e-4a1d-a6ff-919b3b4aab01')\"\n",
              "              title=\"Convert this dataframe to an interactive table.\"\n",
              "              style=\"display:none;\">\n",
              "        \n",
              "  <svg xmlns=\"http://www.w3.org/2000/svg\" height=\"24px\"viewBox=\"0 0 24 24\"\n",
              "       width=\"24px\">\n",
              "    <path d=\"M0 0h24v24H0V0z\" fill=\"none\"/>\n",
              "    <path d=\"M18.56 5.44l.94 2.06.94-2.06 2.06-.94-2.06-.94-.94-2.06-.94 2.06-2.06.94zm-11 1L8.5 8.5l.94-2.06 2.06-.94-2.06-.94L8.5 2.5l-.94 2.06-2.06.94zm10 10l.94 2.06.94-2.06 2.06-.94-2.06-.94-.94-2.06-.94 2.06-2.06.94z\"/><path d=\"M17.41 7.96l-1.37-1.37c-.4-.4-.92-.59-1.43-.59-.52 0-1.04.2-1.43.59L10.3 9.45l-7.72 7.72c-.78.78-.78 2.05 0 2.83L4 21.41c.39.39.9.59 1.41.59.51 0 1.02-.2 1.41-.59l7.78-7.78 2.81-2.81c.8-.78.8-2.07 0-2.86zM5.41 20L4 18.59l7.72-7.72 1.47 1.35L5.41 20z\"/>\n",
              "  </svg>\n",
              "      </button>\n",
              "      \n",
              "  <style>\n",
              "    .colab-df-container {\n",
              "      display:flex;\n",
              "      flex-wrap:wrap;\n",
              "      gap: 12px;\n",
              "    }\n",
              "\n",
              "    .colab-df-convert {\n",
              "      background-color: #E8F0FE;\n",
              "      border: none;\n",
              "      border-radius: 50%;\n",
              "      cursor: pointer;\n",
              "      display: none;\n",
              "      fill: #1967D2;\n",
              "      height: 32px;\n",
              "      padding: 0 0 0 0;\n",
              "      width: 32px;\n",
              "    }\n",
              "\n",
              "    .colab-df-convert:hover {\n",
              "      background-color: #E2EBFA;\n",
              "      box-shadow: 0px 1px 2px rgba(60, 64, 67, 0.3), 0px 1px 3px 1px rgba(60, 64, 67, 0.15);\n",
              "      fill: #174EA6;\n",
              "    }\n",
              "\n",
              "    [theme=dark] .colab-df-convert {\n",
              "      background-color: #3B4455;\n",
              "      fill: #D2E3FC;\n",
              "    }\n",
              "\n",
              "    [theme=dark] .colab-df-convert:hover {\n",
              "      background-color: #434B5C;\n",
              "      box-shadow: 0px 1px 3px 1px rgba(0, 0, 0, 0.15);\n",
              "      filter: drop-shadow(0px 1px 2px rgba(0, 0, 0, 0.3));\n",
              "      fill: #FFFFFF;\n",
              "    }\n",
              "  </style>\n",
              "\n",
              "      <script>\n",
              "        const buttonEl =\n",
              "          document.querySelector('#df-407f2594-6f5e-4a1d-a6ff-919b3b4aab01 button.colab-df-convert');\n",
              "        buttonEl.style.display =\n",
              "          google.colab.kernel.accessAllowed ? 'block' : 'none';\n",
              "\n",
              "        async function convertToInteractive(key) {\n",
              "          const element = document.querySelector('#df-407f2594-6f5e-4a1d-a6ff-919b3b4aab01');\n",
              "          const dataTable =\n",
              "            await google.colab.kernel.invokeFunction('convertToInteractive',\n",
              "                                                     [key], {});\n",
              "          if (!dataTable) return;\n",
              "\n",
              "          const docLinkHtml = 'Like what you see? Visit the ' +\n",
              "            '<a target=\"_blank\" href=https://colab.research.google.com/notebooks/data_table.ipynb>data table notebook</a>'\n",
              "            + ' to learn more about interactive tables.';\n",
              "          element.innerHTML = '';\n",
              "          dataTable['output_type'] = 'display_data';\n",
              "          await google.colab.output.renderOutput(dataTable, element);\n",
              "          const docLink = document.createElement('div');\n",
              "          docLink.innerHTML = docLinkHtml;\n",
              "          element.appendChild(docLink);\n",
              "        }\n",
              "      </script>\n",
              "    </div>\n",
              "  </div>\n",
              "  "
            ]
          },
          "metadata": {},
          "execution_count": 14
        }
      ]
    },
    {
      "cell_type": "markdown",
      "source": [
        "*`Radhika JewelTech Limited Returns`*"
      ],
      "metadata": {
        "id": "JIgxrK4PEbzj"
      }
    },
    {
      "cell_type": "code",
      "source": [
        "#Caclulate log returns\n",
        "rjl_df['Return_RJL'] = np.log(rjl_df['Adj Close']/rjl_df['Adj Close'].shift(1))\n",
        "print(rjl_df['Return_RJL'])"
      ],
      "metadata": {
        "colab": {
          "base_uri": "https://localhost:8080/"
        },
        "id": "8gQHT3Z8EJiS",
        "outputId": "a8acbe67-86f7-4dc8-e5d4-acbb6c7cfb2b"
      },
      "execution_count": null,
      "outputs": [
        {
          "output_type": "stream",
          "name": "stdout",
          "text": [
            "Date\n",
            "2017-04-01         NaN\n",
            "2017-05-01   -0.251314\n",
            "2017-06-01    0.388174\n",
            "2017-07-01    0.072861\n",
            "2017-08-01   -0.232193\n",
            "2017-09-01   -0.061513\n",
            "2017-10-01    0.055815\n",
            "2017-11-01    0.366625\n",
            "2017-12-01    0.488398\n",
            "2018-01-01   -0.092883\n",
            "2018-02-01   -0.223144\n",
            "2018-03-01   -0.053049\n",
            "2018-04-01    0.036242\n",
            "2018-05-01   -0.006803\n",
            "2018-06-01   -0.304894\n",
            "2018-07-01    0.018349\n",
            "2018-08-01   -0.046520\n",
            "2018-09-01   -0.113329\n",
            "2018-10-01    0.041782\n",
            "2018-11-01   -0.007702\n",
            "2018-12-01   -0.002581\n",
            "2019-01-01   -0.050342\n",
            "2019-02-01   -0.108990\n",
            "2019-03-01    0.058840\n",
            "2019-04-01    0.158224\n",
            "2019-05-01    0.218254\n",
            "2019-06-01   -0.103184\n",
            "2019-07-01   -0.245122\n",
            "2019-07-22         NaN\n",
            "2019-08-01         NaN\n",
            "2019-09-01    0.029532\n",
            "2019-10-01    0.002642\n",
            "2019-11-01   -0.024033\n",
            "2019-12-01    0.010753\n",
            "2020-01-01   -0.077817\n",
            "2020-02-01   -0.059541\n",
            "2020-03-01    0.006116\n",
            "2020-04-01    0.015129\n",
            "2020-05-01    0.150282\n",
            "2020-06-01   -0.086307\n",
            "2020-07-01   -0.043172\n",
            "2020-08-01   -0.092373\n",
            "2020-09-01   -0.042840\n",
            "2020-10-01    0.105966\n",
            "2020-11-01   -0.095916\n",
            "2020-12-01    0.070769\n",
            "2021-01-01    0.071887\n",
            "2021-02-01    0.002886\n",
            "2021-03-01   -0.142214\n",
            "Name: Return_RJL, dtype: float64\n"
          ]
        }
      ]
    },
    {
      "cell_type": "code",
      "source": [
        "rjl_df1 = rjl_df.dropna(axis=0)\n",
        "rjl_df1.head()"
      ],
      "metadata": {
        "colab": {
          "base_uri": "https://localhost:8080/",
          "height": 238
        },
        "id": "z63ybvgyElW1",
        "outputId": "59dc044f-c782-40aa-9880-1caf5bf0a88f"
      },
      "execution_count": null,
      "outputs": [
        {
          "output_type": "execute_result",
          "data": {
            "text/plain": [
              "                 Open       High   Low      Close  Adj Close     Volume  \\\n",
              "Date                                                                      \n",
              "2017-05-01  18.000000  18.750000  13.0  14.000000  13.349349  1331200.0   \n",
              "2017-06-01  13.800000  21.120001  13.0  20.639999  19.680754   873600.0   \n",
              "2017-07-01  21.299999  25.750000  17.6  22.200001  21.168255   779200.0   \n",
              "2017-08-01  22.750000  22.750000  16.6  17.600000  16.782040   160000.0   \n",
              "2017-09-01  17.750000  22.750000  16.5  16.549999  15.780837   428800.0   \n",
              "\n",
              "            Return_RJL  \n",
              "Date                    \n",
              "2017-05-01   -0.251314  \n",
              "2017-06-01    0.388174  \n",
              "2017-07-01    0.072861  \n",
              "2017-08-01   -0.232193  \n",
              "2017-09-01   -0.061513  "
            ],
            "text/html": [
              "\n",
              "  <div id=\"df-a06473b5-f0e2-4790-b551-d8516269741e\">\n",
              "    <div class=\"colab-df-container\">\n",
              "      <div>\n",
              "<style scoped>\n",
              "    .dataframe tbody tr th:only-of-type {\n",
              "        vertical-align: middle;\n",
              "    }\n",
              "\n",
              "    .dataframe tbody tr th {\n",
              "        vertical-align: top;\n",
              "    }\n",
              "\n",
              "    .dataframe thead th {\n",
              "        text-align: right;\n",
              "    }\n",
              "</style>\n",
              "<table border=\"1\" class=\"dataframe\">\n",
              "  <thead>\n",
              "    <tr style=\"text-align: right;\">\n",
              "      <th></th>\n",
              "      <th>Open</th>\n",
              "      <th>High</th>\n",
              "      <th>Low</th>\n",
              "      <th>Close</th>\n",
              "      <th>Adj Close</th>\n",
              "      <th>Volume</th>\n",
              "      <th>Return_RJL</th>\n",
              "    </tr>\n",
              "    <tr>\n",
              "      <th>Date</th>\n",
              "      <th></th>\n",
              "      <th></th>\n",
              "      <th></th>\n",
              "      <th></th>\n",
              "      <th></th>\n",
              "      <th></th>\n",
              "      <th></th>\n",
              "    </tr>\n",
              "  </thead>\n",
              "  <tbody>\n",
              "    <tr>\n",
              "      <th>2017-05-01</th>\n",
              "      <td>18.000000</td>\n",
              "      <td>18.750000</td>\n",
              "      <td>13.0</td>\n",
              "      <td>14.000000</td>\n",
              "      <td>13.349349</td>\n",
              "      <td>1331200.0</td>\n",
              "      <td>-0.251314</td>\n",
              "    </tr>\n",
              "    <tr>\n",
              "      <th>2017-06-01</th>\n",
              "      <td>13.800000</td>\n",
              "      <td>21.120001</td>\n",
              "      <td>13.0</td>\n",
              "      <td>20.639999</td>\n",
              "      <td>19.680754</td>\n",
              "      <td>873600.0</td>\n",
              "      <td>0.388174</td>\n",
              "    </tr>\n",
              "    <tr>\n",
              "      <th>2017-07-01</th>\n",
              "      <td>21.299999</td>\n",
              "      <td>25.750000</td>\n",
              "      <td>17.6</td>\n",
              "      <td>22.200001</td>\n",
              "      <td>21.168255</td>\n",
              "      <td>779200.0</td>\n",
              "      <td>0.072861</td>\n",
              "    </tr>\n",
              "    <tr>\n",
              "      <th>2017-08-01</th>\n",
              "      <td>22.750000</td>\n",
              "      <td>22.750000</td>\n",
              "      <td>16.6</td>\n",
              "      <td>17.600000</td>\n",
              "      <td>16.782040</td>\n",
              "      <td>160000.0</td>\n",
              "      <td>-0.232193</td>\n",
              "    </tr>\n",
              "    <tr>\n",
              "      <th>2017-09-01</th>\n",
              "      <td>17.750000</td>\n",
              "      <td>22.750000</td>\n",
              "      <td>16.5</td>\n",
              "      <td>16.549999</td>\n",
              "      <td>15.780837</td>\n",
              "      <td>428800.0</td>\n",
              "      <td>-0.061513</td>\n",
              "    </tr>\n",
              "  </tbody>\n",
              "</table>\n",
              "</div>\n",
              "      <button class=\"colab-df-convert\" onclick=\"convertToInteractive('df-a06473b5-f0e2-4790-b551-d8516269741e')\"\n",
              "              title=\"Convert this dataframe to an interactive table.\"\n",
              "              style=\"display:none;\">\n",
              "        \n",
              "  <svg xmlns=\"http://www.w3.org/2000/svg\" height=\"24px\"viewBox=\"0 0 24 24\"\n",
              "       width=\"24px\">\n",
              "    <path d=\"M0 0h24v24H0V0z\" fill=\"none\"/>\n",
              "    <path d=\"M18.56 5.44l.94 2.06.94-2.06 2.06-.94-2.06-.94-.94-2.06-.94 2.06-2.06.94zm-11 1L8.5 8.5l.94-2.06 2.06-.94-2.06-.94L8.5 2.5l-.94 2.06-2.06.94zm10 10l.94 2.06.94-2.06 2.06-.94-2.06-.94-.94-2.06-.94 2.06-2.06.94z\"/><path d=\"M17.41 7.96l-1.37-1.37c-.4-.4-.92-.59-1.43-.59-.52 0-1.04.2-1.43.59L10.3 9.45l-7.72 7.72c-.78.78-.78 2.05 0 2.83L4 21.41c.39.39.9.59 1.41.59.51 0 1.02-.2 1.41-.59l7.78-7.78 2.81-2.81c.8-.78.8-2.07 0-2.86zM5.41 20L4 18.59l7.72-7.72 1.47 1.35L5.41 20z\"/>\n",
              "  </svg>\n",
              "      </button>\n",
              "      \n",
              "  <style>\n",
              "    .colab-df-container {\n",
              "      display:flex;\n",
              "      flex-wrap:wrap;\n",
              "      gap: 12px;\n",
              "    }\n",
              "\n",
              "    .colab-df-convert {\n",
              "      background-color: #E8F0FE;\n",
              "      border: none;\n",
              "      border-radius: 50%;\n",
              "      cursor: pointer;\n",
              "      display: none;\n",
              "      fill: #1967D2;\n",
              "      height: 32px;\n",
              "      padding: 0 0 0 0;\n",
              "      width: 32px;\n",
              "    }\n",
              "\n",
              "    .colab-df-convert:hover {\n",
              "      background-color: #E2EBFA;\n",
              "      box-shadow: 0px 1px 2px rgba(60, 64, 67, 0.3), 0px 1px 3px 1px rgba(60, 64, 67, 0.15);\n",
              "      fill: #174EA6;\n",
              "    }\n",
              "\n",
              "    [theme=dark] .colab-df-convert {\n",
              "      background-color: #3B4455;\n",
              "      fill: #D2E3FC;\n",
              "    }\n",
              "\n",
              "    [theme=dark] .colab-df-convert:hover {\n",
              "      background-color: #434B5C;\n",
              "      box-shadow: 0px 1px 3px 1px rgba(0, 0, 0, 0.15);\n",
              "      filter: drop-shadow(0px 1px 2px rgba(0, 0, 0, 0.3));\n",
              "      fill: #FFFFFF;\n",
              "    }\n",
              "  </style>\n",
              "\n",
              "      <script>\n",
              "        const buttonEl =\n",
              "          document.querySelector('#df-a06473b5-f0e2-4790-b551-d8516269741e button.colab-df-convert');\n",
              "        buttonEl.style.display =\n",
              "          google.colab.kernel.accessAllowed ? 'block' : 'none';\n",
              "\n",
              "        async function convertToInteractive(key) {\n",
              "          const element = document.querySelector('#df-a06473b5-f0e2-4790-b551-d8516269741e');\n",
              "          const dataTable =\n",
              "            await google.colab.kernel.invokeFunction('convertToInteractive',\n",
              "                                                     [key], {});\n",
              "          if (!dataTable) return;\n",
              "\n",
              "          const docLinkHtml = 'Like what you see? Visit the ' +\n",
              "            '<a target=\"_blank\" href=https://colab.research.google.com/notebooks/data_table.ipynb>data table notebook</a>'\n",
              "            + ' to learn more about interactive tables.';\n",
              "          element.innerHTML = '';\n",
              "          dataTable['output_type'] = 'display_data';\n",
              "          await google.colab.output.renderOutput(dataTable, element);\n",
              "          const docLink = document.createElement('div');\n",
              "          docLink.innerHTML = docLinkHtml;\n",
              "          element.appendChild(docLink);\n",
              "        }\n",
              "      </script>\n",
              "    </div>\n",
              "  </div>\n",
              "  "
            ]
          },
          "metadata": {},
          "execution_count": 16
        }
      ]
    },
    {
      "cell_type": "code",
      "source": [
        "rjl_df1_returns = rjl_df1['Return_RJL']\n",
        "rjl_df1_returns.head()"
      ],
      "metadata": {
        "colab": {
          "base_uri": "https://localhost:8080/"
        },
        "id": "VRycbHZkMg7a",
        "outputId": "69b219a0-2f5c-4ccf-baf6-e6e5efadb025"
      },
      "execution_count": null,
      "outputs": [
        {
          "output_type": "execute_result",
          "data": {
            "text/plain": [
              "Date\n",
              "2017-05-01   -0.251314\n",
              "2017-06-01    0.388174\n",
              "2017-07-01    0.072861\n",
              "2017-08-01   -0.232193\n",
              "2017-09-01   -0.061513\n",
              "Name: Return_RJL, dtype: float64"
            ]
          },
          "metadata": {},
          "execution_count": 17
        }
      ]
    },
    {
      "cell_type": "code",
      "source": [
        "returns_rjl = pd.merge(nifty_df1_returns,rjl_df1_returns,how='inner',on='Date')\n",
        "returns_rjl.head()\n",
        "returns_rjl.describe()"
      ],
      "metadata": {
        "colab": {
          "base_uri": "https://localhost:8080/",
          "height": 300
        },
        "id": "id5_4JLwNDZ0",
        "outputId": "f206fc12-0d3d-4674-b0cc-573aba614777"
      },
      "execution_count": null,
      "outputs": [
        {
          "output_type": "execute_result",
          "data": {
            "text/plain": [
              "       Return_NIFTY  Return_RJL\n",
              "count     46.000000   46.000000\n",
              "mean       0.011036   -0.004310\n",
              "std        0.061144    0.155676\n",
              "min       -0.262058   -0.304894\n",
              "25%       -0.013869   -0.090857\n",
              "50%        0.010221   -0.007252\n",
              "75%        0.050089    0.052306\n",
              "max        0.134699    0.488398"
            ],
            "text/html": [
              "\n",
              "  <div id=\"df-c2d89550-01a8-43e0-9b2e-a9d54167e5be\">\n",
              "    <div class=\"colab-df-container\">\n",
              "      <div>\n",
              "<style scoped>\n",
              "    .dataframe tbody tr th:only-of-type {\n",
              "        vertical-align: middle;\n",
              "    }\n",
              "\n",
              "    .dataframe tbody tr th {\n",
              "        vertical-align: top;\n",
              "    }\n",
              "\n",
              "    .dataframe thead th {\n",
              "        text-align: right;\n",
              "    }\n",
              "</style>\n",
              "<table border=\"1\" class=\"dataframe\">\n",
              "  <thead>\n",
              "    <tr style=\"text-align: right;\">\n",
              "      <th></th>\n",
              "      <th>Return_NIFTY</th>\n",
              "      <th>Return_RJL</th>\n",
              "    </tr>\n",
              "  </thead>\n",
              "  <tbody>\n",
              "    <tr>\n",
              "      <th>count</th>\n",
              "      <td>46.000000</td>\n",
              "      <td>46.000000</td>\n",
              "    </tr>\n",
              "    <tr>\n",
              "      <th>mean</th>\n",
              "      <td>0.011036</td>\n",
              "      <td>-0.004310</td>\n",
              "    </tr>\n",
              "    <tr>\n",
              "      <th>std</th>\n",
              "      <td>0.061144</td>\n",
              "      <td>0.155676</td>\n",
              "    </tr>\n",
              "    <tr>\n",
              "      <th>min</th>\n",
              "      <td>-0.262058</td>\n",
              "      <td>-0.304894</td>\n",
              "    </tr>\n",
              "    <tr>\n",
              "      <th>25%</th>\n",
              "      <td>-0.013869</td>\n",
              "      <td>-0.090857</td>\n",
              "    </tr>\n",
              "    <tr>\n",
              "      <th>50%</th>\n",
              "      <td>0.010221</td>\n",
              "      <td>-0.007252</td>\n",
              "    </tr>\n",
              "    <tr>\n",
              "      <th>75%</th>\n",
              "      <td>0.050089</td>\n",
              "      <td>0.052306</td>\n",
              "    </tr>\n",
              "    <tr>\n",
              "      <th>max</th>\n",
              "      <td>0.134699</td>\n",
              "      <td>0.488398</td>\n",
              "    </tr>\n",
              "  </tbody>\n",
              "</table>\n",
              "</div>\n",
              "      <button class=\"colab-df-convert\" onclick=\"convertToInteractive('df-c2d89550-01a8-43e0-9b2e-a9d54167e5be')\"\n",
              "              title=\"Convert this dataframe to an interactive table.\"\n",
              "              style=\"display:none;\">\n",
              "        \n",
              "  <svg xmlns=\"http://www.w3.org/2000/svg\" height=\"24px\"viewBox=\"0 0 24 24\"\n",
              "       width=\"24px\">\n",
              "    <path d=\"M0 0h24v24H0V0z\" fill=\"none\"/>\n",
              "    <path d=\"M18.56 5.44l.94 2.06.94-2.06 2.06-.94-2.06-.94-.94-2.06-.94 2.06-2.06.94zm-11 1L8.5 8.5l.94-2.06 2.06-.94-2.06-.94L8.5 2.5l-.94 2.06-2.06.94zm10 10l.94 2.06.94-2.06 2.06-.94-2.06-.94-.94-2.06-.94 2.06-2.06.94z\"/><path d=\"M17.41 7.96l-1.37-1.37c-.4-.4-.92-.59-1.43-.59-.52 0-1.04.2-1.43.59L10.3 9.45l-7.72 7.72c-.78.78-.78 2.05 0 2.83L4 21.41c.39.39.9.59 1.41.59.51 0 1.02-.2 1.41-.59l7.78-7.78 2.81-2.81c.8-.78.8-2.07 0-2.86zM5.41 20L4 18.59l7.72-7.72 1.47 1.35L5.41 20z\"/>\n",
              "  </svg>\n",
              "      </button>\n",
              "      \n",
              "  <style>\n",
              "    .colab-df-container {\n",
              "      display:flex;\n",
              "      flex-wrap:wrap;\n",
              "      gap: 12px;\n",
              "    }\n",
              "\n",
              "    .colab-df-convert {\n",
              "      background-color: #E8F0FE;\n",
              "      border: none;\n",
              "      border-radius: 50%;\n",
              "      cursor: pointer;\n",
              "      display: none;\n",
              "      fill: #1967D2;\n",
              "      height: 32px;\n",
              "      padding: 0 0 0 0;\n",
              "      width: 32px;\n",
              "    }\n",
              "\n",
              "    .colab-df-convert:hover {\n",
              "      background-color: #E2EBFA;\n",
              "      box-shadow: 0px 1px 2px rgba(60, 64, 67, 0.3), 0px 1px 3px 1px rgba(60, 64, 67, 0.15);\n",
              "      fill: #174EA6;\n",
              "    }\n",
              "\n",
              "    [theme=dark] .colab-df-convert {\n",
              "      background-color: #3B4455;\n",
              "      fill: #D2E3FC;\n",
              "    }\n",
              "\n",
              "    [theme=dark] .colab-df-convert:hover {\n",
              "      background-color: #434B5C;\n",
              "      box-shadow: 0px 1px 3px 1px rgba(0, 0, 0, 0.15);\n",
              "      filter: drop-shadow(0px 1px 2px rgba(0, 0, 0, 0.3));\n",
              "      fill: #FFFFFF;\n",
              "    }\n",
              "  </style>\n",
              "\n",
              "      <script>\n",
              "        const buttonEl =\n",
              "          document.querySelector('#df-c2d89550-01a8-43e0-9b2e-a9d54167e5be button.colab-df-convert');\n",
              "        buttonEl.style.display =\n",
              "          google.colab.kernel.accessAllowed ? 'block' : 'none';\n",
              "\n",
              "        async function convertToInteractive(key) {\n",
              "          const element = document.querySelector('#df-c2d89550-01a8-43e0-9b2e-a9d54167e5be');\n",
              "          const dataTable =\n",
              "            await google.colab.kernel.invokeFunction('convertToInteractive',\n",
              "                                                     [key], {});\n",
              "          if (!dataTable) return;\n",
              "\n",
              "          const docLinkHtml = 'Like what you see? Visit the ' +\n",
              "            '<a target=\"_blank\" href=https://colab.research.google.com/notebooks/data_table.ipynb>data table notebook</a>'\n",
              "            + ' to learn more about interactive tables.';\n",
              "          element.innerHTML = '';\n",
              "          dataTable['output_type'] = 'display_data';\n",
              "          await google.colab.output.renderOutput(dataTable, element);\n",
              "          const docLink = document.createElement('div');\n",
              "          docLink.innerHTML = docLinkHtml;\n",
              "          element.appendChild(docLink);\n",
              "        }\n",
              "      </script>\n",
              "    </div>\n",
              "  </div>\n",
              "  "
            ]
          },
          "metadata": {},
          "execution_count": 18
        }
      ]
    },
    {
      "cell_type": "markdown",
      "source": [
        "*`Thangmayil Jewellery Limited Returns`*\n"
      ],
      "metadata": {
        "id": "hEfnUwjKlSXB"
      }
    },
    {
      "cell_type": "code",
      "source": [
        "#Caclulate log returns\n",
        "tjl_df['Return_TJL'] = np.log(tjl_df['Adj Close']/tjl_df['Adj Close'].shift(1))\n",
        "print(tjl_df['Return_TJL'])"
      ],
      "metadata": {
        "colab": {
          "base_uri": "https://localhost:8080/"
        },
        "id": "_bl9o0jsvzqM",
        "outputId": "0da5dd4a-c785-4a6a-ce15-e7868be96f36"
      },
      "execution_count": null,
      "outputs": [
        {
          "output_type": "stream",
          "name": "stdout",
          "text": [
            "Date\n",
            "2017-04-01         NaN\n",
            "2017-05-01   -0.088588\n",
            "2017-06-01    0.001234\n",
            "2017-07-01    0.282684\n",
            "2017-07-18         NaN\n",
            "2017-08-01         NaN\n",
            "2017-09-01    0.061503\n",
            "2017-10-01    0.110362\n",
            "2017-11-01    0.309373\n",
            "2017-12-01    0.091476\n",
            "2018-01-01   -0.060893\n",
            "2018-02-01   -0.145698\n",
            "2018-03-01   -0.008365\n",
            "2018-04-01    0.104284\n",
            "2018-05-01   -0.063339\n",
            "2018-06-01   -0.134178\n",
            "2018-07-01   -0.062404\n",
            "2018-07-24         NaN\n",
            "2018-07-25         NaN\n",
            "2018-08-01         NaN\n",
            "2018-09-01   -0.269512\n",
            "2018-10-01    0.270510\n",
            "2018-11-01   -0.129818\n",
            "2018-12-01    0.074351\n",
            "2019-01-01   -0.060542\n",
            "2019-02-01   -0.125844\n",
            "2019-03-01    0.056462\n",
            "2019-04-01   -0.049503\n",
            "2019-05-01   -0.024409\n",
            "2019-06-01    0.101720\n",
            "2019-07-01   -0.173000\n",
            "2019-07-24         NaN\n",
            "2019-07-25         NaN\n",
            "2019-08-01         NaN\n",
            "2019-09-01    0.097148\n",
            "2019-10-01    0.096277\n",
            "2019-11-01   -0.021244\n",
            "2019-12-01    0.001573\n",
            "2020-01-01    0.000000\n",
            "2020-02-01    0.253519\n",
            "2020-03-01   -0.642753\n",
            "2020-03-23         NaN\n",
            "2020-04-01         NaN\n",
            "2020-05-01   -0.057669\n",
            "2020-06-01    0.080493\n",
            "2020-07-01    0.210841\n",
            "2020-08-01    0.152409\n",
            "2020-09-01    0.090838\n",
            "2020-10-01   -0.041511\n",
            "2020-11-01    0.127256\n",
            "2020-12-01    0.298137\n",
            "2021-01-01    0.019335\n",
            "2021-02-01    0.028716\n",
            "2021-03-01   -0.071945\n",
            "2021-03-09         NaN\n",
            "Name: Return_TJL, dtype: float64\n"
          ]
        }
      ]
    },
    {
      "cell_type": "code",
      "source": [
        "tjl_df1 = tjl_df.dropna(axis=0)\n",
        "tjl_df1.head()"
      ],
      "metadata": {
        "colab": {
          "base_uri": "https://localhost:8080/",
          "height": 238
        },
        "id": "GPZFCV_-v8kZ",
        "outputId": "d030c506-b868-4ba3-fd8b-b1b7d3a4c3d1"
      },
      "execution_count": null,
      "outputs": [
        {
          "output_type": "execute_result",
          "data": {
            "text/plain": [
              "                  Open        High         Low       Close   Adj Close  \\\n",
              "Date                                                                     \n",
              "2017-05-01  265.399994  272.049988  215.050003  242.899994  220.287506   \n",
              "2017-06-01  248.300003  268.799988  229.199997  243.199997  220.559540   \n",
              "2017-07-01  250.000000  348.100006  230.000000  322.649994  292.613190   \n",
              "2017-09-01  355.000000  388.899994  335.000000  362.950012  331.720123   \n",
              "2017-10-01  362.950012  466.950012  355.149994  405.299988  370.426147   \n",
              "\n",
              "               Volume  Return_TJL  \n",
              "Date                               \n",
              "2017-05-01   181212.0   -0.088588  \n",
              "2017-06-01   114946.0    0.001234  \n",
              "2017-07-01  2209741.0    0.282684  \n",
              "2017-09-01    76754.0    0.061503  \n",
              "2017-10-01   170337.0    0.110362  "
            ],
            "text/html": [
              "\n",
              "  <div id=\"df-b783a9e8-a304-4fbe-bf34-7611315e2f3b\">\n",
              "    <div class=\"colab-df-container\">\n",
              "      <div>\n",
              "<style scoped>\n",
              "    .dataframe tbody tr th:only-of-type {\n",
              "        vertical-align: middle;\n",
              "    }\n",
              "\n",
              "    .dataframe tbody tr th {\n",
              "        vertical-align: top;\n",
              "    }\n",
              "\n",
              "    .dataframe thead th {\n",
              "        text-align: right;\n",
              "    }\n",
              "</style>\n",
              "<table border=\"1\" class=\"dataframe\">\n",
              "  <thead>\n",
              "    <tr style=\"text-align: right;\">\n",
              "      <th></th>\n",
              "      <th>Open</th>\n",
              "      <th>High</th>\n",
              "      <th>Low</th>\n",
              "      <th>Close</th>\n",
              "      <th>Adj Close</th>\n",
              "      <th>Volume</th>\n",
              "      <th>Return_TJL</th>\n",
              "    </tr>\n",
              "    <tr>\n",
              "      <th>Date</th>\n",
              "      <th></th>\n",
              "      <th></th>\n",
              "      <th></th>\n",
              "      <th></th>\n",
              "      <th></th>\n",
              "      <th></th>\n",
              "      <th></th>\n",
              "    </tr>\n",
              "  </thead>\n",
              "  <tbody>\n",
              "    <tr>\n",
              "      <th>2017-05-01</th>\n",
              "      <td>265.399994</td>\n",
              "      <td>272.049988</td>\n",
              "      <td>215.050003</td>\n",
              "      <td>242.899994</td>\n",
              "      <td>220.287506</td>\n",
              "      <td>181212.0</td>\n",
              "      <td>-0.088588</td>\n",
              "    </tr>\n",
              "    <tr>\n",
              "      <th>2017-06-01</th>\n",
              "      <td>248.300003</td>\n",
              "      <td>268.799988</td>\n",
              "      <td>229.199997</td>\n",
              "      <td>243.199997</td>\n",
              "      <td>220.559540</td>\n",
              "      <td>114946.0</td>\n",
              "      <td>0.001234</td>\n",
              "    </tr>\n",
              "    <tr>\n",
              "      <th>2017-07-01</th>\n",
              "      <td>250.000000</td>\n",
              "      <td>348.100006</td>\n",
              "      <td>230.000000</td>\n",
              "      <td>322.649994</td>\n",
              "      <td>292.613190</td>\n",
              "      <td>2209741.0</td>\n",
              "      <td>0.282684</td>\n",
              "    </tr>\n",
              "    <tr>\n",
              "      <th>2017-09-01</th>\n",
              "      <td>355.000000</td>\n",
              "      <td>388.899994</td>\n",
              "      <td>335.000000</td>\n",
              "      <td>362.950012</td>\n",
              "      <td>331.720123</td>\n",
              "      <td>76754.0</td>\n",
              "      <td>0.061503</td>\n",
              "    </tr>\n",
              "    <tr>\n",
              "      <th>2017-10-01</th>\n",
              "      <td>362.950012</td>\n",
              "      <td>466.950012</td>\n",
              "      <td>355.149994</td>\n",
              "      <td>405.299988</td>\n",
              "      <td>370.426147</td>\n",
              "      <td>170337.0</td>\n",
              "      <td>0.110362</td>\n",
              "    </tr>\n",
              "  </tbody>\n",
              "</table>\n",
              "</div>\n",
              "      <button class=\"colab-df-convert\" onclick=\"convertToInteractive('df-b783a9e8-a304-4fbe-bf34-7611315e2f3b')\"\n",
              "              title=\"Convert this dataframe to an interactive table.\"\n",
              "              style=\"display:none;\">\n",
              "        \n",
              "  <svg xmlns=\"http://www.w3.org/2000/svg\" height=\"24px\"viewBox=\"0 0 24 24\"\n",
              "       width=\"24px\">\n",
              "    <path d=\"M0 0h24v24H0V0z\" fill=\"none\"/>\n",
              "    <path d=\"M18.56 5.44l.94 2.06.94-2.06 2.06-.94-2.06-.94-.94-2.06-.94 2.06-2.06.94zm-11 1L8.5 8.5l.94-2.06 2.06-.94-2.06-.94L8.5 2.5l-.94 2.06-2.06.94zm10 10l.94 2.06.94-2.06 2.06-.94-2.06-.94-.94-2.06-.94 2.06-2.06.94z\"/><path d=\"M17.41 7.96l-1.37-1.37c-.4-.4-.92-.59-1.43-.59-.52 0-1.04.2-1.43.59L10.3 9.45l-7.72 7.72c-.78.78-.78 2.05 0 2.83L4 21.41c.39.39.9.59 1.41.59.51 0 1.02-.2 1.41-.59l7.78-7.78 2.81-2.81c.8-.78.8-2.07 0-2.86zM5.41 20L4 18.59l7.72-7.72 1.47 1.35L5.41 20z\"/>\n",
              "  </svg>\n",
              "      </button>\n",
              "      \n",
              "  <style>\n",
              "    .colab-df-container {\n",
              "      display:flex;\n",
              "      flex-wrap:wrap;\n",
              "      gap: 12px;\n",
              "    }\n",
              "\n",
              "    .colab-df-convert {\n",
              "      background-color: #E8F0FE;\n",
              "      border: none;\n",
              "      border-radius: 50%;\n",
              "      cursor: pointer;\n",
              "      display: none;\n",
              "      fill: #1967D2;\n",
              "      height: 32px;\n",
              "      padding: 0 0 0 0;\n",
              "      width: 32px;\n",
              "    }\n",
              "\n",
              "    .colab-df-convert:hover {\n",
              "      background-color: #E2EBFA;\n",
              "      box-shadow: 0px 1px 2px rgba(60, 64, 67, 0.3), 0px 1px 3px 1px rgba(60, 64, 67, 0.15);\n",
              "      fill: #174EA6;\n",
              "    }\n",
              "\n",
              "    [theme=dark] .colab-df-convert {\n",
              "      background-color: #3B4455;\n",
              "      fill: #D2E3FC;\n",
              "    }\n",
              "\n",
              "    [theme=dark] .colab-df-convert:hover {\n",
              "      background-color: #434B5C;\n",
              "      box-shadow: 0px 1px 3px 1px rgba(0, 0, 0, 0.15);\n",
              "      filter: drop-shadow(0px 1px 2px rgba(0, 0, 0, 0.3));\n",
              "      fill: #FFFFFF;\n",
              "    }\n",
              "  </style>\n",
              "\n",
              "      <script>\n",
              "        const buttonEl =\n",
              "          document.querySelector('#df-b783a9e8-a304-4fbe-bf34-7611315e2f3b button.colab-df-convert');\n",
              "        buttonEl.style.display =\n",
              "          google.colab.kernel.accessAllowed ? 'block' : 'none';\n",
              "\n",
              "        async function convertToInteractive(key) {\n",
              "          const element = document.querySelector('#df-b783a9e8-a304-4fbe-bf34-7611315e2f3b');\n",
              "          const dataTable =\n",
              "            await google.colab.kernel.invokeFunction('convertToInteractive',\n",
              "                                                     [key], {});\n",
              "          if (!dataTable) return;\n",
              "\n",
              "          const docLinkHtml = 'Like what you see? Visit the ' +\n",
              "            '<a target=\"_blank\" href=https://colab.research.google.com/notebooks/data_table.ipynb>data table notebook</a>'\n",
              "            + ' to learn more about interactive tables.';\n",
              "          element.innerHTML = '';\n",
              "          dataTable['output_type'] = 'display_data';\n",
              "          await google.colab.output.renderOutput(dataTable, element);\n",
              "          const docLink = document.createElement('div');\n",
              "          docLink.innerHTML = docLinkHtml;\n",
              "          element.appendChild(docLink);\n",
              "        }\n",
              "      </script>\n",
              "    </div>\n",
              "  </div>\n",
              "  "
            ]
          },
          "metadata": {},
          "execution_count": 20
        }
      ]
    },
    {
      "cell_type": "code",
      "source": [
        "tjl_df1_returns = tjl_df1['Return_TJL']\n",
        "tjl_df1_returns.head()"
      ],
      "metadata": {
        "colab": {
          "base_uri": "https://localhost:8080/"
        },
        "id": "TEG0tYMKwEQ3",
        "outputId": "73d9709e-f545-4844-a045-15528b3efd3f"
      },
      "execution_count": null,
      "outputs": [
        {
          "output_type": "execute_result",
          "data": {
            "text/plain": [
              "Date\n",
              "2017-05-01   -0.088588\n",
              "2017-06-01    0.001234\n",
              "2017-07-01    0.282684\n",
              "2017-09-01    0.061503\n",
              "2017-10-01    0.110362\n",
              "Name: Return_TJL, dtype: float64"
            ]
          },
          "metadata": {},
          "execution_count": 21
        }
      ]
    },
    {
      "cell_type": "code",
      "source": [
        "returns_tjl = pd.merge(nifty_df1_returns,tjl_df1_returns,how='inner',on='Date')\n",
        "returns_tjl.head()\n",
        "returns_tjl.describe()"
      ],
      "metadata": {
        "colab": {
          "base_uri": "https://localhost:8080/",
          "height": 300
        },
        "id": "I4qKtZknwK_C",
        "outputId": "07f0b54f-3c96-47c7-d212-90f2e3040df1"
      },
      "execution_count": null,
      "outputs": [
        {
          "output_type": "execute_result",
          "data": {
            "text/plain": [
              "       Return_NIFTY  Return_TJL\n",
              "count     43.000000   43.000000\n",
              "mean       0.008608    0.016030\n",
              "std        0.059994    0.168200\n",
              "min       -0.262058   -0.642753\n",
              "25%       -0.013558   -0.061649\n",
              "50%        0.009231    0.001573\n",
              "75%        0.049934    0.099434\n",
              "max        0.108402    0.309373"
            ],
            "text/html": [
              "\n",
              "  <div id=\"df-2efaa883-91a5-4a42-adea-7c0a4485bf39\">\n",
              "    <div class=\"colab-df-container\">\n",
              "      <div>\n",
              "<style scoped>\n",
              "    .dataframe tbody tr th:only-of-type {\n",
              "        vertical-align: middle;\n",
              "    }\n",
              "\n",
              "    .dataframe tbody tr th {\n",
              "        vertical-align: top;\n",
              "    }\n",
              "\n",
              "    .dataframe thead th {\n",
              "        text-align: right;\n",
              "    }\n",
              "</style>\n",
              "<table border=\"1\" class=\"dataframe\">\n",
              "  <thead>\n",
              "    <tr style=\"text-align: right;\">\n",
              "      <th></th>\n",
              "      <th>Return_NIFTY</th>\n",
              "      <th>Return_TJL</th>\n",
              "    </tr>\n",
              "  </thead>\n",
              "  <tbody>\n",
              "    <tr>\n",
              "      <th>count</th>\n",
              "      <td>43.000000</td>\n",
              "      <td>43.000000</td>\n",
              "    </tr>\n",
              "    <tr>\n",
              "      <th>mean</th>\n",
              "      <td>0.008608</td>\n",
              "      <td>0.016030</td>\n",
              "    </tr>\n",
              "    <tr>\n",
              "      <th>std</th>\n",
              "      <td>0.059994</td>\n",
              "      <td>0.168200</td>\n",
              "    </tr>\n",
              "    <tr>\n",
              "      <th>min</th>\n",
              "      <td>-0.262058</td>\n",
              "      <td>-0.642753</td>\n",
              "    </tr>\n",
              "    <tr>\n",
              "      <th>25%</th>\n",
              "      <td>-0.013558</td>\n",
              "      <td>-0.061649</td>\n",
              "    </tr>\n",
              "    <tr>\n",
              "      <th>50%</th>\n",
              "      <td>0.009231</td>\n",
              "      <td>0.001573</td>\n",
              "    </tr>\n",
              "    <tr>\n",
              "      <th>75%</th>\n",
              "      <td>0.049934</td>\n",
              "      <td>0.099434</td>\n",
              "    </tr>\n",
              "    <tr>\n",
              "      <th>max</th>\n",
              "      <td>0.108402</td>\n",
              "      <td>0.309373</td>\n",
              "    </tr>\n",
              "  </tbody>\n",
              "</table>\n",
              "</div>\n",
              "      <button class=\"colab-df-convert\" onclick=\"convertToInteractive('df-2efaa883-91a5-4a42-adea-7c0a4485bf39')\"\n",
              "              title=\"Convert this dataframe to an interactive table.\"\n",
              "              style=\"display:none;\">\n",
              "        \n",
              "  <svg xmlns=\"http://www.w3.org/2000/svg\" height=\"24px\"viewBox=\"0 0 24 24\"\n",
              "       width=\"24px\">\n",
              "    <path d=\"M0 0h24v24H0V0z\" fill=\"none\"/>\n",
              "    <path d=\"M18.56 5.44l.94 2.06.94-2.06 2.06-.94-2.06-.94-.94-2.06-.94 2.06-2.06.94zm-11 1L8.5 8.5l.94-2.06 2.06-.94-2.06-.94L8.5 2.5l-.94 2.06-2.06.94zm10 10l.94 2.06.94-2.06 2.06-.94-2.06-.94-.94-2.06-.94 2.06-2.06.94z\"/><path d=\"M17.41 7.96l-1.37-1.37c-.4-.4-.92-.59-1.43-.59-.52 0-1.04.2-1.43.59L10.3 9.45l-7.72 7.72c-.78.78-.78 2.05 0 2.83L4 21.41c.39.39.9.59 1.41.59.51 0 1.02-.2 1.41-.59l7.78-7.78 2.81-2.81c.8-.78.8-2.07 0-2.86zM5.41 20L4 18.59l7.72-7.72 1.47 1.35L5.41 20z\"/>\n",
              "  </svg>\n",
              "      </button>\n",
              "      \n",
              "  <style>\n",
              "    .colab-df-container {\n",
              "      display:flex;\n",
              "      flex-wrap:wrap;\n",
              "      gap: 12px;\n",
              "    }\n",
              "\n",
              "    .colab-df-convert {\n",
              "      background-color: #E8F0FE;\n",
              "      border: none;\n",
              "      border-radius: 50%;\n",
              "      cursor: pointer;\n",
              "      display: none;\n",
              "      fill: #1967D2;\n",
              "      height: 32px;\n",
              "      padding: 0 0 0 0;\n",
              "      width: 32px;\n",
              "    }\n",
              "\n",
              "    .colab-df-convert:hover {\n",
              "      background-color: #E2EBFA;\n",
              "      box-shadow: 0px 1px 2px rgba(60, 64, 67, 0.3), 0px 1px 3px 1px rgba(60, 64, 67, 0.15);\n",
              "      fill: #174EA6;\n",
              "    }\n",
              "\n",
              "    [theme=dark] .colab-df-convert {\n",
              "      background-color: #3B4455;\n",
              "      fill: #D2E3FC;\n",
              "    }\n",
              "\n",
              "    [theme=dark] .colab-df-convert:hover {\n",
              "      background-color: #434B5C;\n",
              "      box-shadow: 0px 1px 3px 1px rgba(0, 0, 0, 0.15);\n",
              "      filter: drop-shadow(0px 1px 2px rgba(0, 0, 0, 0.3));\n",
              "      fill: #FFFFFF;\n",
              "    }\n",
              "  </style>\n",
              "\n",
              "      <script>\n",
              "        const buttonEl =\n",
              "          document.querySelector('#df-2efaa883-91a5-4a42-adea-7c0a4485bf39 button.colab-df-convert');\n",
              "        buttonEl.style.display =\n",
              "          google.colab.kernel.accessAllowed ? 'block' : 'none';\n",
              "\n",
              "        async function convertToInteractive(key) {\n",
              "          const element = document.querySelector('#df-2efaa883-91a5-4a42-adea-7c0a4485bf39');\n",
              "          const dataTable =\n",
              "            await google.colab.kernel.invokeFunction('convertToInteractive',\n",
              "                                                     [key], {});\n",
              "          if (!dataTable) return;\n",
              "\n",
              "          const docLinkHtml = 'Like what you see? Visit the ' +\n",
              "            '<a target=\"_blank\" href=https://colab.research.google.com/notebooks/data_table.ipynb>data table notebook</a>'\n",
              "            + ' to learn more about interactive tables.';\n",
              "          element.innerHTML = '';\n",
              "          dataTable['output_type'] = 'display_data';\n",
              "          await google.colab.output.renderOutput(dataTable, element);\n",
              "          const docLink = document.createElement('div');\n",
              "          docLink.innerHTML = docLinkHtml;\n",
              "          element.appendChild(docLink);\n",
              "        }\n",
              "      </script>\n",
              "    </div>\n",
              "  </div>\n",
              "  "
            ]
          },
          "metadata": {},
          "execution_count": 22
        }
      ]
    },
    {
      "cell_type": "markdown",
      "source": [
        "*`Goldiam International Limited Returns`*"
      ],
      "metadata": {
        "id": "a3fAM_GJlVDG"
      }
    },
    {
      "cell_type": "code",
      "source": [
        "#Caclulate log returns\n",
        "gil_df['Return_GIL'] = np.log(gil_df['Adj Close']/gil_df['Adj Close'].shift(1))\n",
        "print(gil_df['Return_GIL'])"
      ],
      "metadata": {
        "colab": {
          "base_uri": "https://localhost:8080/"
        },
        "id": "RzJrsRsYyjWv",
        "outputId": "11307603-129d-4bc1-c463-0b099f6be636"
      },
      "execution_count": null,
      "outputs": [
        {
          "output_type": "stream",
          "name": "stdout",
          "text": [
            "Date\n",
            "2017-04-01         NaN\n",
            "2017-05-01   -0.112795\n",
            "2017-06-01   -0.038958\n",
            "2017-07-01    0.046097\n",
            "2017-08-01   -0.019151\n",
            "2017-09-01   -0.052725\n",
            "2017-10-01   -0.007673\n",
            "2017-11-01    0.043949\n",
            "2017-12-01    0.035600\n",
            "2018-01-01   -0.095725\n",
            "2018-02-01   -0.082219\n",
            "2018-03-01   -0.178646\n",
            "2018-04-01    0.405747\n",
            "2018-05-01   -0.254382\n",
            "2018-06-01   -0.205291\n",
            "2018-07-01    0.092137\n",
            "2018-08-01    0.226561\n",
            "2018-09-01   -0.098239\n",
            "2018-09-12         NaN\n",
            "2018-10-01         NaN\n",
            "2018-11-01    0.204032\n",
            "2018-12-01   -0.099289\n",
            "2019-01-01   -0.046785\n",
            "2019-02-01    0.061500\n",
            "2019-02-21         NaN\n",
            "2019-03-01         NaN\n",
            "2019-04-01    0.213470\n",
            "2019-05-01    0.192673\n",
            "2019-06-01    0.120690\n",
            "2019-07-01   -0.327704\n",
            "2019-08-01    0.062975\n",
            "2019-08-20         NaN\n",
            "2019-09-01         NaN\n",
            "2019-09-12         NaN\n",
            "2019-09-13         NaN\n",
            "2019-09-19         NaN\n",
            "2019-10-01         NaN\n",
            "2019-11-01   -0.069896\n",
            "2019-12-01    0.096260\n",
            "2020-01-01    0.034218\n",
            "2020-02-01    0.059685\n",
            "2020-02-24         NaN\n",
            "2020-03-01         NaN\n",
            "2020-04-01   -0.043333\n",
            "2020-05-01    0.039888\n",
            "2020-06-01    0.165992\n",
            "2020-07-01    0.087174\n",
            "2020-08-01    0.036384\n",
            "2020-09-01    0.082986\n",
            "2020-09-17         NaN\n",
            "2020-10-01         NaN\n",
            "2020-11-01    0.022356\n",
            "2020-11-19         NaN\n",
            "2020-12-01         NaN\n",
            "2021-01-01   -0.083772\n",
            "2021-02-01    0.452450\n",
            "2021-02-22         NaN\n",
            "2021-03-01         NaN\n",
            "Name: Return_GIL, dtype: float64\n"
          ]
        }
      ]
    },
    {
      "cell_type": "code",
      "source": [
        "gil_df1 = gil_df.dropna(axis=0)\n",
        "gil_df1.head()"
      ],
      "metadata": {
        "colab": {
          "base_uri": "https://localhost:8080/",
          "height": 238
        },
        "id": "579j2DEzyjRr",
        "outputId": "68375227-b87f-4ead-e403-3fa6682b4123"
      },
      "execution_count": null,
      "outputs": [
        {
          "output_type": "execute_result",
          "data": {
            "text/plain": [
              "                 Open       High    Low      Close  Adj Close     Volume  \\\n",
              "Date                                                                       \n",
              "2017-05-01  18.750000  19.299999  16.40  16.750000  13.327196  3550550.0   \n",
              "2017-06-01  16.980000  17.799999  16.08  16.110001  12.817975  1124275.0   \n",
              "2017-07-01  16.450001  18.059999  16.01  16.870001  13.422673  2183740.0   \n",
              "2017-08-01  17.030001  17.760000  14.16  16.549999  13.168062  1805375.0   \n",
              "2017-09-01  16.420000  19.350000  15.46  15.700000  12.491761  4431680.0   \n",
              "\n",
              "            Return_GIL  \n",
              "Date                    \n",
              "2017-05-01   -0.112795  \n",
              "2017-06-01   -0.038958  \n",
              "2017-07-01    0.046097  \n",
              "2017-08-01   -0.019151  \n",
              "2017-09-01   -0.052725  "
            ],
            "text/html": [
              "\n",
              "  <div id=\"df-525e996c-3557-4e14-827d-467a6e40c883\">\n",
              "    <div class=\"colab-df-container\">\n",
              "      <div>\n",
              "<style scoped>\n",
              "    .dataframe tbody tr th:only-of-type {\n",
              "        vertical-align: middle;\n",
              "    }\n",
              "\n",
              "    .dataframe tbody tr th {\n",
              "        vertical-align: top;\n",
              "    }\n",
              "\n",
              "    .dataframe thead th {\n",
              "        text-align: right;\n",
              "    }\n",
              "</style>\n",
              "<table border=\"1\" class=\"dataframe\">\n",
              "  <thead>\n",
              "    <tr style=\"text-align: right;\">\n",
              "      <th></th>\n",
              "      <th>Open</th>\n",
              "      <th>High</th>\n",
              "      <th>Low</th>\n",
              "      <th>Close</th>\n",
              "      <th>Adj Close</th>\n",
              "      <th>Volume</th>\n",
              "      <th>Return_GIL</th>\n",
              "    </tr>\n",
              "    <tr>\n",
              "      <th>Date</th>\n",
              "      <th></th>\n",
              "      <th></th>\n",
              "      <th></th>\n",
              "      <th></th>\n",
              "      <th></th>\n",
              "      <th></th>\n",
              "      <th></th>\n",
              "    </tr>\n",
              "  </thead>\n",
              "  <tbody>\n",
              "    <tr>\n",
              "      <th>2017-05-01</th>\n",
              "      <td>18.750000</td>\n",
              "      <td>19.299999</td>\n",
              "      <td>16.40</td>\n",
              "      <td>16.750000</td>\n",
              "      <td>13.327196</td>\n",
              "      <td>3550550.0</td>\n",
              "      <td>-0.112795</td>\n",
              "    </tr>\n",
              "    <tr>\n",
              "      <th>2017-06-01</th>\n",
              "      <td>16.980000</td>\n",
              "      <td>17.799999</td>\n",
              "      <td>16.08</td>\n",
              "      <td>16.110001</td>\n",
              "      <td>12.817975</td>\n",
              "      <td>1124275.0</td>\n",
              "      <td>-0.038958</td>\n",
              "    </tr>\n",
              "    <tr>\n",
              "      <th>2017-07-01</th>\n",
              "      <td>16.450001</td>\n",
              "      <td>18.059999</td>\n",
              "      <td>16.01</td>\n",
              "      <td>16.870001</td>\n",
              "      <td>13.422673</td>\n",
              "      <td>2183740.0</td>\n",
              "      <td>0.046097</td>\n",
              "    </tr>\n",
              "    <tr>\n",
              "      <th>2017-08-01</th>\n",
              "      <td>17.030001</td>\n",
              "      <td>17.760000</td>\n",
              "      <td>14.16</td>\n",
              "      <td>16.549999</td>\n",
              "      <td>13.168062</td>\n",
              "      <td>1805375.0</td>\n",
              "      <td>-0.019151</td>\n",
              "    </tr>\n",
              "    <tr>\n",
              "      <th>2017-09-01</th>\n",
              "      <td>16.420000</td>\n",
              "      <td>19.350000</td>\n",
              "      <td>15.46</td>\n",
              "      <td>15.700000</td>\n",
              "      <td>12.491761</td>\n",
              "      <td>4431680.0</td>\n",
              "      <td>-0.052725</td>\n",
              "    </tr>\n",
              "  </tbody>\n",
              "</table>\n",
              "</div>\n",
              "      <button class=\"colab-df-convert\" onclick=\"convertToInteractive('df-525e996c-3557-4e14-827d-467a6e40c883')\"\n",
              "              title=\"Convert this dataframe to an interactive table.\"\n",
              "              style=\"display:none;\">\n",
              "        \n",
              "  <svg xmlns=\"http://www.w3.org/2000/svg\" height=\"24px\"viewBox=\"0 0 24 24\"\n",
              "       width=\"24px\">\n",
              "    <path d=\"M0 0h24v24H0V0z\" fill=\"none\"/>\n",
              "    <path d=\"M18.56 5.44l.94 2.06.94-2.06 2.06-.94-2.06-.94-.94-2.06-.94 2.06-2.06.94zm-11 1L8.5 8.5l.94-2.06 2.06-.94-2.06-.94L8.5 2.5l-.94 2.06-2.06.94zm10 10l.94 2.06.94-2.06 2.06-.94-2.06-.94-.94-2.06-.94 2.06-2.06.94z\"/><path d=\"M17.41 7.96l-1.37-1.37c-.4-.4-.92-.59-1.43-.59-.52 0-1.04.2-1.43.59L10.3 9.45l-7.72 7.72c-.78.78-.78 2.05 0 2.83L4 21.41c.39.39.9.59 1.41.59.51 0 1.02-.2 1.41-.59l7.78-7.78 2.81-2.81c.8-.78.8-2.07 0-2.86zM5.41 20L4 18.59l7.72-7.72 1.47 1.35L5.41 20z\"/>\n",
              "  </svg>\n",
              "      </button>\n",
              "      \n",
              "  <style>\n",
              "    .colab-df-container {\n",
              "      display:flex;\n",
              "      flex-wrap:wrap;\n",
              "      gap: 12px;\n",
              "    }\n",
              "\n",
              "    .colab-df-convert {\n",
              "      background-color: #E8F0FE;\n",
              "      border: none;\n",
              "      border-radius: 50%;\n",
              "      cursor: pointer;\n",
              "      display: none;\n",
              "      fill: #1967D2;\n",
              "      height: 32px;\n",
              "      padding: 0 0 0 0;\n",
              "      width: 32px;\n",
              "    }\n",
              "\n",
              "    .colab-df-convert:hover {\n",
              "      background-color: #E2EBFA;\n",
              "      box-shadow: 0px 1px 2px rgba(60, 64, 67, 0.3), 0px 1px 3px 1px rgba(60, 64, 67, 0.15);\n",
              "      fill: #174EA6;\n",
              "    }\n",
              "\n",
              "    [theme=dark] .colab-df-convert {\n",
              "      background-color: #3B4455;\n",
              "      fill: #D2E3FC;\n",
              "    }\n",
              "\n",
              "    [theme=dark] .colab-df-convert:hover {\n",
              "      background-color: #434B5C;\n",
              "      box-shadow: 0px 1px 3px 1px rgba(0, 0, 0, 0.15);\n",
              "      filter: drop-shadow(0px 1px 2px rgba(0, 0, 0, 0.3));\n",
              "      fill: #FFFFFF;\n",
              "    }\n",
              "  </style>\n",
              "\n",
              "      <script>\n",
              "        const buttonEl =\n",
              "          document.querySelector('#df-525e996c-3557-4e14-827d-467a6e40c883 button.colab-df-convert');\n",
              "        buttonEl.style.display =\n",
              "          google.colab.kernel.accessAllowed ? 'block' : 'none';\n",
              "\n",
              "        async function convertToInteractive(key) {\n",
              "          const element = document.querySelector('#df-525e996c-3557-4e14-827d-467a6e40c883');\n",
              "          const dataTable =\n",
              "            await google.colab.kernel.invokeFunction('convertToInteractive',\n",
              "                                                     [key], {});\n",
              "          if (!dataTable) return;\n",
              "\n",
              "          const docLinkHtml = 'Like what you see? Visit the ' +\n",
              "            '<a target=\"_blank\" href=https://colab.research.google.com/notebooks/data_table.ipynb>data table notebook</a>'\n",
              "            + ' to learn more about interactive tables.';\n",
              "          element.innerHTML = '';\n",
              "          dataTable['output_type'] = 'display_data';\n",
              "          await google.colab.output.renderOutput(dataTable, element);\n",
              "          const docLink = document.createElement('div');\n",
              "          docLink.innerHTML = docLinkHtml;\n",
              "          element.appendChild(docLink);\n",
              "        }\n",
              "      </script>\n",
              "    </div>\n",
              "  </div>\n",
              "  "
            ]
          },
          "metadata": {},
          "execution_count": 24
        }
      ]
    },
    {
      "cell_type": "code",
      "source": [
        "gil_df1_returns = gil_df1['Return_GIL']\n",
        "gil_df1_returns.head()"
      ],
      "metadata": {
        "colab": {
          "base_uri": "https://localhost:8080/"
        },
        "id": "nSHxg4puyjL9",
        "outputId": "f2fb0919-2c3b-4ad6-ba0f-e0b451734059"
      },
      "execution_count": null,
      "outputs": [
        {
          "output_type": "execute_result",
          "data": {
            "text/plain": [
              "Date\n",
              "2017-05-01   -0.112795\n",
              "2017-06-01   -0.038958\n",
              "2017-07-01    0.046097\n",
              "2017-08-01   -0.019151\n",
              "2017-09-01   -0.052725\n",
              "Name: Return_GIL, dtype: float64"
            ]
          },
          "metadata": {},
          "execution_count": 25
        }
      ]
    },
    {
      "cell_type": "code",
      "source": [
        "returns_gil = pd.merge(nifty_df1_returns,gil_df1_returns,how='inner',on='Date')\n",
        "returns_gil.head()\n",
        "returns_gil.describe()"
      ],
      "metadata": {
        "colab": {
          "base_uri": "https://localhost:8080/",
          "height": 300
        },
        "id": "S3Hsn9CoyjGS",
        "outputId": "43e77962-62cb-403e-ccc9-be8e1572ea04"
      },
      "execution_count": null,
      "outputs": [
        {
          "output_type": "execute_result",
          "data": {
            "text/plain": [
              "       Return_NIFTY  Return_GIL\n",
              "count     39.000000   39.000000\n",
              "mean       0.013903    0.024775\n",
              "std        0.045596    0.156579\n",
              "min       -0.064611   -0.327704\n",
              "25%       -0.013558   -0.076058\n",
              "50%        0.005209    0.035600\n",
              "75%        0.049934    0.089655\n",
              "max        0.134699    0.452450"
            ],
            "text/html": [
              "\n",
              "  <div id=\"df-6dc2a5c2-a032-46e5-84e3-c7c9a76f2e7c\">\n",
              "    <div class=\"colab-df-container\">\n",
              "      <div>\n",
              "<style scoped>\n",
              "    .dataframe tbody tr th:only-of-type {\n",
              "        vertical-align: middle;\n",
              "    }\n",
              "\n",
              "    .dataframe tbody tr th {\n",
              "        vertical-align: top;\n",
              "    }\n",
              "\n",
              "    .dataframe thead th {\n",
              "        text-align: right;\n",
              "    }\n",
              "</style>\n",
              "<table border=\"1\" class=\"dataframe\">\n",
              "  <thead>\n",
              "    <tr style=\"text-align: right;\">\n",
              "      <th></th>\n",
              "      <th>Return_NIFTY</th>\n",
              "      <th>Return_GIL</th>\n",
              "    </tr>\n",
              "  </thead>\n",
              "  <tbody>\n",
              "    <tr>\n",
              "      <th>count</th>\n",
              "      <td>39.000000</td>\n",
              "      <td>39.000000</td>\n",
              "    </tr>\n",
              "    <tr>\n",
              "      <th>mean</th>\n",
              "      <td>0.013903</td>\n",
              "      <td>0.024775</td>\n",
              "    </tr>\n",
              "    <tr>\n",
              "      <th>std</th>\n",
              "      <td>0.045596</td>\n",
              "      <td>0.156579</td>\n",
              "    </tr>\n",
              "    <tr>\n",
              "      <th>min</th>\n",
              "      <td>-0.064611</td>\n",
              "      <td>-0.327704</td>\n",
              "    </tr>\n",
              "    <tr>\n",
              "      <th>25%</th>\n",
              "      <td>-0.013558</td>\n",
              "      <td>-0.076058</td>\n",
              "    </tr>\n",
              "    <tr>\n",
              "      <th>50%</th>\n",
              "      <td>0.005209</td>\n",
              "      <td>0.035600</td>\n",
              "    </tr>\n",
              "    <tr>\n",
              "      <th>75%</th>\n",
              "      <td>0.049934</td>\n",
              "      <td>0.089655</td>\n",
              "    </tr>\n",
              "    <tr>\n",
              "      <th>max</th>\n",
              "      <td>0.134699</td>\n",
              "      <td>0.452450</td>\n",
              "    </tr>\n",
              "  </tbody>\n",
              "</table>\n",
              "</div>\n",
              "      <button class=\"colab-df-convert\" onclick=\"convertToInteractive('df-6dc2a5c2-a032-46e5-84e3-c7c9a76f2e7c')\"\n",
              "              title=\"Convert this dataframe to an interactive table.\"\n",
              "              style=\"display:none;\">\n",
              "        \n",
              "  <svg xmlns=\"http://www.w3.org/2000/svg\" height=\"24px\"viewBox=\"0 0 24 24\"\n",
              "       width=\"24px\">\n",
              "    <path d=\"M0 0h24v24H0V0z\" fill=\"none\"/>\n",
              "    <path d=\"M18.56 5.44l.94 2.06.94-2.06 2.06-.94-2.06-.94-.94-2.06-.94 2.06-2.06.94zm-11 1L8.5 8.5l.94-2.06 2.06-.94-2.06-.94L8.5 2.5l-.94 2.06-2.06.94zm10 10l.94 2.06.94-2.06 2.06-.94-2.06-.94-.94-2.06-.94 2.06-2.06.94z\"/><path d=\"M17.41 7.96l-1.37-1.37c-.4-.4-.92-.59-1.43-.59-.52 0-1.04.2-1.43.59L10.3 9.45l-7.72 7.72c-.78.78-.78 2.05 0 2.83L4 21.41c.39.39.9.59 1.41.59.51 0 1.02-.2 1.41-.59l7.78-7.78 2.81-2.81c.8-.78.8-2.07 0-2.86zM5.41 20L4 18.59l7.72-7.72 1.47 1.35L5.41 20z\"/>\n",
              "  </svg>\n",
              "      </button>\n",
              "      \n",
              "  <style>\n",
              "    .colab-df-container {\n",
              "      display:flex;\n",
              "      flex-wrap:wrap;\n",
              "      gap: 12px;\n",
              "    }\n",
              "\n",
              "    .colab-df-convert {\n",
              "      background-color: #E8F0FE;\n",
              "      border: none;\n",
              "      border-radius: 50%;\n",
              "      cursor: pointer;\n",
              "      display: none;\n",
              "      fill: #1967D2;\n",
              "      height: 32px;\n",
              "      padding: 0 0 0 0;\n",
              "      width: 32px;\n",
              "    }\n",
              "\n",
              "    .colab-df-convert:hover {\n",
              "      background-color: #E2EBFA;\n",
              "      box-shadow: 0px 1px 2px rgba(60, 64, 67, 0.3), 0px 1px 3px 1px rgba(60, 64, 67, 0.15);\n",
              "      fill: #174EA6;\n",
              "    }\n",
              "\n",
              "    [theme=dark] .colab-df-convert {\n",
              "      background-color: #3B4455;\n",
              "      fill: #D2E3FC;\n",
              "    }\n",
              "\n",
              "    [theme=dark] .colab-df-convert:hover {\n",
              "      background-color: #434B5C;\n",
              "      box-shadow: 0px 1px 3px 1px rgba(0, 0, 0, 0.15);\n",
              "      filter: drop-shadow(0px 1px 2px rgba(0, 0, 0, 0.3));\n",
              "      fill: #FFFFFF;\n",
              "    }\n",
              "  </style>\n",
              "\n",
              "      <script>\n",
              "        const buttonEl =\n",
              "          document.querySelector('#df-6dc2a5c2-a032-46e5-84e3-c7c9a76f2e7c button.colab-df-convert');\n",
              "        buttonEl.style.display =\n",
              "          google.colab.kernel.accessAllowed ? 'block' : 'none';\n",
              "\n",
              "        async function convertToInteractive(key) {\n",
              "          const element = document.querySelector('#df-6dc2a5c2-a032-46e5-84e3-c7c9a76f2e7c');\n",
              "          const dataTable =\n",
              "            await google.colab.kernel.invokeFunction('convertToInteractive',\n",
              "                                                     [key], {});\n",
              "          if (!dataTable) return;\n",
              "\n",
              "          const docLinkHtml = 'Like what you see? Visit the ' +\n",
              "            '<a target=\"_blank\" href=https://colab.research.google.com/notebooks/data_table.ipynb>data table notebook</a>'\n",
              "            + ' to learn more about interactive tables.';\n",
              "          element.innerHTML = '';\n",
              "          dataTable['output_type'] = 'display_data';\n",
              "          await google.colab.output.renderOutput(dataTable, element);\n",
              "          const docLink = document.createElement('div');\n",
              "          docLink.innerHTML = docLinkHtml;\n",
              "          element.appendChild(docLink);\n",
              "        }\n",
              "      </script>\n",
              "    </div>\n",
              "  </div>\n",
              "  "
            ]
          },
          "metadata": {},
          "execution_count": 26
        }
      ]
    },
    {
      "cell_type": "markdown",
      "source": [
        "*`Darshan Orna Limited regression beta calculations`*"
      ],
      "metadata": {
        "id": "1Rl9EFW8iW7k"
      }
    },
    {
      "cell_type": "code",
      "source": [
        "x = returns_dol['Return_NIFTY']\n",
        "m = returns_dol['Return_DOL']\n",
        "x_sm = sm.add_constant(x)"
      ],
      "metadata": {
        "colab": {
          "base_uri": "https://localhost:8080/"
        },
        "id": "aTgTI10c2ME2",
        "outputId": "a87e456e-dc63-4ef6-e6ba-0f2ea5f34b09"
      },
      "execution_count": null,
      "outputs": [
        {
          "output_type": "stream",
          "name": "stderr",
          "text": [
            "/usr/local/lib/python3.7/dist-packages/statsmodels/tsa/tsatools.py:117: FutureWarning: In a future version of pandas all arguments of concat except for the argument 'objs' will be keyword-only\n",
            "  x = pd.concat(x[::order], 1)\n"
          ]
        }
      ]
    },
    {
      "cell_type": "markdown",
      "source": [
        "Assumptions of OLS regression\n",
        "A linear relationship between the dependent and independent variables - The linear regression model is linear in parameters\n",
        "The independent variables are not highly correlated with each other - no multicollinearity\n",
        "The variance of the residuals is constant - no heteroskedasticity\n",
        "Random sampling of observation and no autocorrelation\n",
        "Assumption of Normality of Errors"
      ],
      "metadata": {
        "id": "tSLS_KvjdiB6"
      }
    },
    {
      "cell_type": "markdown",
      "source": [
        "Ri = αi + βi(RM) + εi.........Market model\n",
        "\n",
        "• Ri = Return of security i\n",
        "\n",
        "• αi = The return from the asset that is not related to the market’s return. This is “alpha” return from the security\n",
        "\n",
        "• βi = Beta or the return from the security explained by the market index’s return\n",
        "\n",
        "• RM = The market index’s return\n",
        "\n",
        "• εi = Error term for past returns not explained by the regression equation"
      ],
      "metadata": {
        "id": "sRaNzBQYfoQ5"
      }
    },
    {
      "cell_type": "code",
      "source": [
        "#Regression - Market model \n",
        "model_dol = sm.OLS(m,x_sm)"
      ],
      "metadata": {
        "id": "mgX96tpfHFs0"
      },
      "execution_count": null,
      "outputs": []
    },
    {
      "cell_type": "markdown",
      "source": [
        "OLS estimation or Ordinary Least square Minimizes the sum of squared errors"
      ],
      "metadata": {
        "id": "eGU15HAMeQS5"
      }
    },
    {
      "cell_type": "code",
      "source": [
        "results_dol = model_dol.fit()"
      ],
      "metadata": {
        "id": "_qH4t2OlxfZz"
      },
      "execution_count": null,
      "outputs": []
    },
    {
      "cell_type": "code",
      "source": [
        "#Regression result\n",
        "results_dol.summary()"
      ],
      "metadata": {
        "colab": {
          "base_uri": "https://localhost:8080/",
          "height": 444
        },
        "id": "coUzJZ6bIINn",
        "outputId": "a83003e8-140b-4485-9c70-23f4c0677514"
      },
      "execution_count": null,
      "outputs": [
        {
          "output_type": "execute_result",
          "data": {
            "text/plain": [
              "<class 'statsmodels.iolib.summary.Summary'>\n",
              "\"\"\"\n",
              "                            OLS Regression Results                            \n",
              "==============================================================================\n",
              "Dep. Variable:             Return_DOL   R-squared:                       0.003\n",
              "Model:                            OLS   Adj. R-squared:                 -0.020\n",
              "Method:                 Least Squares   F-statistic:                    0.1364\n",
              "Date:                Thu, 21 Apr 2022   Prob (F-statistic):              0.714\n",
              "Time:                        16:51:41   Log-Likelihood:                -11.017\n",
              "No. Observations:                  45   AIC:                             26.03\n",
              "Df Residuals:                      43   BIC:                             29.65\n",
              "Df Model:                           1                                         \n",
              "Covariance Type:            nonrobust                                         \n",
              "================================================================================\n",
              "                   coef    std err          t      P>|t|      [0.025      0.975]\n",
              "--------------------------------------------------------------------------------\n",
              "const           -0.0154      0.048     -0.319      0.751      -0.113       0.082\n",
              "Return_NIFTY     0.2932      0.794      0.369      0.714      -1.308       1.894\n",
              "==============================================================================\n",
              "Omnibus:                        9.602   Durbin-Watson:                   1.793\n",
              "Prob(Omnibus):                  0.008   Jarque-Bera (JB):               15.171\n",
              "Skew:                          -0.506   Prob(JB):                     0.000508\n",
              "Kurtosis:                       5.659   Cond. No.                         16.8\n",
              "==============================================================================\n",
              "\n",
              "Warnings:\n",
              "[1] Standard Errors assume that the covariance matrix of the errors is correctly specified.\n",
              "\"\"\""
            ],
            "text/html": [
              "<table class=\"simpletable\">\n",
              "<caption>OLS Regression Results</caption>\n",
              "<tr>\n",
              "  <th>Dep. Variable:</th>       <td>Return_DOL</td>    <th>  R-squared:         </th> <td>   0.003</td>\n",
              "</tr>\n",
              "<tr>\n",
              "  <th>Model:</th>                   <td>OLS</td>       <th>  Adj. R-squared:    </th> <td>  -0.020</td>\n",
              "</tr>\n",
              "<tr>\n",
              "  <th>Method:</th>             <td>Least Squares</td>  <th>  F-statistic:       </th> <td>  0.1364</td>\n",
              "</tr>\n",
              "<tr>\n",
              "  <th>Date:</th>             <td>Thu, 21 Apr 2022</td> <th>  Prob (F-statistic):</th>  <td> 0.714</td> \n",
              "</tr>\n",
              "<tr>\n",
              "  <th>Time:</th>                 <td>16:51:41</td>     <th>  Log-Likelihood:    </th> <td> -11.017</td>\n",
              "</tr>\n",
              "<tr>\n",
              "  <th>No. Observations:</th>      <td>    45</td>      <th>  AIC:               </th> <td>   26.03</td>\n",
              "</tr>\n",
              "<tr>\n",
              "  <th>Df Residuals:</th>          <td>    43</td>      <th>  BIC:               </th> <td>   29.65</td>\n",
              "</tr>\n",
              "<tr>\n",
              "  <th>Df Model:</th>              <td>     1</td>      <th>                     </th>     <td> </td>   \n",
              "</tr>\n",
              "<tr>\n",
              "  <th>Covariance Type:</th>      <td>nonrobust</td>    <th>                     </th>     <td> </td>   \n",
              "</tr>\n",
              "</table>\n",
              "<table class=\"simpletable\">\n",
              "<tr>\n",
              "        <td></td>          <th>coef</th>     <th>std err</th>      <th>t</th>      <th>P>|t|</th>  <th>[0.025</th>    <th>0.975]</th>  \n",
              "</tr>\n",
              "<tr>\n",
              "  <th>const</th>        <td>   -0.0154</td> <td>    0.048</td> <td>   -0.319</td> <td> 0.751</td> <td>   -0.113</td> <td>    0.082</td>\n",
              "</tr>\n",
              "<tr>\n",
              "  <th>Return_NIFTY</th> <td>    0.2932</td> <td>    0.794</td> <td>    0.369</td> <td> 0.714</td> <td>   -1.308</td> <td>    1.894</td>\n",
              "</tr>\n",
              "</table>\n",
              "<table class=\"simpletable\">\n",
              "<tr>\n",
              "  <th>Omnibus:</th>       <td> 9.602</td> <th>  Durbin-Watson:     </th> <td>   1.793</td>\n",
              "</tr>\n",
              "<tr>\n",
              "  <th>Prob(Omnibus):</th> <td> 0.008</td> <th>  Jarque-Bera (JB):  </th> <td>  15.171</td>\n",
              "</tr>\n",
              "<tr>\n",
              "  <th>Skew:</th>          <td>-0.506</td> <th>  Prob(JB):          </th> <td>0.000508</td>\n",
              "</tr>\n",
              "<tr>\n",
              "  <th>Kurtosis:</th>      <td> 5.659</td> <th>  Cond. No.          </th> <td>    16.8</td>\n",
              "</tr>\n",
              "</table><br/><br/>Warnings:<br/>[1] Standard Errors assume that the covariance matrix of the errors is correctly specified."
            ]
          },
          "metadata": {},
          "execution_count": 30
        }
      ]
    },
    {
      "cell_type": "markdown",
      "source": [
        "#*Regression beta for Darshan Orna Limited stock = 0.293 and significant at 5%.*\n"
      ],
      "metadata": {
        "id": "CTtGHFf8HaE7"
      }
    },
    {
      "cell_type": "markdown",
      "source": [
        "**` Radhika JewelTech Limited regression beta calculations`**"
      ],
      "metadata": {
        "id": "9r9hF6JniqxO"
      }
    },
    {
      "cell_type": "code",
      "source": [
        "x = returns_rjl['Return_NIFTY']\n",
        "n = returns_rjl['Return_RJL']\n",
        "x_sm = sm.add_constant(x)"
      ],
      "metadata": {
        "colab": {
          "base_uri": "https://localhost:8080/"
        },
        "id": "sIU0rDsci0Dt",
        "outputId": "86eb7fe9-51b1-4917-df3f-6731b9d7f2a5"
      },
      "execution_count": null,
      "outputs": [
        {
          "output_type": "stream",
          "name": "stderr",
          "text": [
            "/usr/local/lib/python3.7/dist-packages/statsmodels/tsa/tsatools.py:117: FutureWarning: In a future version of pandas all arguments of concat except for the argument 'objs' will be keyword-only\n",
            "  x = pd.concat(x[::order], 1)\n"
          ]
        }
      ]
    },
    {
      "cell_type": "code",
      "source": [
        "#Regression - Market model \n",
        "model_rjl = sm.OLS(n,x_sm)"
      ],
      "metadata": {
        "id": "9xsr-t1Yi9nb"
      },
      "execution_count": null,
      "outputs": []
    },
    {
      "cell_type": "code",
      "source": [
        "results_rjl = model_rjl.fit()"
      ],
      "metadata": {
        "id": "HhbCdov-jC8D"
      },
      "execution_count": null,
      "outputs": []
    },
    {
      "cell_type": "code",
      "source": [
        "#Regression result\n",
        "results_rjl.summary()"
      ],
      "metadata": {
        "colab": {
          "base_uri": "https://localhost:8080/",
          "height": 444
        },
        "id": "v-bFk4QljFxh",
        "outputId": "a1c27856-00e4-4140-d285-bd7cec2d413e"
      },
      "execution_count": null,
      "outputs": [
        {
          "output_type": "execute_result",
          "data": {
            "text/plain": [
              "<class 'statsmodels.iolib.summary.Summary'>\n",
              "\"\"\"\n",
              "                            OLS Regression Results                            \n",
              "==============================================================================\n",
              "Dep. Variable:             Return_RJL   R-squared:                       0.008\n",
              "Model:                            OLS   Adj. R-squared:                 -0.015\n",
              "Method:                 Least Squares   F-statistic:                    0.3487\n",
              "Date:                Thu, 21 Apr 2022   Prob (F-statistic):              0.558\n",
              "Time:                        16:51:51   Log-Likelihood:                 20.975\n",
              "No. Observations:                  46   AIC:                            -37.95\n",
              "Df Residuals:                      44   BIC:                            -34.29\n",
              "Df Model:                           1                                         \n",
              "Covariance Type:            nonrobust                                         \n",
              "================================================================================\n",
              "                   coef    std err          t      P>|t|      [0.025      0.975]\n",
              "--------------------------------------------------------------------------------\n",
              "const           -0.0068      0.024     -0.289      0.774      -0.054       0.041\n",
              "Return_NIFTY     0.2258      0.382      0.591      0.558      -0.545       0.996\n",
              "==============================================================================\n",
              "Omnibus:                       13.265   Durbin-Watson:                   1.722\n",
              "Prob(Omnibus):                  0.001   Jarque-Bera (JB):               15.242\n",
              "Skew:                           1.027   Prob(JB):                     0.000490\n",
              "Kurtosis:                       4.933   Cond. No.                         16.5\n",
              "==============================================================================\n",
              "\n",
              "Warnings:\n",
              "[1] Standard Errors assume that the covariance matrix of the errors is correctly specified.\n",
              "\"\"\""
            ],
            "text/html": [
              "<table class=\"simpletable\">\n",
              "<caption>OLS Regression Results</caption>\n",
              "<tr>\n",
              "  <th>Dep. Variable:</th>       <td>Return_RJL</td>    <th>  R-squared:         </th> <td>   0.008</td>\n",
              "</tr>\n",
              "<tr>\n",
              "  <th>Model:</th>                   <td>OLS</td>       <th>  Adj. R-squared:    </th> <td>  -0.015</td>\n",
              "</tr>\n",
              "<tr>\n",
              "  <th>Method:</th>             <td>Least Squares</td>  <th>  F-statistic:       </th> <td>  0.3487</td>\n",
              "</tr>\n",
              "<tr>\n",
              "  <th>Date:</th>             <td>Thu, 21 Apr 2022</td> <th>  Prob (F-statistic):</th>  <td> 0.558</td> \n",
              "</tr>\n",
              "<tr>\n",
              "  <th>Time:</th>                 <td>16:51:51</td>     <th>  Log-Likelihood:    </th> <td>  20.975</td>\n",
              "</tr>\n",
              "<tr>\n",
              "  <th>No. Observations:</th>      <td>    46</td>      <th>  AIC:               </th> <td>  -37.95</td>\n",
              "</tr>\n",
              "<tr>\n",
              "  <th>Df Residuals:</th>          <td>    44</td>      <th>  BIC:               </th> <td>  -34.29</td>\n",
              "</tr>\n",
              "<tr>\n",
              "  <th>Df Model:</th>              <td>     1</td>      <th>                     </th>     <td> </td>   \n",
              "</tr>\n",
              "<tr>\n",
              "  <th>Covariance Type:</th>      <td>nonrobust</td>    <th>                     </th>     <td> </td>   \n",
              "</tr>\n",
              "</table>\n",
              "<table class=\"simpletable\">\n",
              "<tr>\n",
              "        <td></td>          <th>coef</th>     <th>std err</th>      <th>t</th>      <th>P>|t|</th>  <th>[0.025</th>    <th>0.975]</th>  \n",
              "</tr>\n",
              "<tr>\n",
              "  <th>const</th>        <td>   -0.0068</td> <td>    0.024</td> <td>   -0.289</td> <td> 0.774</td> <td>   -0.054</td> <td>    0.041</td>\n",
              "</tr>\n",
              "<tr>\n",
              "  <th>Return_NIFTY</th> <td>    0.2258</td> <td>    0.382</td> <td>    0.591</td> <td> 0.558</td> <td>   -0.545</td> <td>    0.996</td>\n",
              "</tr>\n",
              "</table>\n",
              "<table class=\"simpletable\">\n",
              "<tr>\n",
              "  <th>Omnibus:</th>       <td>13.265</td> <th>  Durbin-Watson:     </th> <td>   1.722</td>\n",
              "</tr>\n",
              "<tr>\n",
              "  <th>Prob(Omnibus):</th> <td> 0.001</td> <th>  Jarque-Bera (JB):  </th> <td>  15.242</td>\n",
              "</tr>\n",
              "<tr>\n",
              "  <th>Skew:</th>          <td> 1.027</td> <th>  Prob(JB):          </th> <td>0.000490</td>\n",
              "</tr>\n",
              "<tr>\n",
              "  <th>Kurtosis:</th>      <td> 4.933</td> <th>  Cond. No.          </th> <td>    16.5</td>\n",
              "</tr>\n",
              "</table><br/><br/>Warnings:<br/>[1] Standard Errors assume that the covariance matrix of the errors is correctly specified."
            ]
          },
          "metadata": {},
          "execution_count": 34
        }
      ]
    },
    {
      "cell_type": "markdown",
      "source": [
        "#*Regression beta for Radhika JewelTech Limited stock = 0.226 and significant at 5%.*"
      ],
      "metadata": {
        "id": "rovOuuG6kztr"
      }
    },
    {
      "cell_type": "markdown",
      "source": [
        "*`Thangamayil Jewellery Limited regression beta calculations`*"
      ],
      "metadata": {
        "id": "0yoNDsMWlDyK"
      }
    },
    {
      "cell_type": "code",
      "source": [
        "x = returns_tjl['Return_NIFTY']\n",
        "O = returns_tjl['Return_TJL']\n",
        "x_sm = sm.add_constant(x)"
      ],
      "metadata": {
        "colab": {
          "base_uri": "https://localhost:8080/"
        },
        "id": "6toRduErwp4l",
        "outputId": "c98a380a-4627-482a-8911-2413d54d8006"
      },
      "execution_count": null,
      "outputs": [
        {
          "output_type": "stream",
          "name": "stderr",
          "text": [
            "/usr/local/lib/python3.7/dist-packages/statsmodels/tsa/tsatools.py:117: FutureWarning: In a future version of pandas all arguments of concat except for the argument 'objs' will be keyword-only\n",
            "  x = pd.concat(x[::order], 1)\n"
          ]
        }
      ]
    },
    {
      "cell_type": "code",
      "source": [
        "#Regression - Market model \n",
        "model_tjl = sm.OLS(O,x_sm)"
      ],
      "metadata": {
        "id": "spFV7TI5wr4G"
      },
      "execution_count": null,
      "outputs": []
    },
    {
      "cell_type": "code",
      "source": [
        "results_tjl = model_tjl.fit()"
      ],
      "metadata": {
        "id": "1UzMB4GFwrxG"
      },
      "execution_count": null,
      "outputs": []
    },
    {
      "cell_type": "code",
      "source": [
        "#Regression result\n",
        "results_tjl.summary()"
      ],
      "metadata": {
        "colab": {
          "base_uri": "https://localhost:8080/",
          "height": 444
        },
        "id": "mK-jHCpowpaU",
        "outputId": "4f2df6b1-457d-4514-bbe5-af8af0e9dda7"
      },
      "execution_count": null,
      "outputs": [
        {
          "output_type": "execute_result",
          "data": {
            "text/plain": [
              "<class 'statsmodels.iolib.summary.Summary'>\n",
              "\"\"\"\n",
              "                            OLS Regression Results                            \n",
              "==============================================================================\n",
              "Dep. Variable:             Return_TJL   R-squared:                       0.349\n",
              "Model:                            OLS   Adj. R-squared:                  0.333\n",
              "Method:                 Least Squares   F-statistic:                     21.99\n",
              "Date:                Thu, 21 Apr 2022   Prob (F-statistic):           3.03e-05\n",
              "Time:                        16:51:55   Log-Likelihood:                 25.375\n",
              "No. Observations:                  43   AIC:                            -46.75\n",
              "Df Residuals:                      41   BIC:                            -43.23\n",
              "Df Model:                           1                                         \n",
              "Covariance Type:            nonrobust                                         \n",
              "================================================================================\n",
              "                   coef    std err          t      P>|t|      [0.025      0.975]\n",
              "--------------------------------------------------------------------------------\n",
              "const            0.0018      0.021      0.084      0.934      -0.041       0.045\n",
              "Return_NIFTY     1.6565      0.353      4.689      0.000       0.943       2.370\n",
              "==============================================================================\n",
              "Omnibus:                        7.548   Durbin-Watson:                   2.246\n",
              "Prob(Omnibus):                  0.023   Jarque-Bera (JB):                6.424\n",
              "Skew:                           0.887   Prob(JB):                       0.0403\n",
              "Kurtosis:                       3.660   Cond. No.                         16.9\n",
              "==============================================================================\n",
              "\n",
              "Warnings:\n",
              "[1] Standard Errors assume that the covariance matrix of the errors is correctly specified.\n",
              "\"\"\""
            ],
            "text/html": [
              "<table class=\"simpletable\">\n",
              "<caption>OLS Regression Results</caption>\n",
              "<tr>\n",
              "  <th>Dep. Variable:</th>       <td>Return_TJL</td>    <th>  R-squared:         </th> <td>   0.349</td>\n",
              "</tr>\n",
              "<tr>\n",
              "  <th>Model:</th>                   <td>OLS</td>       <th>  Adj. R-squared:    </th> <td>   0.333</td>\n",
              "</tr>\n",
              "<tr>\n",
              "  <th>Method:</th>             <td>Least Squares</td>  <th>  F-statistic:       </th> <td>   21.99</td>\n",
              "</tr>\n",
              "<tr>\n",
              "  <th>Date:</th>             <td>Thu, 21 Apr 2022</td> <th>  Prob (F-statistic):</th> <td>3.03e-05</td>\n",
              "</tr>\n",
              "<tr>\n",
              "  <th>Time:</th>                 <td>16:51:55</td>     <th>  Log-Likelihood:    </th> <td>  25.375</td>\n",
              "</tr>\n",
              "<tr>\n",
              "  <th>No. Observations:</th>      <td>    43</td>      <th>  AIC:               </th> <td>  -46.75</td>\n",
              "</tr>\n",
              "<tr>\n",
              "  <th>Df Residuals:</th>          <td>    41</td>      <th>  BIC:               </th> <td>  -43.23</td>\n",
              "</tr>\n",
              "<tr>\n",
              "  <th>Df Model:</th>              <td>     1</td>      <th>                     </th>     <td> </td>   \n",
              "</tr>\n",
              "<tr>\n",
              "  <th>Covariance Type:</th>      <td>nonrobust</td>    <th>                     </th>     <td> </td>   \n",
              "</tr>\n",
              "</table>\n",
              "<table class=\"simpletable\">\n",
              "<tr>\n",
              "        <td></td>          <th>coef</th>     <th>std err</th>      <th>t</th>      <th>P>|t|</th>  <th>[0.025</th>    <th>0.975]</th>  \n",
              "</tr>\n",
              "<tr>\n",
              "  <th>const</th>        <td>    0.0018</td> <td>    0.021</td> <td>    0.084</td> <td> 0.934</td> <td>   -0.041</td> <td>    0.045</td>\n",
              "</tr>\n",
              "<tr>\n",
              "  <th>Return_NIFTY</th> <td>    1.6565</td> <td>    0.353</td> <td>    4.689</td> <td> 0.000</td> <td>    0.943</td> <td>    2.370</td>\n",
              "</tr>\n",
              "</table>\n",
              "<table class=\"simpletable\">\n",
              "<tr>\n",
              "  <th>Omnibus:</th>       <td> 7.548</td> <th>  Durbin-Watson:     </th> <td>   2.246</td>\n",
              "</tr>\n",
              "<tr>\n",
              "  <th>Prob(Omnibus):</th> <td> 0.023</td> <th>  Jarque-Bera (JB):  </th> <td>   6.424</td>\n",
              "</tr>\n",
              "<tr>\n",
              "  <th>Skew:</th>          <td> 0.887</td> <th>  Prob(JB):          </th> <td>  0.0403</td>\n",
              "</tr>\n",
              "<tr>\n",
              "  <th>Kurtosis:</th>      <td> 3.660</td> <th>  Cond. No.          </th> <td>    16.9</td>\n",
              "</tr>\n",
              "</table><br/><br/>Warnings:<br/>[1] Standard Errors assume that the covariance matrix of the errors is correctly specified."
            ]
          },
          "metadata": {},
          "execution_count": 38
        }
      ]
    },
    {
      "cell_type": "markdown",
      "source": [
        "#*Regression beta for Thangamayil Jewellery Limited stock = 1.656 and significant at 5%.*"
      ],
      "metadata": {
        "id": "U6IHUauSxU6S"
      }
    },
    {
      "cell_type": "markdown",
      "source": [
        "*`Goldiam International Limited regression beta calculations`*"
      ],
      "metadata": {
        "id": "WI7J9NmklFCx"
      }
    },
    {
      "cell_type": "code",
      "source": [
        "x = returns_gil['Return_NIFTY']\n",
        "p = returns_gil['Return_GIL']\n",
        "x_sm = sm.add_constant(x)"
      ],
      "metadata": {
        "colab": {
          "base_uri": "https://localhost:8080/"
        },
        "id": "f1Uu7-fUzWKi",
        "outputId": "cf48c20a-5707-40fd-83ad-6abc49e5edc8"
      },
      "execution_count": null,
      "outputs": [
        {
          "output_type": "stream",
          "name": "stderr",
          "text": [
            "/usr/local/lib/python3.7/dist-packages/statsmodels/tsa/tsatools.py:117: FutureWarning: In a future version of pandas all arguments of concat except for the argument 'objs' will be keyword-only\n",
            "  x = pd.concat(x[::order], 1)\n"
          ]
        }
      ]
    },
    {
      "cell_type": "code",
      "source": [
        "#Regression - Market model \n",
        "model_gil = sm.OLS(p,x_sm)"
      ],
      "metadata": {
        "id": "KNR_BZYNzWFN"
      },
      "execution_count": null,
      "outputs": []
    },
    {
      "cell_type": "code",
      "source": [
        "results_gil = model_gil.fit()"
      ],
      "metadata": {
        "id": "KchFpMBtzWAY"
      },
      "execution_count": null,
      "outputs": []
    },
    {
      "cell_type": "code",
      "source": [
        "#Regression result\n",
        "results_gil.summary()"
      ],
      "metadata": {
        "colab": {
          "base_uri": "https://localhost:8080/",
          "height": 444
        },
        "id": "WhfaPxgQzV6o",
        "outputId": "37350afe-39ea-47d7-bf4e-3aafac1297be"
      },
      "execution_count": null,
      "outputs": [
        {
          "output_type": "execute_result",
          "data": {
            "text/plain": [
              "<class 'statsmodels.iolib.summary.Summary'>\n",
              "\"\"\"\n",
              "                            OLS Regression Results                            \n",
              "==============================================================================\n",
              "Dep. Variable:             Return_GIL   R-squared:                       0.143\n",
              "Model:                            OLS   Adj. R-squared:                  0.120\n",
              "Method:                 Least Squares   F-statistic:                     6.193\n",
              "Date:                Thu, 21 Apr 2022   Prob (F-statistic):             0.0174\n",
              "Time:                        16:52:08   Log-Likelihood:                 20.500\n",
              "No. Observations:                  39   AIC:                            -37.00\n",
              "Df Residuals:                      37   BIC:                            -33.67\n",
              "Df Model:                           1                                         \n",
              "Covariance Type:            nonrobust                                         \n",
              "================================================================================\n",
              "                   coef    std err          t      P>|t|      [0.025      0.975]\n",
              "--------------------------------------------------------------------------------\n",
              "const            0.0067      0.025      0.272      0.787      -0.043       0.057\n",
              "Return_NIFTY     1.3004      0.523      2.489      0.017       0.242       2.359\n",
              "==============================================================================\n",
              "Omnibus:                        0.972   Durbin-Watson:                   2.122\n",
              "Prob(Omnibus):                  0.615   Jarque-Bera (JB):                0.490\n",
              "Skew:                           0.270   Prob(JB):                        0.783\n",
              "Kurtosis:                       3.099   Cond. No.                         22.2\n",
              "==============================================================================\n",
              "\n",
              "Warnings:\n",
              "[1] Standard Errors assume that the covariance matrix of the errors is correctly specified.\n",
              "\"\"\""
            ],
            "text/html": [
              "<table class=\"simpletable\">\n",
              "<caption>OLS Regression Results</caption>\n",
              "<tr>\n",
              "  <th>Dep. Variable:</th>       <td>Return_GIL</td>    <th>  R-squared:         </th> <td>   0.143</td>\n",
              "</tr>\n",
              "<tr>\n",
              "  <th>Model:</th>                   <td>OLS</td>       <th>  Adj. R-squared:    </th> <td>   0.120</td>\n",
              "</tr>\n",
              "<tr>\n",
              "  <th>Method:</th>             <td>Least Squares</td>  <th>  F-statistic:       </th> <td>   6.193</td>\n",
              "</tr>\n",
              "<tr>\n",
              "  <th>Date:</th>             <td>Thu, 21 Apr 2022</td> <th>  Prob (F-statistic):</th>  <td>0.0174</td> \n",
              "</tr>\n",
              "<tr>\n",
              "  <th>Time:</th>                 <td>16:52:08</td>     <th>  Log-Likelihood:    </th> <td>  20.500</td>\n",
              "</tr>\n",
              "<tr>\n",
              "  <th>No. Observations:</th>      <td>    39</td>      <th>  AIC:               </th> <td>  -37.00</td>\n",
              "</tr>\n",
              "<tr>\n",
              "  <th>Df Residuals:</th>          <td>    37</td>      <th>  BIC:               </th> <td>  -33.67</td>\n",
              "</tr>\n",
              "<tr>\n",
              "  <th>Df Model:</th>              <td>     1</td>      <th>                     </th>     <td> </td>   \n",
              "</tr>\n",
              "<tr>\n",
              "  <th>Covariance Type:</th>      <td>nonrobust</td>    <th>                     </th>     <td> </td>   \n",
              "</tr>\n",
              "</table>\n",
              "<table class=\"simpletable\">\n",
              "<tr>\n",
              "        <td></td>          <th>coef</th>     <th>std err</th>      <th>t</th>      <th>P>|t|</th>  <th>[0.025</th>    <th>0.975]</th>  \n",
              "</tr>\n",
              "<tr>\n",
              "  <th>const</th>        <td>    0.0067</td> <td>    0.025</td> <td>    0.272</td> <td> 0.787</td> <td>   -0.043</td> <td>    0.057</td>\n",
              "</tr>\n",
              "<tr>\n",
              "  <th>Return_NIFTY</th> <td>    1.3004</td> <td>    0.523</td> <td>    2.489</td> <td> 0.017</td> <td>    0.242</td> <td>    2.359</td>\n",
              "</tr>\n",
              "</table>\n",
              "<table class=\"simpletable\">\n",
              "<tr>\n",
              "  <th>Omnibus:</th>       <td> 0.972</td> <th>  Durbin-Watson:     </th> <td>   2.122</td>\n",
              "</tr>\n",
              "<tr>\n",
              "  <th>Prob(Omnibus):</th> <td> 0.615</td> <th>  Jarque-Bera (JB):  </th> <td>   0.490</td>\n",
              "</tr>\n",
              "<tr>\n",
              "  <th>Skew:</th>          <td> 0.270</td> <th>  Prob(JB):          </th> <td>   0.783</td>\n",
              "</tr>\n",
              "<tr>\n",
              "  <th>Kurtosis:</th>      <td> 3.099</td> <th>  Cond. No.          </th> <td>    22.2</td>\n",
              "</tr>\n",
              "</table><br/><br/>Warnings:<br/>[1] Standard Errors assume that the covariance matrix of the errors is correctly specified."
            ]
          },
          "metadata": {},
          "execution_count": 42
        }
      ]
    },
    {
      "cell_type": "markdown",
      "source": [
        "#*Regression beta for Goldiam International Limited stock = 1.300 and significant at 5%.*"
      ],
      "metadata": {
        "id": "PW3kEdhMzwWL"
      }
    },
    {
      "cell_type": "markdown",
      "source": [
        "#**Hurdle rate /WACC calculations**"
      ],
      "metadata": {
        "id": "UTqnut6V4xl6"
      }
    },
    {
      "cell_type": "markdown",
      "source": [
        "#*Tax Rate, Risk free rate(YTM) and Market Risk Mean(calculated from above) on 31st March, 2021 are 25%, 6.177% and 1.0717% respectively.*"
      ],
      "metadata": {
        "id": "tz8y1gUsCHAo"
      }
    },
    {
      "cell_type": "code",
      "source": [
        "#Rm_Mean, Rf and T hold Risk free rate and Tax Rate respectively\n",
        "T = 0.25\n",
        "Rf = 0.06177\n",
        "Rm_Mean = 0.010717\n",
        "print(\"Tax Rate on 31st March, 2021 \"+str(T*100)+\"%\")\n",
        "print(\"Risk free rate \"+str(Rf*100)+\"%\")\n",
        "print( \"Market Risk Mean(calculated from above) \"+str(Rm_Mean*100)+\"%\")"
      ],
      "metadata": {
        "id": "JvBB8_n4B4P8",
        "colab": {
          "base_uri": "https://localhost:8080/"
        },
        "outputId": "bf7f848c-b551-42a3-f622-63302bdbae4a"
      },
      "execution_count": null,
      "outputs": [
        {
          "output_type": "stream",
          "name": "stdout",
          "text": [
            "Tax Rate on 31st March, 2021 25.0%\n",
            "Risk free rate 6.177%\n",
            "Market Risk Mean(calculated from above) 1.0717%\n"
          ]
        }
      ]
    },
    {
      "cell_type": "markdown",
      "source": [
        "#*co_beta_regeression stores regression beta value of a company and*\n",
        "#*co_credit_default_spread holds credit default spread of a company*\n",
        "*(Synthetic Rating and Credit Default Spread for companies are taken as per \" http://pages.stern.nyu.edu/~adamodar/New_Home_Page/valquestions/syntrating.htm \")*\n",
        "\n",
        "#-  *Darshan Orna Limited = dol (AAA rated and 0.75% spread).*\n",
        "\n",
        "#-  *Radhika JewelTech Limited = rjl (AAA rated and 0.75% spread).*\n",
        "\n",
        "#-  *Thangmayil Jewellery Limited = tjl (AA rated and 0.75% spread).*\n",
        "\n",
        "#-  *Goldiam International Limited = gil (AAA rated and 0.75% spread).*\n",
        "\n",
        "\n",
        "\n",
        "\n"
      ],
      "metadata": {
        "id": "GSolFaRH0tv-"
      }
    },
    {
      "cell_type": "code",
      "source": [
        "dol_beta_regression = 0.293\n",
        "dol_credit_default_spread = 0.0075\n",
        "rjl_beta_regression = 0.226\n",
        "rjl_credit_default_spread = 0.0075\n",
        "tjl_beta_regression = 1.656\n",
        "tjl_credit_default_spread = 0.01\n",
        "gil_beta_regression = 1.300\n",
        "gil_credit_default_spread = 0.0075"
      ],
      "metadata": {
        "id": "rKXgLsILsOB7"
      },
      "execution_count": null,
      "outputs": []
    },
    {
      "cell_type": "markdown",
      "source": [
        "*`This function is used to calculate company's data like Market Cap, D/E, Ws, Wb and Interest Coverage Ratio.`*"
      ],
      "metadata": {
        "id": "uK2InbaEsgbg"
      }
    },
    {
      "cell_type": "code",
      "source": [
        "def data_calculations(co_data, co_beta_regression, co_credit_default_spread):\n",
        "  co_data.append(co_data[1]*co_data[2])\n",
        "  co_data.append(co_data[3]/co_data[6])\n",
        "  co_data.append(co_data[7]+1)\n",
        "  co_data.append(1/co_data[8])\n",
        "  co_data.append(co_data[7]/co_data[8])\n",
        "  co_data.append(0)\n",
        "  co_data.append(co_beta_regression)\n",
        "  co_data.append(co_data[4]/co_data[5])\n",
        "  co_data.append(co_credit_default_spread)\n",
        "  print(\"Below is the data of \"+str(co_data[0])+\" on 31st March, 2021\")\n",
        "  print(\"Share Price of \", co_data[0],\"Rs.\"+str(co_data[1]))\n",
        "  print(\"No. of Outstanding Shares of\", co_data[0], co_data[2])\n",
        "  print(\"Market Capitalization of\", co_data[0], \"is Rs.\"+str(co_data[6]))\n",
        "  print(\"Market value of debt of\", co_data[0], \"is Rs.\"+str(co_data[3]))\n",
        "  print(\"EBIT of\", co_data[0], \"is \"+str(co_data[4]))\n",
        "  print(\"Interest Expense of\", co_data[0], \"is \"+str(co_data[5]))\n",
        "  print(\"Debt to Equity ratio(D/E) of\", co_data[0], \"is \"+str(co_data[7]))\n",
        "  print(\"Value of the firm to Equity Ratio(V/E) of\", co_data[0], \"is \"+str(co_data[8]))\n",
        "  print(\"Weight of Common Stock/Equity(Ws) of\", co_data[0], \"is \"+str(co_data[9]))\n",
        "  print(\"Weight of Debt instrument(Wb) of\", co_data[0], \"is \"+str(co_data[10]))\n",
        "  print(\"Weight of Preffered Stock(Wp) of\", co_data[0], \"is \"+str(co_data[11]))\n",
        "  print(\"Regression beta of\", co_data[0], \"is \"+str(co_data[12]))\n",
        "  print(\"Interest Coverage Ratio of\", co_data[0], \"is \"+str(co_data[13]))\n",
        "  print(\"Credit Default Spread of\", co_data[0], \"is \"+str(co_data[14]))\n",
        "  return co_data"
      ],
      "metadata": {
        "id": "4pyvZwM6f1vm"
      },
      "execution_count": null,
      "outputs": []
    },
    {
      "cell_type": "markdown",
      "source": [
        "*`This function is used to calculate cost of equity capital(Rs) top down or regression approach. `*\n",
        "\n"
      ],
      "metadata": {
        "id": "1lBofGTutGXg"
      }
    },
    {
      "cell_type": "code",
      "source": [
        "def cost_of_equity_top_down(co_data, Rm, Rf):\n",
        "  Rs_top_down = Rf+co_data[12]*(Rf-Rm)\n",
        "  co_data.insert(15, Rs_top_down)\n",
        "  print(\"Top-Down Cost of Equity Capital(Rs) of\", co_data[0], \"is \"+str(co_data[15]*100)+\"%\")\n",
        "  return co_data"
      ],
      "metadata": {
        "id": "AYIKGAFQrsSI"
      },
      "execution_count": null,
      "outputs": []
    },
    {
      "cell_type": "markdown",
      "source": [
        "*`This function is used to unlever the beta of a company. `*"
      ],
      "metadata": {
        "id": "XkwrFD_92Bgo"
      }
    },
    {
      "cell_type": "code",
      "source": [
        "def unlever_beta(co_data, T):\n",
        "  #Unlevering the beta of a company\n",
        "  co_unlever_beta = co_data[12]/(1+((1-T)*co_data[7]))\n",
        "  co_data.insert(16,co_unlever_beta)\n",
        "  print(\"Unlevered beta of\", co_data[0], \"is \"+str(co_data[16]))\n",
        "  return co_data"
      ],
      "metadata": {
        "id": "TYU2yQjg2BTW"
      },
      "execution_count": null,
      "outputs": []
    },
    {
      "cell_type": "markdown",
      "source": [
        "*`This function is used to relever the beta of a company(co_data) through comparable co.s(co1_data, co2_data and co3_data). `*"
      ],
      "metadata": {
        "id": "4Eucft0l_BQP"
      }
    },
    {
      "cell_type": "code",
      "source": [
        "def relever_beta(co_data, co1_data, co2_data, co3_data, T):\n",
        "  #Levering of beta through comparable co.s\n",
        "  unlevered_beta_average = (co1_data[16]+co2_data[16]+co3_data[16])/3\n",
        "  co_data.insert(17,unlevered_beta_average)\n",
        "  relevered_beta = (unlevered_beta_average)*(1+(1-T)*co_data[7])\n",
        "  co_data.insert(18, relevered_beta)\n",
        "  print(\"Relevered beta of\", co_data[0], \"is \"+str(co_data[18]))\n",
        "  return co_data"
      ],
      "metadata": {
        "id": "e8VWj8oy_AWA"
      },
      "execution_count": null,
      "outputs": []
    },
    {
      "cell_type": "markdown",
      "source": [
        "*`This function is used to calculate cost of equity capital(Rs) bottom-up approach. `*"
      ],
      "metadata": {
        "id": "B7Wpzykm0vS-"
      }
    },
    {
      "cell_type": "code",
      "source": [
        "def cost_of_equity_bottom_up(co_data, Rm, Rf):\n",
        "  Rs_bottom_up = Rf+co_data[18]*(Rf-Rm)\n",
        "  co_data.insert(19, Rs_bottom_up)\n",
        "  print(\"Bottom-Up Cost of Equity Capital(Rs) of\", co_data[0], \"is \"+str(co_data[19]*100)+\"%\")\n",
        "  return co_data"
      ],
      "metadata": {
        "id": "zVqYVXgf0u96"
      },
      "execution_count": null,
      "outputs": []
    },
    {
      "cell_type": "markdown",
      "source": [
        "*`This function is used to calculate Cost of Debt(Rb).`*"
      ],
      "metadata": {
        "id": "BzQLliWL0KD-"
      }
    },
    {
      "cell_type": "code",
      "source": [
        "def cost_of_debt(co_data, Rf):\n",
        "  Rb = Rf + co_data[14]\n",
        "  co_data.insert(20,Rb)\n",
        "  print(\"Cost of Debt(Rb)\", co_data[0], \"is \"+str(co_data[20]*100)+\"%\")\n",
        "  return co_data"
      ],
      "metadata": {
        "id": "Bf8gPi7C0Jl0"
      },
      "execution_count": null,
      "outputs": []
    },
    {
      "cell_type": "markdown",
      "source": [
        "*`This function is used to calculate Weighted Average Cost of Capital(WACC).`*\n",
        "*`(Cost of Equity Capital from bottom up approach is used)`*"
      ],
      "metadata": {
        "id": "UrQHx_SBzHVu"
      }
    },
    {
      "cell_type": "code",
      "source": [
        "def cost_of_capital(co_data, T):\n",
        "  WACC = (co_data[20]*co_data[10]*(1-T))+(co_data[19]*co_data[9])\n",
        "  co_data.insert(21,WACC)\n",
        "  print(\"Cost of Capital\", co_data[0], \"is \"+str(co_data[21]*100)+\"%\")\n",
        "  return co_data"
      ],
      "metadata": {
        "id": "e2gWhXm7zIQA"
      },
      "execution_count": null,
      "outputs": []
    },
    {
      "cell_type": "markdown",
      "source": [
        "#**Price, Outstanding Shares, Debt, EBIT and Interest Expense of on 31st March, 2021 from yahoo finance for**\n",
        "\n",
        "- *Darshan Orna Limited are Rs.14.25, 23421420, Rs.2373000, Rs.20426000 and Rs.440290*\n",
        "\n",
        "- *Radhika Jeweltech Limited are Rs.14.72, 7638100, Rs.340677000, Rs.337518000 and Rs.2978000*\n",
        "\n",
        "- *Thangamayil Jewellery Limited are Rs.1147.50, 524340, Rs.4770104000, Rs.1367451000 and Rs.197736000*\n",
        "\n",
        "- *Goldiam International Limited are Rs.147.90, 23073140, Rs.1326827000, Rs. 975005000, Rs.2987000*\n",
        "\n",
        "#**respectively.**\n",
        "\n",
        "\n",
        "\n",
        "\n",
        "\n",
        "*(Market value of debt = Book value of debt)*\n",
        "\n",
        "*(Wp = 0 because there is no preferred stock for selected companies)*\n"
      ],
      "metadata": {
        "id": "lvQq6YYzwtKA"
      }
    },
    {
      "cell_type": "code",
      "source": [
        "#list co_data contains data of a company from yahoo finance\"\n",
        "dol_data = [\"Darshan Orna Limited\", 14.25, 23421420, 2373000, 20426000, 440290]\n",
        "rjl_data = [\"Radhika Jeweltech Limited\", 14.72, 7638100, 340677000, 337518000, 2978000]\n",
        "tjl_data = [\"Thangamayil Jewellery Limited\", 1147.50, 524340, 4770104000, 1367451000, 197736000]\n",
        "gil_data = [\"Goldiam International Limited\", 147.90, 23073140, 1326827000, 975005000, 2987000]"
      ],
      "metadata": {
        "id": "JlscxfhSbfE3"
      },
      "execution_count": null,
      "outputs": []
    },
    {
      "cell_type": "markdown",
      "source": [
        "*`Calculations of company's data like Market Cap, D/E, Ws, Wb and Interest Coverage Ratio`*"
      ],
      "metadata": {
        "id": "KEtrN8iT8Wr-"
      }
    },
    {
      "cell_type": "code",
      "source": [
        "\"\"\"data_calculations function is called to calculate company's data like \n",
        "   Market Cap, D/E, Ws, Wb and Interest Coverage Ratio\"\"\"\n",
        "dol_data = data_calculations(dol_data, dol_beta_regression, dol_credit_default_spread)"
      ],
      "metadata": {
        "colab": {
          "base_uri": "https://localhost:8080/"
        },
        "id": "Fn6pkshx8QMH",
        "outputId": "37f2f8a6-6e67-450d-df6f-148587153563"
      },
      "execution_count": null,
      "outputs": [
        {
          "output_type": "stream",
          "name": "stdout",
          "text": [
            "Below is the data of Darshan Orna Limited on 31st March, 2021\n",
            "Share Price of  Darshan Orna Limited Rs.14.25\n",
            "No. of Outstanding Shares of Darshan Orna Limited 23421420\n",
            "Market Capitalization of Darshan Orna Limited is Rs.333755235.0\n",
            "Market value of debt of Darshan Orna Limited is Rs.2373000\n",
            "EBIT of Darshan Orna Limited is 20426000\n",
            "Interest Expense of Darshan Orna Limited is 440290\n",
            "Debt to Equity ratio(D/E) of Darshan Orna Limited is 0.007110000836391375\n",
            "Value of the firm to Equity Ratio(V/E) of Darshan Orna Limited is 1.0071100008363914\n",
            "Weight of Common Stock/Equity(Ws) of Darshan Orna Limited is 0.9929401943874189\n",
            "Weight of Debt instrument(Wb) of Darshan Orna Limited is 0.007059805612581163\n",
            "Weight of Preffered Stock(Wp) of Darshan Orna Limited is 0\n",
            "Regression beta of Darshan Orna Limited is 0.293\n",
            "Interest Coverage Ratio of Darshan Orna Limited is 46.392150627995186\n",
            "Credit Default Spread of Darshan Orna Limited is 0.0075\n"
          ]
        }
      ]
    },
    {
      "cell_type": "markdown",
      "source": [
        "\n",
        "\n",
        "#-  *Market Capitalization or Market Value of Equity of Darshan Orna Limited is Rs.333755235.*\n",
        "\n",
        "#-  *Market value of debt or book value of debt of Darshan Orna Limited is Rs.2373000.*\n",
        "\n",
        "#-  *Debt to Equity ratio(D/E) of Darshan Orna Limited is 0.007.*\n",
        "\n",
        "\n",
        "#-  *Interest Coverage Ratio of Darshan Orna Limited is 46.392.*\n",
        "\n",
        "\n",
        "\n"
      ],
      "metadata": {
        "id": "_GYToj0hWep1"
      }
    },
    {
      "cell_type": "code",
      "source": [
        "rjl_data = data_calculations(rjl_data, rjl_beta_regression, rjl_credit_default_spread)"
      ],
      "metadata": {
        "colab": {
          "base_uri": "https://localhost:8080/"
        },
        "id": "DqcKaQ9N6jRS",
        "outputId": "25a7cb01-4072-4d6c-d8f8-377499f0a085"
      },
      "execution_count": null,
      "outputs": [
        {
          "output_type": "stream",
          "name": "stdout",
          "text": [
            "Below is the data of Radhika Jeweltech Limited on 31st March, 2021\n",
            "Share Price of  Radhika Jeweltech Limited Rs.14.72\n",
            "No. of Outstanding Shares of Radhika Jeweltech Limited 7638100\n",
            "Market Capitalization of Radhika Jeweltech Limited is Rs.112432832.0\n",
            "Market value of debt of Radhika Jeweltech Limited is Rs.340677000\n",
            "EBIT of Radhika Jeweltech Limited is 337518000\n",
            "Interest Expense of Radhika Jeweltech Limited is 2978000\n",
            "Debt to Equity ratio(D/E) of Radhika Jeweltech Limited is 3.0300490874409354\n",
            "Value of the firm to Equity Ratio(V/E) of Radhika Jeweltech Limited is 4.030049087440935\n",
            "Weight of Common Stock/Equity(Ws) of Radhika Jeweltech Limited is 0.24813593539501919\n",
            "Weight of Debt instrument(Wb) of Radhika Jeweltech Limited is 0.7518640646049808\n",
            "Weight of Preffered Stock(Wp) of Radhika Jeweltech Limited is 0\n",
            "Regression beta of Radhika Jeweltech Limited is 0.226\n",
            "Interest Coverage Ratio of Radhika Jeweltech Limited is 113.33713901947615\n",
            "Credit Default Spread of Radhika Jeweltech Limited is 0.0075\n"
          ]
        }
      ]
    },
    {
      "cell_type": "markdown",
      "source": [
        "#-  *Market Capitalization of Radhika Jeweltech Limited is Rs.112432832.*\n",
        "\n",
        "#-  *Market value of debt of Radhika Jeweltech Limited is Rs.340677000.*\n",
        "\n",
        "#-  *Debt to Equity ratio(D/E) of Radhika Jeweltech Limited is 3.030.*\n",
        "\n",
        "#-  *Interest Coverage Ratio of Radhika Jeweltech Limited is 113.337.*"
      ],
      "metadata": {
        "id": "wVe5G4q-XyTu"
      }
    },
    {
      "cell_type": "code",
      "source": [
        "tjl_data = data_calculations(tjl_data, tjl_beta_regression, tjl_credit_default_spread)"
      ],
      "metadata": {
        "colab": {
          "base_uri": "https://localhost:8080/"
        },
        "id": "BKLsbyh26jI0",
        "outputId": "6f05e643-e4b8-4d29-8aec-981eea4aa561"
      },
      "execution_count": null,
      "outputs": [
        {
          "output_type": "stream",
          "name": "stdout",
          "text": [
            "Below is the data of Thangamayil Jewellery Limited on 31st March, 2021\n",
            "Share Price of  Thangamayil Jewellery Limited Rs.1147.5\n",
            "No. of Outstanding Shares of Thangamayil Jewellery Limited 524340\n",
            "Market Capitalization of Thangamayil Jewellery Limited is Rs.601680150.0\n",
            "Market value of debt of Thangamayil Jewellery Limited is Rs.4770104000\n",
            "EBIT of Thangamayil Jewellery Limited is 1367451000\n",
            "Interest Expense of Thangamayil Jewellery Limited is 197736000\n",
            "Debt to Equity ratio(D/E) of Thangamayil Jewellery Limited is 7.927973026864855\n",
            "Value of the firm to Equity Ratio(V/E) of Thangamayil Jewellery Limited is 8.927973026864855\n",
            "Weight of Common Stock/Equity(Ws) of Thangamayil Jewellery Limited is 0.11200750685412407\n",
            "Weight of Debt instrument(Wb) of Thangamayil Jewellery Limited is 0.8879924931458759\n",
            "Weight of Preffered Stock(Wp) of Thangamayil Jewellery Limited is 0\n",
            "Regression beta of Thangamayil Jewellery Limited is 1.656\n",
            "Interest Coverage Ratio of Thangamayil Jewellery Limited is 6.915538900351985\n",
            "Credit Default Spread of Thangamayil Jewellery Limited is 0.01\n"
          ]
        }
      ]
    },
    {
      "cell_type": "markdown",
      "source": [
        "#-   *Market Capitalization of Thangamayil Jewellery Limited is Rs.601680150.*\n",
        "\n",
        "#-   *Market value of debt of Thangamayil Jewellery Limited is Rs.4770104000.*\n",
        "\n",
        "#-   *Debt to Equity ratio(D/E) of Thangamayil Jewellery Limited is 7.928.*\n",
        "\n",
        "#-    *Interest Coverage Ratio of Thangamayil Jewellery Limited is 6.916.*"
      ],
      "metadata": {
        "id": "bY92m745YjgE"
      }
    },
    {
      "cell_type": "code",
      "source": [
        "gil_data = data_calculations(gil_data, gil_beta_regression, gil_credit_default_spread)"
      ],
      "metadata": {
        "colab": {
          "base_uri": "https://localhost:8080/"
        },
        "id": "g0x2Ew7s6i66",
        "outputId": "2bd73d9d-05cb-47b2-e3f2-fa1a2dd95e7c"
      },
      "execution_count": null,
      "outputs": [
        {
          "output_type": "stream",
          "name": "stdout",
          "text": [
            "Below is the data of Goldiam International Limited on 31st March, 2021\n",
            "Share Price of  Goldiam International Limited Rs.147.9\n",
            "No. of Outstanding Shares of Goldiam International Limited 23073140\n",
            "Market Capitalization of Goldiam International Limited is Rs.3412517406.0\n",
            "Market value of debt of Goldiam International Limited is Rs.1326827000\n",
            "EBIT of Goldiam International Limited is 975005000\n",
            "Interest Expense of Goldiam International Limited is 2987000\n",
            "Debt to Equity ratio(D/E) of Goldiam International Limited is 0.388811789697286\n",
            "Value of the firm to Equity Ratio(V/E) of Goldiam International Limited is 1.388811789697286\n",
            "Weight of Common Stock/Equity(Ws) of Goldiam International Limited is 0.7200399704397427\n",
            "Weight of Debt instrument(Wb) of Goldiam International Limited is 0.2799600295602573\n",
            "Weight of Preffered Stock(Wp) of Goldiam International Limited is 0\n",
            "Regression beta of Goldiam International Limited is 1.3\n",
            "Interest Coverage Ratio of Goldiam International Limited is 326.41613659189824\n",
            "Credit Default Spread of Goldiam International Limited is 0.0075\n"
          ]
        }
      ]
    },
    {
      "cell_type": "markdown",
      "source": [
        "#-  *Market Capitalization of Goldiam International Limited is Rs.3412517406.*\n",
        "\n",
        "#-  *Market value of debt of Goldiam International Limited is is Rs.1326827000.*\n",
        "\n",
        "#-  *Debt to Equity ratio(D/E) of Goldiam International Limited is 0.389.*\n",
        "\n",
        "#-  *Interest Coverage Ratio of Goldiam International Limited is 326.416.*"
      ],
      "metadata": {
        "id": "H2m8GlNoc0uV"
      }
    },
    {
      "cell_type": "markdown",
      "source": [
        "*`Cost of Equity Capital(Rs) top down or regression approach calculations`*"
      ],
      "metadata": {
        "id": "ib28pCwr8Dsj"
      }
    },
    {
      "cell_type": "code",
      "source": [
        "\"\"\"cost_of_equity_top_down function is called to calculate cost of equity \n",
        "   capital(Rs) top down or regression approach\"\"\"\n",
        "dol_data = cost_of_equity_top_down(dol_data, Rm_Mean, Rf)\n",
        "rjl_data = cost_of_equity_top_down(rjl_data, Rm_Mean, Rf)\n",
        "tjl_data = cost_of_equity_top_down(tjl_data, Rm_Mean, Rf)\n",
        "gil_data = cost_of_equity_top_down(gil_data, Rm_Mean, Rf)"
      ],
      "metadata": {
        "colab": {
          "base_uri": "https://localhost:8080/"
        },
        "id": "jWEa0Z67v15T",
        "outputId": "03719722-473a-47ad-fe66-7017ec6cee83"
      },
      "execution_count": null,
      "outputs": [
        {
          "output_type": "stream",
          "name": "stdout",
          "text": [
            "Top-Down Cost of Equity Capital(Rs) of Darshan Orna Limited is 7.6728529000000005%\n",
            "Top-Down Cost of Equity Capital(Rs) of Radhika Jeweltech Limited is 7.330797799999999%\n",
            "Top-Down Cost of Equity Capital(Rs) of Thangamayil Jewellery Limited is 14.631376799999998%\n",
            "Top-Down Cost of Equity Capital(Rs) of Goldiam International Limited is 12.81389%\n"
          ]
        }
      ]
    },
    {
      "cell_type": "markdown",
      "source": [
        "\n",
        "\n",
        "#-   *Top-Down Cost of Equity Capital(Rs) of Darshan Orna Limited is 7.673%.*\n",
        "\n",
        "#-   *Top-Down Cost of Equity Capital(Rs) of Radhika Jeweltech Limited is 7.331%.*\n",
        "\n",
        "#-   *Top-Down Cost of Equity Capital(Rs) of Thangamayil Jewellery Limited is 14.6314%.*\n",
        "\n",
        "#-   *Top-Down Cost of Equity Capital(Rs) of Goldiam International Limited is 12.814%.*\n",
        "\n",
        "\n",
        "\n",
        "\n",
        "\n"
      ],
      "metadata": {
        "id": "AJWNz6vC7tmb"
      }
    },
    {
      "cell_type": "code",
      "source": [
        "#unlever_beta function is called to unlever the beta of a company\n",
        "dol_data = unlever_beta(dol_data, T)\n",
        "rjl_data = unlever_beta(rjl_data, T)\n",
        "tjl_data = unlever_beta(tjl_data, T)\n",
        "gil_data = unlever_beta(gil_data, T)"
      ],
      "metadata": {
        "colab": {
          "base_uri": "https://localhost:8080/"
        },
        "id": "RLOk9d1p3rKj",
        "outputId": "1a868177-7425-438f-da7b-ae7cb2c4c0f6"
      },
      "execution_count": null,
      "outputs": [
        {
          "output_type": "stream",
          "name": "stdout",
          "text": [
            "Unlevered beta of Darshan Orna Limited is 0.29144586474343354\n",
            "Unlevered beta of Radhika Jeweltech Limited is 0.06905957449401437\n",
            "Unlevered beta of Thangamayil Jewellery Limited is 0.23841129038654862\n",
            "Unlevered beta of Goldiam International Limited is 1.0064966710140113\n"
          ]
        }
      ]
    },
    {
      "cell_type": "markdown",
      "source": [
        "#-*Unlevered beta of Darshan Orna Limited is 0.291.*\n",
        "\n",
        "#-*Unlevered beta of Radhika Jeweltech Limited is 0.069.*\n",
        "\n",
        "#-*Unlevered beta of Thangamayil Jewellery Limited is 0.238.*\n",
        "\n",
        "#-*Unlevered beta of Goldiam International Limited is 1.006.*"
      ],
      "metadata": {
        "id": "SXC7-FAPdXGf"
      }
    },
    {
      "cell_type": "code",
      "source": [
        "\"\"\"relever_beta function is called to relever the beta of a company through \n",
        "  comparable co.s\"\"\"\n",
        "dol_data = relever_beta(dol_data, rjl_data, tjl_data, gil_data, T)\n",
        "rjl_data = relever_beta(rjl_data, dol_data, tjl_data, gil_data, T)\n",
        "tjl_data = relever_beta(tjl_data, dol_data, rjl_data, gil_data, T)\n",
        "gil_data = relever_beta(gil_data, dol_data, rjl_data, tjl_data, T)"
      ],
      "metadata": {
        "colab": {
          "base_uri": "https://localhost:8080/"
        },
        "id": "JkasTARS9qLR",
        "outputId": "91d55b72-cb82-420d-8012-31119972d022"
      },
      "execution_count": null,
      "outputs": [
        {
          "output_type": "stream",
          "name": "stdout",
          "text": [
            "Relevered beta of Darshan Orna Limited is 0.44032475620132516\n",
            "Relevered beta of Radhika Jeweltech Limited is 1.675924819271497\n",
            "Relevered beta of Thangamayil Jewellery Limited is 3.1650563345190466\n",
            "Relevered beta of Goldiam International Limited is 0.25785538125585344\n"
          ]
        }
      ]
    },
    {
      "cell_type": "markdown",
      "source": [
        "#-*Relevered beta of Darshan Orna Limited is 0.440.*\n",
        "\n",
        "#-*Relevered beta of Radhika Jeweltech Limited is 1.676.*\n",
        "\n",
        "#-*Relevered beta of Thangamayil Jewellery Limited is 3.165.*\n",
        "\n",
        "#-*Relevered beta of Goldiam International Limited is 0.258.*"
      ],
      "metadata": {
        "id": "OnCEMRuneViw"
      }
    },
    {
      "cell_type": "code",
      "source": [
        "\"\"\"cost_of_equity_bottom_up function is called to calculate cost of equity \n",
        "   capital(Rs) bottom-up approach\"\"\"\n",
        "dol_data = cost_of_equity_bottom_up(dol_data, Rm_Mean, Rf)\n",
        "rjl_data = cost_of_equity_bottom_up(rjl_data, Rm_Mean, Rf)\n",
        "tjl_data = cost_of_equity_bottom_up(tjl_data, Rm_Mean, Rf)\n",
        "gil_data = cost_of_equity_bottom_up(gil_data, Rm_Mean, Rf)"
      ],
      "metadata": {
        "colab": {
          "base_uri": "https://localhost:8080/"
        },
        "id": "4lpp9bOV9qC9",
        "outputId": "48f9577f-7154-4184-8a8e-f6ad8094f85c"
      },
      "execution_count": null,
      "outputs": [
        {
          "output_type": "stream",
          "name": "stdout",
          "text": [
            "Bottom-Up Cost of Equity Capital(Rs) of Darshan Orna Limited is 8.424989977834626%\n",
            "Bottom-Up Cost of Equity Capital(Rs) of Radhika Jeweltech Limited is 14.733098979826774%\n",
            "Bottom-Up Cost of Equity Capital(Rs) of Thangamayil Jewellery Limited is 22.335562104620088%\n",
            "Bottom-Up Cost of Equity Capital(Rs) of Goldiam International Limited is 7.4934290779255095%\n"
          ]
        }
      ]
    },
    {
      "cell_type": "markdown",
      "source": [
        "#-   *Bottom-Up Cost of Equity Capital(Rs) of Darshan Orna Limited is 8.425%.*\n",
        "\n",
        "#-   *Bottom-Up Cost of Equity Capital(Rs) of Radhika Jeweltech Limited is 14.733%.*\n",
        "\n",
        "#-   *Bottom-Up Cost of Equity Capital(Rs) of Thangamayil Jewellery Limited is 22.336%.*\n",
        "\n",
        "#-  *Bottom-Up Cost of Equity Capital(Rs) of Goldiam International Limited is 7.493%.*"
      ],
      "metadata": {
        "id": "3ZvPKOS3H_gD"
      }
    },
    {
      "cell_type": "code",
      "source": [
        "#cost_of_debt function is called to calculate cost of debt (Rb)\n",
        "dol_data = cost_of_debt(dol_data, Rf)\n",
        "rjl_data = cost_of_debt(rjl_data, Rf)\n",
        "tjl_data = cost_of_debt(tjl_data, Rf)\n",
        "gil_data = cost_of_debt(gil_data, Rf)"
      ],
      "metadata": {
        "id": "ZeP2909ewm48",
        "colab": {
          "base_uri": "https://localhost:8080/"
        },
        "outputId": "3a70b8a4-9e67-45ac-ecb1-48e62fe0aa81"
      },
      "execution_count": null,
      "outputs": [
        {
          "output_type": "stream",
          "name": "stdout",
          "text": [
            "Cost of Debt(Rb) Darshan Orna Limited is 6.927%\n",
            "Cost of Debt(Rb) Radhika Jeweltech Limited is 6.927%\n",
            "Cost of Debt(Rb) Thangamayil Jewellery Limited is 7.177%\n",
            "Cost of Debt(Rb) Goldiam International Limited is 6.927%\n"
          ]
        }
      ]
    },
    {
      "cell_type": "markdown",
      "source": [
        "# -   *Cost of Debt(Rb) of Darshan Orna Limited is 6.927%.*\n",
        "\n",
        "# -   *Cost of Debt(Rb) of Radhika Jeweltech Limited is 6.927%.*\n",
        "\n",
        "# -   *Cost of Debt(Rb) of Thangamayil Jewellery Limited is 7.177%.*\n",
        "\n",
        "# -   *Cost of Debt(Rb) of Goldiam International Limited is 6.927%.*"
      ],
      "metadata": {
        "id": "YGjdL3TAIssO"
      }
    },
    {
      "cell_type": "code",
      "source": [
        "#cost_of_capital function is used to calculate WACC\n",
        "dol_data = cost_of_capital(dol_data, T)\n",
        "rjl_data = cost_of_capital(rjl_data, T)\n",
        "tjl_data = cost_of_capital(tjl_data, T)\n",
        "gil_data = cost_of_capital(gil_data, T)"
      ],
      "metadata": {
        "colab": {
          "base_uri": "https://localhost:8080/"
        },
        "id": "pC_JDchcKSPP",
        "outputId": "61b0062e-e66a-4888-c3ce-8bcf5a0e52cf"
      },
      "execution_count": null,
      "outputs": [
        {
          "output_type": "stream",
          "name": "stdout",
          "text": [
            "Cost of Capital Darshan Orna Limited is 8.40218864141193%\n",
            "Cost of Capital Radhika Jeweltech Limited is 7.561933078265745%\n",
            "Cost of Capital Thangamayil Jewellery Limited is 7.281592218004912%\n",
            "Cost of Capital Goldiam International Limited is 6.850030795334719%\n"
          ]
        }
      ]
    },
    {
      "cell_type": "markdown",
      "source": [
        "# -   *Cost of Capital/Hurdle Rate(WACC) of Darshan Orna Limited is 8.402%.*\n",
        "\n",
        "# -   *Cost of Capital of Radhika Jeweltech Limited is 7.562%.*\n",
        "\n",
        "# -   *Cost of Capital of Thangamayil Jewellery Limited is 7.282%.*\n",
        "\n",
        "# -   *Cost of Capital of Goldiam International Limited is 6.850%.*"
      ],
      "metadata": {
        "id": "OuYKl4pERwMJ"
      }
    },
    {
      "cell_type": "markdown",
      "source": [
        "##References: \" https://finance.yahoo.com/ \""
      ],
      "metadata": {
        "id": "dq_6X5aIBLmW"
      }
    }
  ],
  "metadata": {
    "colab": {
      "name": "Financial_Management_Assignment_2_Group_3.ipynb",
      "provenance": [],
      "collapsed_sections": [],
      "include_colab_link": true
    },
    "kernelspec": {
      "display_name": "Python 3",
      "name": "python3"
    },
    "language_info": {
      "name": "python"
    }
  },
  "nbformat": 4,
  "nbformat_minor": 0
}